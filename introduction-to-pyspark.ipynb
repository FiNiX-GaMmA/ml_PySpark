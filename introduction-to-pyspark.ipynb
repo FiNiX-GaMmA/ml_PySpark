{
 "cells": [
  {
   "cell_type": "markdown",
   "id": "53780a5c",
   "metadata": {
    "_cell_guid": "b1076dfc-b9ad-4769-8c92-a6c4dae69d19",
    "_uuid": "8f2839f25d086af736a60e9eeb907d3b93b6e0e5",
    "execution": {
     "iopub.execute_input": "2023-11-28T05:01:49.264367Z",
     "iopub.status.busy": "2023-11-28T05:01:49.263930Z",
     "iopub.status.idle": "2023-11-28T05:01:49.538402Z",
     "shell.execute_reply": "2023-11-28T05:01:49.537762Z",
     "shell.execute_reply.started": "2023-11-28T05:01:49.264339Z"
    },
    "papermill": {
     "duration": 0.012498,
     "end_time": "2023-11-28T11:34:16.422887",
     "exception": false,
     "start_time": "2023-11-28T11:34:16.410389",
     "status": "completed"
    },
    "tags": []
   },
   "source": [
    "# Basic understanding of PySpark"
   ]
  },
  {
   "cell_type": "markdown",
   "id": "c9a178bf",
   "metadata": {
    "papermill": {
     "duration": 0.011799,
     "end_time": "2023-11-28T11:34:16.447421",
     "exception": false,
     "start_time": "2023-11-28T11:34:16.435622",
     "status": "completed"
    },
    "tags": []
   },
   "source": [
    "### Installing the latest pyspark version"
   ]
  },
  {
   "cell_type": "code",
   "execution_count": 1,
   "id": "6c26d8d2",
   "metadata": {
    "execution": {
     "iopub.execute_input": "2023-11-28T11:34:16.473785Z",
     "iopub.status.busy": "2023-11-28T11:34:16.473354Z",
     "iopub.status.idle": "2023-11-28T11:35:10.866101Z",
     "shell.execute_reply": "2023-11-28T11:35:10.864616Z"
    },
    "papermill": {
     "duration": 54.41115,
     "end_time": "2023-11-28T11:35:10.870712",
     "exception": false,
     "start_time": "2023-11-28T11:34:16.459562",
     "status": "completed"
    },
    "tags": []
   },
   "outputs": [
    {
     "name": "stdout",
     "output_type": "stream",
     "text": [
      "Collecting pyspark\r\n",
      "  Downloading pyspark-3.5.0.tar.gz (316.9 MB)\r\n",
      "\u001b[2K     \u001b[90m━━━━━━━━━━━━━━━━━━━━━━━━━━━━━━━━━━━━━━━\u001b[0m \u001b[32m316.9/316.9 MB\u001b[0m \u001b[31m3.4 MB/s\u001b[0m eta \u001b[36m0:00:00\u001b[0m\r\n",
      "\u001b[?25h  Preparing metadata (setup.py) ... \u001b[?25l-\b \b\\\b \bdone\r\n",
      "\u001b[?25hRequirement already satisfied: py4j==0.10.9.7 in /opt/conda/lib/python3.10/site-packages (from pyspark) (0.10.9.7)\r\n",
      "Building wheels for collected packages: pyspark\r\n",
      "  Building wheel for pyspark (setup.py) ... \u001b[?25l-\b \b\\\b \b|\b \bdone\r\n",
      "\u001b[?25h  Created wheel for pyspark: filename=pyspark-3.5.0-py2.py3-none-any.whl size=317425344 sha256=ee7a1f8cad1e4c7465639554251ddc8ab65b35372583988988f1800af9a764fc\r\n",
      "  Stored in directory: /root/.cache/pip/wheels/41/4e/10/c2cf2467f71c678cfc8a6b9ac9241e5e44a01940da8fbb17fc\r\n",
      "Successfully built pyspark\r\n",
      "Installing collected packages: pyspark\r\n",
      "Successfully installed pyspark-3.5.0\r\n"
     ]
    }
   ],
   "source": [
    "!pip install pyspark"
   ]
  },
  {
   "cell_type": "markdown",
   "id": "41465b61",
   "metadata": {
    "papermill": {
     "duration": 0.022726,
     "end_time": "2023-11-28T11:35:10.922154",
     "exception": false,
     "start_time": "2023-11-28T11:35:10.899428",
     "status": "completed"
    },
    "tags": []
   },
   "source": [
    "## Importing the PySpark to work with the modules\n",
    "\n",
    "- `SparkContext` is the _entry point_ to any <u>Spark functionality</u>. It represents the connection to a Spark cluster and can be used to create **RDDs** (Resilient Distributed Datasets) and broadcast variables on that cluster.\n",
    "\n",
    "- `SparkSession` is the _entry point_ to use DataFrame and SQL functionality in Spark. It provides a way to interact with various data sources (like Parquet, Avro, JSON, etc.) in a tabular form"
   ]
  },
  {
   "cell_type": "code",
   "execution_count": 2,
   "id": "3e6c9691",
   "metadata": {
    "execution": {
     "iopub.execute_input": "2023-11-28T11:35:10.972527Z",
     "iopub.status.busy": "2023-11-28T11:35:10.972063Z",
     "iopub.status.idle": "2023-11-28T11:35:11.066916Z",
     "shell.execute_reply": "2023-11-28T11:35:11.065734Z"
    },
    "papermill": {
     "duration": 0.122487,
     "end_time": "2023-11-28T11:35:11.070145",
     "exception": false,
     "start_time": "2023-11-28T11:35:10.947658",
     "status": "completed"
    },
    "tags": []
   },
   "outputs": [],
   "source": [
    "try:\n",
    "    from pyspark import SparkContext, SparkConf\n",
    "    from pyspark.sql import SparkSession\n",
    "except ImportError as e:\n",
    "    print(e)\n",
    "    printmd('<<<<<!!!!! Please restart your kernel after installing Apache Spark !!!!!>>>>>')"
   ]
  },
  {
   "cell_type": "markdown",
   "id": "9223f3cc",
   "metadata": {
    "papermill": {
     "duration": 0.022464,
     "end_time": "2023-11-28T11:35:11.115823",
     "exception": false,
     "start_time": "2023-11-28T11:35:11.093359",
     "status": "completed"
    },
    "tags": []
   },
   "source": [
    "1. `SparkContext.getOrCreate()` tries to get an existing SparkContext or creates a new one if it doesn't exist. The SparkConf().setMaster(\"local[*]\") part specifies that Spark should run in **local mode** using all <u>available CPU cores ([*])</u>. In local mode, Spark runs on a single machine, which is useful for development and testing.\n",
    "2. `SparkSession.builder.getOrCreate()` follows a similar pattern as `SparkContext.getOrCreate()`. It tries to get an existing SparkSession or creates a new one if it doesn't exist. The `SparkSession` is the <u>unified entry point for reading data, executing SQL queries, and performing other Spark operations using the DataFrame API.</u>"
   ]
  },
  {
   "cell_type": "code",
   "execution_count": 3,
   "id": "af647880",
   "metadata": {
    "execution": {
     "iopub.execute_input": "2023-11-28T11:35:11.164174Z",
     "iopub.status.busy": "2023-11-28T11:35:11.163455Z",
     "iopub.status.idle": "2023-11-28T11:35:17.289434Z",
     "shell.execute_reply": "2023-11-28T11:35:17.288398Z"
    },
    "papermill": {
     "duration": 6.154037,
     "end_time": "2023-11-28T11:35:17.292781",
     "exception": false,
     "start_time": "2023-11-28T11:35:11.138744",
     "status": "completed"
    },
    "tags": []
   },
   "outputs": [
    {
     "name": "stderr",
     "output_type": "stream",
     "text": [
      "Setting default log level to \"WARN\".\n",
      "To adjust logging level use sc.setLogLevel(newLevel). For SparkR, use setLogLevel(newLevel).\n",
      "23/11/28 11:35:15 WARN NativeCodeLoader: Unable to load native-hadoop library for your platform... using builtin-java classes where applicable\n"
     ]
    }
   ],
   "source": [
    "# Create a SparkContext if it doesn't exist, using a local master URL\n",
    "sc = SparkContext.getOrCreate(SparkConf().setMaster(\"local[*]\"))\n",
    "\n",
    "# Create a SparkSession if it doesn't exist\n",
    "spark = SparkSession.builder.getOrCreate()"
   ]
  },
  {
   "cell_type": "markdown",
   "id": "1310c7af",
   "metadata": {
    "papermill": {
     "duration": 0.022987,
     "end_time": "2023-11-28T11:35:17.338694",
     "exception": false,
     "start_time": "2023-11-28T11:35:17.315707",
     "status": "completed"
    },
    "tags": []
   },
   "source": [
    "Creating an RDD (Resilient Distributed Dataset) using the parallelize method of the SparkContext (sc). Let me break down what this line does:\n",
    "\n",
    "   - `range(100)`: This creates a Python list containing numbers from 0 to 99.\n",
    "\n",
    "   - `sc.parallelize(range(100))`: This takes that Python list and distributes it across the Spark cluster, creating an RDD. The RDD is a fault-tolerant collection of elements that can be processed in parallel.\n",
    "\n",
    "So, the rdd variable now represents a distributed collection of numbers from 0 to 99. Each element of the RDD is stored on a different partition of the cluster, and Spark can perform operations on these partitions in parallel."
   ]
  },
  {
   "cell_type": "code",
   "execution_count": 4,
   "id": "f6d53df8",
   "metadata": {
    "execution": {
     "iopub.execute_input": "2023-11-28T11:35:17.386871Z",
     "iopub.status.busy": "2023-11-28T11:35:17.386470Z",
     "iopub.status.idle": "2023-11-28T11:35:17.789366Z",
     "shell.execute_reply": "2023-11-28T11:35:17.788405Z"
    },
    "papermill": {
     "duration": 0.430551,
     "end_time": "2023-11-28T11:35:17.792128",
     "exception": false,
     "start_time": "2023-11-28T11:35:17.361577",
     "status": "completed"
    },
    "tags": []
   },
   "outputs": [],
   "source": [
    "rdd = sc.parallelize(range(100))"
   ]
  },
  {
   "cell_type": "markdown",
   "id": "69bab599",
   "metadata": {
    "papermill": {
     "duration": 0.022637,
     "end_time": "2023-11-28T11:35:17.837939",
     "exception": false,
     "start_time": "2023-11-28T11:35:17.815302",
     "status": "completed"
    },
    "tags": []
   },
   "source": [
    "The `take` action in Spark is used to retrieve the **first N elements** from an RDD or DataFrame. "
   ]
  },
  {
   "cell_type": "code",
   "execution_count": 5,
   "id": "a8887a13",
   "metadata": {
    "execution": {
     "iopub.execute_input": "2023-11-28T11:35:17.886408Z",
     "iopub.status.busy": "2023-11-28T11:35:17.885967Z",
     "iopub.status.idle": "2023-11-28T11:35:20.271674Z",
     "shell.execute_reply": "2023-11-28T11:35:20.270468Z"
    },
    "papermill": {
     "duration": 2.415069,
     "end_time": "2023-11-28T11:35:20.276131",
     "exception": false,
     "start_time": "2023-11-28T11:35:17.861062",
     "status": "completed"
    },
    "tags": []
   },
   "outputs": [
    {
     "name": "stderr",
     "output_type": "stream",
     "text": [
      "                                                                                \r"
     ]
    },
    {
     "data": {
      "text/plain": [
       "[0, 1, 2, 3, 4, 5, 6, 7, 8, 9]"
      ]
     },
     "execution_count": 5,
     "metadata": {},
     "output_type": "execute_result"
    }
   ],
   "source": [
    "rdd.take(10) #note the as an array the rdd contains number from 0 to (n-1)"
   ]
  },
  {
   "cell_type": "markdown",
   "id": "18646ad4",
   "metadata": {
    "papermill": {
     "duration": 0.023363,
     "end_time": "2023-11-28T11:35:20.325080",
     "exception": false,
     "start_time": "2023-11-28T11:35:20.301717",
     "status": "completed"
    },
    "tags": []
   },
   "source": [
    "## Functional Programming"
   ]
  },
  {
   "cell_type": "markdown",
   "id": "c93ff3d2",
   "metadata": {
    "papermill": {
     "duration": 0.090987,
     "end_time": "2023-11-28T11:35:20.439387",
     "exception": false,
     "start_time": "2023-11-28T11:35:20.348400",
     "status": "completed"
    },
    "tags": []
   },
   "source": [
    "A python function which decides whether a value is greater than 50 (**True**) or not (**False**)."
   ]
  },
  {
   "cell_type": "code",
   "execution_count": 6,
   "id": "69fdb3f7",
   "metadata": {
    "execution": {
     "iopub.execute_input": "2023-11-28T11:35:20.488689Z",
     "iopub.status.busy": "2023-11-28T11:35:20.488285Z",
     "iopub.status.idle": "2023-11-28T11:35:20.495111Z",
     "shell.execute_reply": "2023-11-28T11:35:20.493885Z"
    },
    "papermill": {
     "duration": 0.034811,
     "end_time": "2023-11-28T11:35:20.497890",
     "exception": false,
     "start_time": "2023-11-28T11:35:20.463079",
     "status": "completed"
    },
    "tags": []
   },
   "outputs": [
    {
     "name": "stdout",
     "output_type": "stream",
     "text": [
      "False\n",
      "True\n"
     ]
    }
   ],
   "source": [
    "def gt50(i):\n",
    "    return i > 50\n",
    "\n",
    "print(gt50(4))\n",
    "print(gt50(51))"
   ]
  },
  {
   "cell_type": "markdown",
   "id": "c79233f1",
   "metadata": {
    "papermill": {
     "duration": 0.023127,
     "end_time": "2023-11-28T11:35:20.544598",
     "exception": false,
     "start_time": "2023-11-28T11:35:20.521471",
     "status": "completed"
    },
    "tags": []
   },
   "source": [
    "Writing the above function but by lambda function\n",
    "\n",
    "This line of code defines a lambda function (lambda) named gt25. The lambda function takes a single argument `i` and returns a _Boolean value (True or False)_. In this case, the lambda function checks whether the input i is greater than 25.\n",
    "\n",
    "So, you can interpret this as follows: **gt25 is a function that, when given a value i, returns True if i is greater than 25 and False otherwise.**"
   ]
  },
  {
   "cell_type": "code",
   "execution_count": 7,
   "id": "46bd66cd",
   "metadata": {
    "execution": {
     "iopub.execute_input": "2023-11-28T11:35:20.594440Z",
     "iopub.status.busy": "2023-11-28T11:35:20.593519Z",
     "iopub.status.idle": "2023-11-28T11:35:20.600279Z",
     "shell.execute_reply": "2023-11-28T11:35:20.599015Z"
    },
    "papermill": {
     "duration": 0.034371,
     "end_time": "2023-11-28T11:35:20.602728",
     "exception": false,
     "start_time": "2023-11-28T11:35:20.568357",
     "status": "completed"
    },
    "tags": []
   },
   "outputs": [
    {
     "name": "stdout",
     "output_type": "stream",
     "text": [
      "False\n",
      "True\n"
     ]
    }
   ],
   "source": [
    "gt25 = lambda i: i > 25\n",
    "\n",
    "print(gt25(4))\n",
    "print(gt25(51))"
   ]
  },
  {
   "cell_type": "markdown",
   "id": "cb612cab",
   "metadata": {
    "papermill": {
     "duration": 0.023206,
     "end_time": "2023-11-28T11:35:20.649679",
     "exception": false,
     "start_time": "2023-11-28T11:35:20.626473",
     "status": "completed"
    },
    "tags": []
   },
   "source": [
    "### Shuffling the RDD\n",
    "\n",
    "`l = list(range(100))`: Creates a list containing numbers from 0 to 99. This is a simple way to generate a list with sequential integers.\n",
    "\n",
    "`shuffle(l)`: Uses the shuffle function from the random module to randomly shuffle the elements of the list l. This step is intended to randomize the order of the numbers in the list.\n",
    "\n",
    "`sc.parallelize(l)`: Creates an RDD named rdd from the shuffled list l. The parallelize method of the SparkContext (sc) is used to distribute the elements of the list across the nodes of the Spark cluster. This RDD can then be used for parallel processing using Spark.\n",
    "\n",
    "So, after running this code, the _rdd_ variable holds a distributed representation of the shuffled list, and the elements are distributed across the nodes of the Spark cluster. "
   ]
  },
  {
   "cell_type": "code",
   "execution_count": 8,
   "id": "14320442",
   "metadata": {
    "execution": {
     "iopub.execute_input": "2023-11-28T11:35:20.699278Z",
     "iopub.status.busy": "2023-11-28T11:35:20.698881Z",
     "iopub.status.idle": "2023-11-28T11:35:20.708158Z",
     "shell.execute_reply": "2023-11-28T11:35:20.707339Z"
    },
    "papermill": {
     "duration": 0.037024,
     "end_time": "2023-11-28T11:35:20.710569",
     "exception": false,
     "start_time": "2023-11-28T11:35:20.673545",
     "status": "completed"
    },
    "tags": []
   },
   "outputs": [],
   "source": [
    "from random import shuffle\n",
    "\n",
    "# Create a list containing numbers from 0 to 99\n",
    "l = list(range(100))\n",
    "\n",
    "# Shuffle the list randomly\n",
    "shuffle(l)\n",
    "\n",
    "# Create an RDD (Resilient Distributed Dataset) from the shuffled list\n",
    "rdd = sc.parallelize(l)\n"
   ]
  },
  {
   "cell_type": "markdown",
   "id": "31734b03",
   "metadata": {
    "papermill": {
     "duration": 0.023431,
     "end_time": "2023-11-28T11:35:20.757531",
     "exception": false,
     "start_time": "2023-11-28T11:35:20.734100",
     "status": "completed"
    },
    "tags": []
   },
   "source": [
    "Filtering values from our list which are equals or less than 50 by applying the “gt50” function to the list using the “filter” function. \n",
    "**Note that by calling the “collect” function, all elements are returned to the Apache Spark Driver. This is not a good idea for BigData, please use “.sample(10,0.1).collect()” or “take(n)” instead. beacuse collect can be resource-intensive, especially if the RDD is large, as it brings all the data back to the driver program.**"
   ]
  },
  {
   "cell_type": "code",
   "execution_count": 9,
   "id": "0f152017",
   "metadata": {
    "execution": {
     "iopub.execute_input": "2023-11-28T11:35:20.808622Z",
     "iopub.status.busy": "2023-11-28T11:35:20.807203Z",
     "iopub.status.idle": "2023-11-28T11:35:21.108013Z",
     "shell.execute_reply": "2023-11-28T11:35:21.106873Z"
    },
    "papermill": {
     "duration": 0.32988,
     "end_time": "2023-11-28T11:35:21.110773",
     "exception": false,
     "start_time": "2023-11-28T11:35:20.780893",
     "status": "completed"
    },
    "tags": []
   },
   "outputs": [
    {
     "data": {
      "text/plain": [
       "[77, 64, 51, 84, 56, 68, 85, 58, 67, 65]"
      ]
     },
     "execution_count": 9,
     "metadata": {},
     "output_type": "execute_result"
    }
   ],
   "source": [
    "# rdd.filter(gt50).collect() #we can use collect but following the best practice\n",
    "rdd.filter(gt50).take(10)"
   ]
  },
  {
   "cell_type": "markdown",
   "id": "e78db29c",
   "metadata": {
    "papermill": {
     "duration": 0.023955,
     "end_time": "2023-11-28T11:35:21.159594",
     "exception": false,
     "start_time": "2023-11-28T11:35:21.135639",
     "status": "completed"
    },
    "tags": []
   },
   "source": [
    "sample(10, 0.1): This is another transformation, specifically the sample transformation. It is used to create a random sample of the elements in the RDD. The parameters are:\n",
    "\n",
    "`10`: The number of elements to include in the sample.\n",
    "`0.1`: The sampling fraction, representing the probability that each element is included in the sample. In this case, it's set to 0.1, meaning there's a 10% chance of including each element in the sample.\n",
    "\n",
    "Note that the result of this operation doesn't directly give you a collection of elements; instead, it returns a new RDD that represents the sampled subset of the filtered data."
   ]
  },
  {
   "cell_type": "code",
   "execution_count": 10,
   "id": "3e52886d",
   "metadata": {
    "execution": {
     "iopub.execute_input": "2023-11-28T11:35:21.211494Z",
     "iopub.status.busy": "2023-11-28T11:35:21.210558Z",
     "iopub.status.idle": "2023-11-28T11:35:22.029938Z",
     "shell.execute_reply": "2023-11-28T11:35:22.028515Z"
    },
    "papermill": {
     "duration": 0.849042,
     "end_time": "2023-11-28T11:35:22.033301",
     "exception": false,
     "start_time": "2023-11-28T11:35:21.184259",
     "status": "completed"
    },
    "tags": []
   },
   "outputs": [
    {
     "data": {
      "text/plain": [
       "[85, 71, 88]"
      ]
     },
     "execution_count": 10,
     "metadata": {},
     "output_type": "execute_result"
    }
   ],
   "source": [
    "sample = rdd.filter(gt50).sample(10, 0.1).take(10)\n",
    "sample"
   ]
  },
  {
   "cell_type": "code",
   "execution_count": 11,
   "id": "b37d19ab",
   "metadata": {
    "execution": {
     "iopub.execute_input": "2023-11-28T11:35:22.096217Z",
     "iopub.status.busy": "2023-11-28T11:35:22.095791Z",
     "iopub.status.idle": "2023-11-28T11:35:22.120084Z",
     "shell.execute_reply": "2023-11-28T11:35:22.118681Z"
    },
    "papermill": {
     "duration": 0.054617,
     "end_time": "2023-11-28T11:35:22.122910",
     "exception": false,
     "start_time": "2023-11-28T11:35:22.068293",
     "status": "completed"
    },
    "tags": []
   },
   "outputs": [
    {
     "data": {
      "text/plain": [
       "PythonRDD[6] at RDD at PythonRDD.scala:53"
      ]
     },
     "execution_count": 11,
     "metadata": {},
     "output_type": "execute_result"
    }
   ],
   "source": [
    "# trying with sample api\n",
    "rdd.filter(gt50).sample(10,0.1)"
   ]
  },
  {
   "cell_type": "code",
   "execution_count": 12,
   "id": "93354cc6",
   "metadata": {
    "execution": {
     "iopub.execute_input": "2023-11-28T11:35:22.175949Z",
     "iopub.status.busy": "2023-11-28T11:35:22.175022Z",
     "iopub.status.idle": "2023-11-28T11:35:22.473201Z",
     "shell.execute_reply": "2023-11-28T11:35:22.472365Z"
    },
    "papermill": {
     "duration": 0.326932,
     "end_time": "2023-11-28T11:35:22.475663",
     "exception": false,
     "start_time": "2023-11-28T11:35:22.148731",
     "status": "completed"
    },
    "tags": []
   },
   "outputs": [
    {
     "data": {
      "text/plain": [
       "[77, 64, 51, 84, 56, 68, 85, 58, 67, 65]"
      ]
     },
     "execution_count": 12,
     "metadata": {},
     "output_type": "execute_result"
    }
   ],
   "source": [
    "rdd.filter(lambda i: i > 50).take(10) #running the same code but with a lambda function"
   ]
  },
  {
   "cell_type": "markdown",
   "id": "cdf6f1db",
   "metadata": {
    "papermill": {
     "duration": 0.028323,
     "end_time": "2023-11-28T11:35:22.530291",
     "exception": false,
     "start_time": "2023-11-28T11:35:22.501968",
     "status": "completed"
    },
    "tags": []
   },
   "source": [
    "Let’s consider the same list of integers. Now we want to compute the sum for elements in that list which are greater than 50 but less than 75. Please implement the missing parts. \n",
    "\n",
    "`rdd.filter(lambda x: $$).filter(lambda x: $$).$$()`"
   ]
  },
  {
   "cell_type": "code",
   "execution_count": 13,
   "id": "9c383098",
   "metadata": {
    "execution": {
     "iopub.execute_input": "2023-11-28T11:35:22.601654Z",
     "iopub.status.busy": "2023-11-28T11:35:22.600860Z",
     "iopub.status.idle": "2023-11-28T11:35:23.237233Z",
     "shell.execute_reply": "2023-11-28T11:35:23.236379Z"
    },
    "papermill": {
     "duration": 0.676153,
     "end_time": "2023-11-28T11:35:23.239826",
     "exception": false,
     "start_time": "2023-11-28T11:35:22.563673",
     "status": "completed"
    },
    "tags": []
   },
   "outputs": [
    {
     "data": {
      "text/plain": [
       "[64, 51, 56, 68, 58, 67, 65, 70, 54, 74]"
      ]
     },
     "execution_count": 13,
     "metadata": {},
     "output_type": "execute_result"
    }
   ],
   "source": [
    "rdd.filter(lambda x: x > 50 and x < 75).take(10) # shortened the code but doing that in one filter function"
   ]
  },
  {
   "cell_type": "markdown",
   "id": "c6cd62f0",
   "metadata": {
    "papermill": {
     "duration": 0.024295,
     "end_time": "2023-11-28T11:35:23.288451",
     "exception": false,
     "start_time": "2023-11-28T11:35:23.264156",
     "status": "completed"
    },
    "tags": []
   },
   "source": [
    "## Working with the statistical parameters"
   ]
  },
  {
   "cell_type": "markdown",
   "id": "1d87ed78",
   "metadata": {
    "papermill": {
     "duration": 0.02435,
     "end_time": "2023-11-28T11:35:23.337910",
     "exception": false,
     "start_time": "2023-11-28T11:35:23.313560",
     "status": "completed"
    },
    "tags": []
   },
   "source": [
    "### 1. First statistical moment ------> Mean and Median"
   ]
  },
  {
   "cell_type": "code",
   "execution_count": 14,
   "id": "1c123600",
   "metadata": {
    "execution": {
     "iopub.execute_input": "2023-11-28T11:35:23.389773Z",
     "iopub.status.busy": "2023-11-28T11:35:23.388983Z",
     "iopub.status.idle": "2023-11-28T11:35:23.409823Z",
     "shell.execute_reply": "2023-11-28T11:35:23.408619Z"
    },
    "papermill": {
     "duration": 0.050031,
     "end_time": "2023-11-28T11:35:23.412588",
     "exception": false,
     "start_time": "2023-11-28T11:35:23.362557",
     "status": "completed"
    },
    "tags": []
   },
   "outputs": [],
   "source": [
    "try:\n",
    "    from pyspark import SparkContext, SparkConf\n",
    "    from pyspark.sql import SparkSession\n",
    "except ImportError as e:\n",
    "    print(e)\n",
    "    \n",
    "# Create a SparkContext if it doesn't exist, using a local master URL\n",
    "sc = SparkContext.getOrCreate(SparkConf().setMaster(\"local[*]\"))\n",
    "\n",
    "# Create a SparkSession if it doesn't exist\n",
    "spark = SparkSession.builder.getOrCreate()\n",
    "\n",
    "\n",
    "rdd = sc.parallelize(range(100))"
   ]
  },
  {
   "cell_type": "markdown",
   "id": "f2893d33",
   "metadata": {
    "papermill": {
     "duration": 0.029555,
     "end_time": "2023-11-28T11:35:23.466957",
     "exception": false,
     "start_time": "2023-11-28T11:35:23.437402",
     "status": "completed"
    },
    "tags": []
   },
   "source": [
    "### Mean is calculated by using this formula\n",
    "$$\n",
    "\\bar{x} = \\frac{1}{n} \\sum_{i=1}^{n} x_i\n",
    "$$\n"
   ]
  },
  {
   "cell_type": "code",
   "execution_count": 15,
   "id": "b620878b",
   "metadata": {
    "execution": {
     "iopub.execute_input": "2023-11-28T11:35:23.523654Z",
     "iopub.status.busy": "2023-11-28T11:35:23.522909Z",
     "iopub.status.idle": "2023-11-28T11:35:24.865798Z",
     "shell.execute_reply": "2023-11-28T11:35:24.864377Z"
    },
    "papermill": {
     "duration": 1.372325,
     "end_time": "2023-11-28T11:35:24.869348",
     "exception": false,
     "start_time": "2023-11-28T11:35:23.497023",
     "status": "completed"
    },
    "tags": []
   },
   "outputs": [
    {
     "name": "stderr",
     "output_type": "stream",
     "text": [
      "                                                                                \r"
     ]
    },
    {
     "data": {
      "text/plain": [
       "49.5"
      ]
     },
     "execution_count": 15,
     "metadata": {},
     "output_type": "execute_result"
    }
   ],
   "source": [
    "sum = rdd.sum()  # does the summation of all the elements in the rdd\n",
    "n = rdd.count() #counts the number of elements in the RDD\n",
    "mean = sum/float(n) # calculating the x(bar)\n",
    "mean"
   ]
  },
  {
   "cell_type": "markdown",
   "id": "291d76c3",
   "metadata": {
    "papermill": {
     "duration": 0.024767,
     "end_time": "2023-11-28T11:35:24.924706",
     "exception": false,
     "start_time": "2023-11-28T11:35:24.899939",
     "status": "completed"
    },
    "tags": []
   },
   "source": [
    "### Median can be calculated in the following manner\n",
    "For odd \\( n \\):\n",
    "$$\n",
    "\\tilde{x} = x_{\\frac{n+1}{2}}\n",
    "$$\n",
    "\n",
    "For even \\( n \\):\n",
    "$$\n",
    "\\tilde{x} = \\frac{x_{\\frac{n}{2}} + x_{\\frac{n}{2}+1}}{2}\n",
    "$$"
   ]
  },
  {
   "cell_type": "code",
   "execution_count": 16,
   "id": "1d29a701",
   "metadata": {
    "execution": {
     "iopub.execute_input": "2023-11-28T11:35:24.976186Z",
     "iopub.status.busy": "2023-11-28T11:35:24.975801Z",
     "iopub.status.idle": "2023-11-28T11:35:29.497189Z",
     "shell.execute_reply": "2023-11-28T11:35:29.495656Z"
    },
    "papermill": {
     "duration": 4.550673,
     "end_time": "2023-11-28T11:35:29.500330",
     "exception": false,
     "start_time": "2023-11-28T11:35:24.949657",
     "status": "completed"
    },
    "tags": []
   },
   "outputs": [
    {
     "name": "stderr",
     "output_type": "stream",
     "text": [
      "                                                                                \r"
     ]
    },
    {
     "name": "stdout",
     "output_type": "stream",
     "text": [
      "49.5\n"
     ]
    }
   ],
   "source": [
    "sortedRDD = rdd.sortBy(lambda x : x).zipWithIndex().map(lambda item: (item[1], item[0]))\n",
    "n = sortedRDD.count()\n",
    "if (n%2 == 1):\n",
    "    index = (n-1)/2\n",
    "    print(sortedRDD.lookup(index))\n",
    "else:\n",
    "    index1 = n/2\n",
    "    index2 = (n/2)-1\n",
    "    value1 = sortedRDD.lookup(index1)[0]\n",
    "    value2 = sortedRDD.lookup(index2)[0]\n",
    "    print((value1+value2)/2.0)"
   ]
  },
  {
   "cell_type": "markdown",
   "id": "360bdab7",
   "metadata": {
    "papermill": {
     "duration": 0.025097,
     "end_time": "2023-11-28T11:35:29.558779",
     "exception": false,
     "start_time": "2023-11-28T11:35:29.533682",
     "status": "completed"
    },
    "tags": []
   },
   "source": [
    "## Now lets add outliers to the data and see the difference"
   ]
  },
  {
   "cell_type": "code",
   "execution_count": 17,
   "id": "9af8d8a1",
   "metadata": {
    "execution": {
     "iopub.execute_input": "2023-11-28T11:35:29.611902Z",
     "iopub.status.busy": "2023-11-28T11:35:29.611344Z",
     "iopub.status.idle": "2023-11-28T11:35:29.623015Z",
     "shell.execute_reply": "2023-11-28T11:35:29.621851Z"
    },
    "papermill": {
     "duration": 0.041832,
     "end_time": "2023-11-28T11:35:29.626174",
     "exception": false,
     "start_time": "2023-11-28T11:35:29.584342",
     "status": "completed"
    },
    "tags": []
   },
   "outputs": [],
   "source": [
    "rdd = sc.parallelize([101,102,10000,1023] + list(range(100)))"
   ]
  },
  {
   "cell_type": "code",
   "execution_count": 18,
   "id": "946fbb15",
   "metadata": {
    "execution": {
     "iopub.execute_input": "2023-11-28T11:35:29.700493Z",
     "iopub.status.busy": "2023-11-28T11:35:29.699450Z",
     "iopub.status.idle": "2023-11-28T11:35:33.797482Z",
     "shell.execute_reply": "2023-11-28T11:35:33.796323Z"
    },
    "papermill": {
     "duration": 4.139579,
     "end_time": "2023-11-28T11:35:33.801125",
     "exception": false,
     "start_time": "2023-11-28T11:35:29.661546",
     "status": "completed"
    },
    "tags": []
   },
   "outputs": [
    {
     "name": "stdout",
     "output_type": "stream",
     "text": [
      "51.5\n"
     ]
    }
   ],
   "source": [
    "sortedRDD = rdd.sortBy(lambda x : x).zipWithIndex().map(lambda item: (item[1], item[0]))\n",
    "n = sortedRDD.count()\n",
    "if (n%2 == 1):\n",
    "    index = (n-1)/2\n",
    "    print(sortedRDD.lookup(index))\n",
    "else:\n",
    "    index1 = n/2\n",
    "    index2 = (n/2)-1\n",
    "    value1 = sortedRDD.lookup(index1)[0]\n",
    "    value2 = sortedRDD.lookup(index2)[0]\n",
    "    print((value1+value2)/2.0)\n",
    "    \n",
    "    "
   ]
  },
  {
   "cell_type": "code",
   "execution_count": 19,
   "id": "d165aecc",
   "metadata": {
    "execution": {
     "iopub.execute_input": "2023-11-28T11:35:33.865734Z",
     "iopub.status.busy": "2023-11-28T11:35:33.865209Z",
     "iopub.status.idle": "2023-11-28T11:35:34.977256Z",
     "shell.execute_reply": "2023-11-28T11:35:34.976111Z"
    },
    "papermill": {
     "duration": 1.144806,
     "end_time": "2023-11-28T11:35:34.980571",
     "exception": false,
     "start_time": "2023-11-28T11:35:33.835765",
     "status": "completed"
    },
    "tags": []
   },
   "outputs": [
    {
     "data": {
      "text/plain": [
       "155.53846153846155"
      ]
     },
     "execution_count": 19,
     "metadata": {},
     "output_type": "execute_result"
    }
   ],
   "source": [
    "sum = rdd.sum()  # does the summation of all the elements in the rdd\n",
    "n = rdd.count() #counts the number of elements in the RDD\n",
    "mean = sum/float(n) # calculating the x(bar)\n",
    "mean"
   ]
  },
  {
   "cell_type": "markdown",
   "id": "53895038",
   "metadata": {
    "papermill": {
     "duration": 0.027672,
     "end_time": "2023-11-28T11:35:35.047027",
     "exception": false,
     "start_time": "2023-11-28T11:35:35.019355",
     "status": "completed"
    },
    "tags": []
   },
   "source": [
    "We can see that there are differences between the mean and the median when there are outliers\n",
    "\n",
    "**Thats why we prefer the median method which is resilient to the outliers**"
   ]
  },
  {
   "cell_type": "markdown",
   "id": "ae7cdccf",
   "metadata": {
    "papermill": {
     "duration": 0.025431,
     "end_time": "2023-11-28T11:35:35.098766",
     "exception": false,
     "start_time": "2023-11-28T11:35:35.073335",
     "status": "completed"
    },
    "tags": []
   },
   "source": [
    "### Standard Deviation\n",
    "\n",
    "The formula for the standard deviation (σσ) of a dataset is given by:\n",
    "$$\n",
    "\\sigma = \\sqrt{\\frac{\\sum_{i=1}^{n}(x_i - \\bar{x})^2}{n}}\n",
    "$$\n",
    "Here:\n",
    "\n",
    "- σσ represents the standard deviation.\n",
    "- nn is the number of observations in the dataset.\n",
    "- xixi​ represents each individual observation in the dataset.\n",
    "- xˉxˉ is the mean of the dataset."
   ]
  },
  {
   "cell_type": "code",
   "execution_count": 20,
   "id": "6c2f90f0",
   "metadata": {
    "execution": {
     "iopub.execute_input": "2023-11-28T11:35:35.153080Z",
     "iopub.status.busy": "2023-11-28T11:35:35.152686Z",
     "iopub.status.idle": "2023-11-28T11:35:35.167522Z",
     "shell.execute_reply": "2023-11-28T11:35:35.166466Z"
    },
    "papermill": {
     "duration": 0.045804,
     "end_time": "2023-11-28T11:35:35.170286",
     "exception": false,
     "start_time": "2023-11-28T11:35:35.124482",
     "status": "completed"
    },
    "tags": []
   },
   "outputs": [],
   "source": [
    "try:\n",
    "    from pyspark import SparkContext, SparkConf\n",
    "    from pyspark.sql import SparkSession\n",
    "except ImportError as e:\n",
    "    print(e)\n",
    "    \n",
    "# Create a SparkContext if it doesn't exist, using a local master URL\n",
    "sc = SparkContext.getOrCreate(SparkConf().setMaster(\"local[*]\"))\n",
    "\n",
    "# Create a SparkSession if it doesn't exist\n",
    "spark = SparkSession.builder.getOrCreate()\n",
    "\n",
    "\n",
    "rdd = sc.parallelize(range(100))"
   ]
  },
  {
   "cell_type": "markdown",
   "id": "1b00e839",
   "metadata": {
    "papermill": {
     "duration": 0.02677,
     "end_time": "2023-11-28T11:35:35.224942",
     "exception": false,
     "start_time": "2023-11-28T11:35:35.198172",
     "status": "completed"
    },
    "tags": []
   },
   "source": [
    "If we want to apply a function to the all the entries in the python then we should use `map`"
   ]
  },
  {
   "cell_type": "code",
   "execution_count": 21,
   "id": "912479b2",
   "metadata": {
    "execution": {
     "iopub.execute_input": "2023-11-28T11:35:35.278991Z",
     "iopub.status.busy": "2023-11-28T11:35:35.278560Z",
     "iopub.status.idle": "2023-11-28T11:35:36.494012Z",
     "shell.execute_reply": "2023-11-28T11:35:36.492784Z"
    },
    "papermill": {
     "duration": 1.246172,
     "end_time": "2023-11-28T11:35:36.497280",
     "exception": false,
     "start_time": "2023-11-28T11:35:35.251108",
     "status": "completed"
    },
    "tags": []
   },
   "outputs": [
    {
     "data": {
      "text/plain": [
       "28.86607004772212"
      ]
     },
     "execution_count": 21,
     "metadata": {},
     "output_type": "execute_result"
    }
   ],
   "source": [
    "import math\n",
    "\n",
    "mean = rdd.mean()\n",
    "n = rdd.count()\n",
    "standard_deviation = math.sqrt(rdd.map(lambda x: pow((x - mean), 2)).sum()/n)\n",
    "standard_deviation"
   ]
  },
  {
   "cell_type": "code",
   "execution_count": null,
   "id": "e123b9b9",
   "metadata": {
    "papermill": {
     "duration": 0.02687,
     "end_time": "2023-11-28T11:35:36.554886",
     "exception": false,
     "start_time": "2023-11-28T11:35:36.528016",
     "status": "completed"
    },
    "tags": []
   },
   "outputs": [],
   "source": []
  }
 ],
 "metadata": {
  "kaggle": {
   "accelerator": "none",
   "dataSources": [],
   "dockerImageVersionId": 30587,
   "isGpuEnabled": false,
   "isInternetEnabled": true,
   "language": "python",
   "sourceType": "notebook"
  },
  "kernelspec": {
   "display_name": "Python 3",
   "language": "python",
   "name": "python3"
  },
  "language_info": {
   "codemirror_mode": {
    "name": "ipython",
    "version": 3
   },
   "file_extension": ".py",
   "mimetype": "text/x-python",
   "name": "python",
   "nbconvert_exporter": "python",
   "pygments_lexer": "ipython3",
   "version": "3.10.12"
  },
  "papermill": {
   "default_parameters": {},
   "duration": 86.30929,
   "end_time": "2023-11-28T11:35:39.202573",
   "environment_variables": {},
   "exception": null,
   "input_path": "__notebook__.ipynb",
   "output_path": "__notebook__.ipynb",
   "parameters": {},
   "start_time": "2023-11-28T11:34:12.893283",
   "version": "2.4.0"
  }
 },
 "nbformat": 4,
 "nbformat_minor": 5
}
