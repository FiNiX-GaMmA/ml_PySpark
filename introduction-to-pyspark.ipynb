{
 "cells": [
  {
   "cell_type": "markdown",
   "id": "31dc695e",
   "metadata": {
    "_cell_guid": "b1076dfc-b9ad-4769-8c92-a6c4dae69d19",
    "_uuid": "8f2839f25d086af736a60e9eeb907d3b93b6e0e5",
    "execution": {
     "iopub.execute_input": "2023-11-28T05:01:49.264367Z",
     "iopub.status.busy": "2023-11-28T05:01:49.263930Z",
     "iopub.status.idle": "2023-11-28T05:01:49.538402Z",
     "shell.execute_reply": "2023-11-28T05:01:49.537762Z",
     "shell.execute_reply.started": "2023-11-28T05:01:49.264339Z"
    },
    "papermill": {
     "duration": 0.013673,
     "end_time": "2023-11-28T12:16:38.332329",
     "exception": false,
     "start_time": "2023-11-28T12:16:38.318656",
     "status": "completed"
    },
    "tags": []
   },
   "source": [
    "# Basic understanding of PySpark"
   ]
  },
  {
   "cell_type": "markdown",
   "id": "8f127462",
   "metadata": {
    "papermill": {
     "duration": 0.014685,
     "end_time": "2023-11-28T12:16:38.361514",
     "exception": false,
     "start_time": "2023-11-28T12:16:38.346829",
     "status": "completed"
    },
    "tags": []
   },
   "source": [
    "### Installing the latest pyspark version"
   ]
  },
  {
   "cell_type": "code",
   "execution_count": 1,
   "id": "fe07f48d",
   "metadata": {
    "execution": {
     "iopub.execute_input": "2023-11-28T12:16:38.392616Z",
     "iopub.status.busy": "2023-11-28T12:16:38.391946Z",
     "iopub.status.idle": "2023-11-28T12:17:34.657921Z",
     "shell.execute_reply": "2023-11-28T12:17:34.656392Z"
    },
    "papermill": {
     "duration": 56.284391,
     "end_time": "2023-11-28T12:17:34.661295",
     "exception": false,
     "start_time": "2023-11-28T12:16:38.376904",
     "status": "completed"
    },
    "tags": []
   },
   "outputs": [
    {
     "name": "stdout",
     "output_type": "stream",
     "text": [
      "Collecting pyspark\r\n",
      "  Downloading pyspark-3.5.0.tar.gz (316.9 MB)\r\n",
      "\u001b[2K     \u001b[90m━━━━━━━━━━━━━━━━━━━━━━━━━━━━━━━━━━━━━━━\u001b[0m \u001b[32m316.9/316.9 MB\u001b[0m \u001b[31m3.4 MB/s\u001b[0m eta \u001b[36m0:00:00\u001b[0m\r\n",
      "\u001b[?25h  Preparing metadata (setup.py) ... \u001b[?25l-\b \b\\\b \bdone\r\n",
      "\u001b[?25hRequirement already satisfied: py4j==0.10.9.7 in /opt/conda/lib/python3.10/site-packages (from pyspark) (0.10.9.7)\r\n",
      "Building wheels for collected packages: pyspark\r\n",
      "  Building wheel for pyspark (setup.py) ... \u001b[?25l-\b \b\\\b \b|\b \bdone\r\n",
      "\u001b[?25h  Created wheel for pyspark: filename=pyspark-3.5.0-py2.py3-none-any.whl size=317425344 sha256=73caa4420a3c66507ff4c6039614b0d37716dfd6f8a1414de0cb8127ddfc201b\r\n",
      "  Stored in directory: /root/.cache/pip/wheels/41/4e/10/c2cf2467f71c678cfc8a6b9ac9241e5e44a01940da8fbb17fc\r\n",
      "Successfully built pyspark\r\n",
      "Installing collected packages: pyspark\r\n",
      "Successfully installed pyspark-3.5.0\r\n"
     ]
    }
   ],
   "source": [
    "!pip install pyspark"
   ]
  },
  {
   "cell_type": "markdown",
   "id": "256b864d",
   "metadata": {
    "papermill": {
     "duration": 0.02452,
     "end_time": "2023-11-28T12:17:34.712576",
     "exception": false,
     "start_time": "2023-11-28T12:17:34.688056",
     "status": "completed"
    },
    "tags": []
   },
   "source": [
    "## Importing the PySpark to work with the modules\n",
    "\n",
    "- `SparkContext` is the _entry point_ to any <u>Spark functionality</u>. It represents the connection to a Spark cluster and can be used to create **RDDs** (Resilient Distributed Datasets) and broadcast variables on that cluster.\n",
    "\n",
    "- `SparkSession` is the _entry point_ to use DataFrame and SQL functionality in Spark. It provides a way to interact with various data sources (like Parquet, Avro, JSON, etc.) in a tabular form"
   ]
  },
  {
   "cell_type": "code",
   "execution_count": 2,
   "id": "ebf5ba02",
   "metadata": {
    "execution": {
     "iopub.execute_input": "2023-11-28T12:17:34.764438Z",
     "iopub.status.busy": "2023-11-28T12:17:34.763864Z",
     "iopub.status.idle": "2023-11-28T12:17:34.862673Z",
     "shell.execute_reply": "2023-11-28T12:17:34.861517Z"
    },
    "papermill": {
     "duration": 0.128207,
     "end_time": "2023-11-28T12:17:34.865642",
     "exception": false,
     "start_time": "2023-11-28T12:17:34.737435",
     "status": "completed"
    },
    "tags": []
   },
   "outputs": [],
   "source": [
    "try:\n",
    "    from pyspark import SparkContext, SparkConf\n",
    "    from pyspark.sql import SparkSession\n",
    "    import math\n",
    "except ImportError as e:\n",
    "    print(e)\n",
    "    printmd('<<<<<!!!!! Please restart your kernel after installing Apache Spark !!!!!>>>>>')"
   ]
  },
  {
   "cell_type": "markdown",
   "id": "f143b980",
   "metadata": {
    "papermill": {
     "duration": 0.024007,
     "end_time": "2023-11-28T12:17:34.914886",
     "exception": false,
     "start_time": "2023-11-28T12:17:34.890879",
     "status": "completed"
    },
    "tags": []
   },
   "source": [
    "1. `SparkContext.getOrCreate()` tries to get an existing SparkContext or creates a new one if it doesn't exist. The SparkConf().setMaster(\"local[*]\") part specifies that Spark should run in **local mode using all available CPU cores ([*]). In local mode, Spark runs on a single machine, which is useful for development and testing.**\n",
    "2. `SparkSession.builder.getOrCreate()` follows a similar pattern as `SparkContext.getOrCreate()`. It tries to get an existing SparkSession or creates a new one if it doesn't exist. The `SparkSession` _**is the unified entry point for reading data, executing SQL queries, and performing other Spark operations using the DataFrame API.**_"
   ]
  },
  {
   "cell_type": "code",
   "execution_count": 3,
   "id": "b7e501cc",
   "metadata": {
    "execution": {
     "iopub.execute_input": "2023-11-28T12:17:34.965663Z",
     "iopub.status.busy": "2023-11-28T12:17:34.965216Z",
     "iopub.status.idle": "2023-11-28T12:17:41.354022Z",
     "shell.execute_reply": "2023-11-28T12:17:41.352710Z"
    },
    "papermill": {
     "duration": 6.418173,
     "end_time": "2023-11-28T12:17:41.357454",
     "exception": false,
     "start_time": "2023-11-28T12:17:34.939281",
     "status": "completed"
    },
    "tags": []
   },
   "outputs": [
    {
     "name": "stderr",
     "output_type": "stream",
     "text": [
      "Setting default log level to \"WARN\".\n",
      "To adjust logging level use sc.setLogLevel(newLevel). For SparkR, use setLogLevel(newLevel).\n",
      "23/11/28 12:17:39 WARN NativeCodeLoader: Unable to load native-hadoop library for your platform... using builtin-java classes where applicable\n"
     ]
    }
   ],
   "source": [
    "# Create a SparkContext if it doesn't exist, using a local master URL\n",
    "sc = SparkContext.getOrCreate(SparkConf().setMaster(\"local[*]\"))\n",
    "\n",
    "# Create a SparkSession if it doesn't exist\n",
    "spark = SparkSession.builder.getOrCreate()"
   ]
  },
  {
   "cell_type": "markdown",
   "id": "528ef14d",
   "metadata": {
    "papermill": {
     "duration": 0.024742,
     "end_time": "2023-11-28T12:17:41.407417",
     "exception": false,
     "start_time": "2023-11-28T12:17:41.382675",
     "status": "completed"
    },
    "tags": []
   },
   "source": [
    "Creating an RDD (Resilient Distributed Dataset) using the parallelize method of the SparkContext (sc). Let me break down what this line does:\n",
    "\n",
    "   - `range(100)`: This creates a Python list containing numbers from 0 to 99.\n",
    "\n",
    "   - `sc.parallelize(range(100))`: This takes that Python list and distributes it across the Spark cluster, creating an RDD. The RDD is a fault-tolerant collection of elements that can be processed in parallel.\n",
    "\n",
    "So, the rdd variable now represents a distributed collection of numbers from 0 to 99. Each element of the RDD is stored on a different partition of the cluster, and Spark can perform operations on these partitions in parallel."
   ]
  },
  {
   "cell_type": "code",
   "execution_count": 4,
   "id": "03618eb6",
   "metadata": {
    "execution": {
     "iopub.execute_input": "2023-11-28T12:17:41.461420Z",
     "iopub.status.busy": "2023-11-28T12:17:41.460963Z",
     "iopub.status.idle": "2023-11-28T12:17:41.888571Z",
     "shell.execute_reply": "2023-11-28T12:17:41.887388Z"
    },
    "papermill": {
     "duration": 0.459467,
     "end_time": "2023-11-28T12:17:41.892096",
     "exception": false,
     "start_time": "2023-11-28T12:17:41.432629",
     "status": "completed"
    },
    "tags": []
   },
   "outputs": [],
   "source": [
    "rdd = sc.parallelize(range(100))"
   ]
  },
  {
   "cell_type": "markdown",
   "id": "26a801a1",
   "metadata": {
    "papermill": {
     "duration": 0.024301,
     "end_time": "2023-11-28T12:17:41.948297",
     "exception": false,
     "start_time": "2023-11-28T12:17:41.923996",
     "status": "completed"
    },
    "tags": []
   },
   "source": [
    "The `take` action in Spark is used to retrieve the **first N elements** from an RDD or DataFrame. "
   ]
  },
  {
   "cell_type": "code",
   "execution_count": 5,
   "id": "9fd68830",
   "metadata": {
    "execution": {
     "iopub.execute_input": "2023-11-28T12:17:42.000224Z",
     "iopub.status.busy": "2023-11-28T12:17:41.999799Z",
     "iopub.status.idle": "2023-11-28T12:17:44.356778Z",
     "shell.execute_reply": "2023-11-28T12:17:44.355436Z"
    },
    "papermill": {
     "duration": 2.389247,
     "end_time": "2023-11-28T12:17:44.362115",
     "exception": false,
     "start_time": "2023-11-28T12:17:41.972868",
     "status": "completed"
    },
    "tags": []
   },
   "outputs": [
    {
     "name": "stderr",
     "output_type": "stream",
     "text": [
      "                                                                                \r"
     ]
    },
    {
     "data": {
      "text/plain": [
       "[0, 1, 2, 3, 4, 5, 6, 7, 8, 9]"
      ]
     },
     "execution_count": 5,
     "metadata": {},
     "output_type": "execute_result"
    }
   ],
   "source": [
    "rdd.take(10) #note the as an array the rdd contains number from 0 to (n-1)"
   ]
  },
  {
   "cell_type": "markdown",
   "id": "5b566bdd",
   "metadata": {
    "papermill": {
     "duration": 0.091611,
     "end_time": "2023-11-28T12:17:44.482885",
     "exception": false,
     "start_time": "2023-11-28T12:17:44.391274",
     "status": "completed"
    },
    "tags": []
   },
   "source": [
    "## Functional Programming"
   ]
  },
  {
   "cell_type": "markdown",
   "id": "bb6c38ad",
   "metadata": {
    "papermill": {
     "duration": 0.025729,
     "end_time": "2023-11-28T12:17:44.535444",
     "exception": false,
     "start_time": "2023-11-28T12:17:44.509715",
     "status": "completed"
    },
    "tags": []
   },
   "source": [
    "A python function which decides whether a value is greater than 50 (**True**) or not (**False**)."
   ]
  },
  {
   "cell_type": "code",
   "execution_count": 6,
   "id": "23b65e24",
   "metadata": {
    "execution": {
     "iopub.execute_input": "2023-11-28T12:17:44.590746Z",
     "iopub.status.busy": "2023-11-28T12:17:44.590268Z",
     "iopub.status.idle": "2023-11-28T12:17:44.597125Z",
     "shell.execute_reply": "2023-11-28T12:17:44.595969Z"
    },
    "papermill": {
     "duration": 0.039627,
     "end_time": "2023-11-28T12:17:44.600769",
     "exception": false,
     "start_time": "2023-11-28T12:17:44.561142",
     "status": "completed"
    },
    "tags": []
   },
   "outputs": [
    {
     "name": "stdout",
     "output_type": "stream",
     "text": [
      "False\n",
      "True\n"
     ]
    }
   ],
   "source": [
    "def gt50(i):\n",
    "    return i > 50\n",
    "\n",
    "print(gt50(4))\n",
    "print(gt50(51))"
   ]
  },
  {
   "cell_type": "markdown",
   "id": "f8cc7881",
   "metadata": {
    "papermill": {
     "duration": 0.025684,
     "end_time": "2023-11-28T12:17:44.653877",
     "exception": false,
     "start_time": "2023-11-28T12:17:44.628193",
     "status": "completed"
    },
    "tags": []
   },
   "source": [
    "Writing the above function but by lambda function\n",
    "\n",
    "This line of code defines a lambda function (lambda) named gt25. The lambda function takes a single argument `i` and returns a _Boolean value (True or False)_. In this case, the lambda function checks whether the input i is greater than 25.\n",
    "\n",
    "So, you can interpret this as follows: **gt25 is a function that, when given a value i, returns True if i is greater than 25 and False otherwise.**"
   ]
  },
  {
   "cell_type": "code",
   "execution_count": 7,
   "id": "39b12ad6",
   "metadata": {
    "execution": {
     "iopub.execute_input": "2023-11-28T12:17:44.708237Z",
     "iopub.status.busy": "2023-11-28T12:17:44.707405Z",
     "iopub.status.idle": "2023-11-28T12:17:44.714632Z",
     "shell.execute_reply": "2023-11-28T12:17:44.713115Z"
    },
    "papermill": {
     "duration": 0.037016,
     "end_time": "2023-11-28T12:17:44.717107",
     "exception": false,
     "start_time": "2023-11-28T12:17:44.680091",
     "status": "completed"
    },
    "tags": []
   },
   "outputs": [
    {
     "name": "stdout",
     "output_type": "stream",
     "text": [
      "False\n",
      "True\n"
     ]
    }
   ],
   "source": [
    "gt25 = lambda i: i > 25\n",
    "\n",
    "print(gt25(4))\n",
    "print(gt25(51))"
   ]
  },
  {
   "cell_type": "markdown",
   "id": "f33c82fd",
   "metadata": {
    "papermill": {
     "duration": 0.025721,
     "end_time": "2023-11-28T12:17:44.770199",
     "exception": false,
     "start_time": "2023-11-28T12:17:44.744478",
     "status": "completed"
    },
    "tags": []
   },
   "source": [
    "### Shuffling the RDD\n",
    "\n",
    "`l = list(range(100))`: Creates a list containing numbers from 0 to 99. This is a simple way to generate a list with sequential integers.\n",
    "\n",
    "`shuffle(l)`: Uses the shuffle function from the random module to randomly shuffle the elements of the list l. This step is intended to randomize the order of the numbers in the list.\n",
    "\n",
    "`sc.parallelize(l)`: Creates an RDD named rdd from the shuffled list l. The parallelize method of the SparkContext (sc) is used to distribute the elements of the list across the nodes of the Spark cluster. This RDD can then be used for parallel processing using Spark.\n",
    "\n",
    "So, after running this code, the _rdd_ variable holds a distributed representation of the shuffled list, and the elements are distributed across the nodes of the Spark cluster. "
   ]
  },
  {
   "cell_type": "code",
   "execution_count": 8,
   "id": "251abbde",
   "metadata": {
    "execution": {
     "iopub.execute_input": "2023-11-28T12:17:44.825414Z",
     "iopub.status.busy": "2023-11-28T12:17:44.824950Z",
     "iopub.status.idle": "2023-11-28T12:17:44.836699Z",
     "shell.execute_reply": "2023-11-28T12:17:44.835601Z"
    },
    "papermill": {
     "duration": 0.042834,
     "end_time": "2023-11-28T12:17:44.839543",
     "exception": false,
     "start_time": "2023-11-28T12:17:44.796709",
     "status": "completed"
    },
    "tags": []
   },
   "outputs": [],
   "source": [
    "from random import shuffle\n",
    "\n",
    "# Create a list containing numbers from 0 to 99\n",
    "l = list(range(100))\n",
    "\n",
    "# Shuffle the list randomly\n",
    "shuffle(l)\n",
    "\n",
    "# Create an RDD (Resilient Distributed Dataset) from the shuffled list\n",
    "rdd = sc.parallelize(l)\n"
   ]
  },
  {
   "cell_type": "markdown",
   "id": "be63424f",
   "metadata": {
    "papermill": {
     "duration": 0.029204,
     "end_time": "2023-11-28T12:17:44.895839",
     "exception": false,
     "start_time": "2023-11-28T12:17:44.866635",
     "status": "completed"
    },
    "tags": []
   },
   "source": [
    "Filtering values from our list which are equals or less than 50 by applying the “gt50” function to the list using the “filter” function. \n",
    "**Note that by calling the “collect” function, all elements are returned to the Apache Spark Driver. This is not a good idea for BigData, please use “.sample(10,0.1).collect()” or “take(n)” instead. beacuse collect can be resource-intensive, especially if the RDD is large, as it brings all the data back to the driver program.**"
   ]
  },
  {
   "cell_type": "code",
   "execution_count": 9,
   "id": "50116475",
   "metadata": {
    "execution": {
     "iopub.execute_input": "2023-11-28T12:17:44.954424Z",
     "iopub.status.busy": "2023-11-28T12:17:44.953575Z",
     "iopub.status.idle": "2023-11-28T12:17:45.262796Z",
     "shell.execute_reply": "2023-11-28T12:17:45.261786Z"
    },
    "papermill": {
     "duration": 0.341511,
     "end_time": "2023-11-28T12:17:45.265686",
     "exception": false,
     "start_time": "2023-11-28T12:17:44.924175",
     "status": "completed"
    },
    "tags": []
   },
   "outputs": [
    {
     "data": {
      "text/plain": [
       "[92, 53, 97, 90, 52, 96, 99, 56, 69, 62]"
      ]
     },
     "execution_count": 9,
     "metadata": {},
     "output_type": "execute_result"
    }
   ],
   "source": [
    "# rdd.filter(gt50).collect() #we can use collect but following the best practice\n",
    "rdd.filter(gt50).take(10)"
   ]
  },
  {
   "cell_type": "markdown",
   "id": "bb46a698",
   "metadata": {
    "papermill": {
     "duration": 0.02694,
     "end_time": "2023-11-28T12:17:45.320946",
     "exception": false,
     "start_time": "2023-11-28T12:17:45.294006",
     "status": "completed"
    },
    "tags": []
   },
   "source": [
    "sample(10, 0.1): This is another transformation, specifically the sample transformation. It is used to create a random sample of the elements in the RDD. The parameters are:\n",
    "\n",
    "`10`: The number of elements to include in the sample.\n",
    "`0.1`: The sampling fraction, representing the probability that each element is included in the sample. In this case, it's set to 0.1, meaning there's a 10% chance of including each element in the sample.\n",
    "\n",
    "Note that the result of this operation doesn't directly give you a collection of elements; instead, it returns a new RDD that represents the sampled subset of the filtered data."
   ]
  },
  {
   "cell_type": "code",
   "execution_count": 10,
   "id": "ccb6ffbe",
   "metadata": {
    "execution": {
     "iopub.execute_input": "2023-11-28T12:17:45.375162Z",
     "iopub.status.busy": "2023-11-28T12:17:45.374735Z",
     "iopub.status.idle": "2023-11-28T12:17:46.204323Z",
     "shell.execute_reply": "2023-11-28T12:17:46.202826Z"
    },
    "papermill": {
     "duration": 0.860073,
     "end_time": "2023-11-28T12:17:46.207691",
     "exception": false,
     "start_time": "2023-11-28T12:17:45.347618",
     "status": "completed"
    },
    "tags": []
   },
   "outputs": [
    {
     "data": {
      "text/plain": [
       "[92, 52, 87, 85, 79]"
      ]
     },
     "execution_count": 10,
     "metadata": {},
     "output_type": "execute_result"
    }
   ],
   "source": [
    "sample = rdd.filter(gt50).sample(10, 0.1).take(10)\n",
    "sample"
   ]
  },
  {
   "cell_type": "code",
   "execution_count": 11,
   "id": "6e84b85f",
   "metadata": {
    "execution": {
     "iopub.execute_input": "2023-11-28T12:17:46.279101Z",
     "iopub.status.busy": "2023-11-28T12:17:46.278419Z",
     "iopub.status.idle": "2023-11-28T12:17:46.299405Z",
     "shell.execute_reply": "2023-11-28T12:17:46.298104Z"
    },
    "papermill": {
     "duration": 0.056747,
     "end_time": "2023-11-28T12:17:46.302115",
     "exception": false,
     "start_time": "2023-11-28T12:17:46.245368",
     "status": "completed"
    },
    "tags": []
   },
   "outputs": [
    {
     "data": {
      "text/plain": [
       "PythonRDD[6] at RDD at PythonRDD.scala:53"
      ]
     },
     "execution_count": 11,
     "metadata": {},
     "output_type": "execute_result"
    }
   ],
   "source": [
    "# trying with sample api\n",
    "rdd.filter(gt50).sample(10,0.1)"
   ]
  },
  {
   "cell_type": "code",
   "execution_count": 12,
   "id": "c0f6ee63",
   "metadata": {
    "execution": {
     "iopub.execute_input": "2023-11-28T12:17:46.357468Z",
     "iopub.status.busy": "2023-11-28T12:17:46.356863Z",
     "iopub.status.idle": "2023-11-28T12:17:46.650263Z",
     "shell.execute_reply": "2023-11-28T12:17:46.649018Z"
    },
    "papermill": {
     "duration": 0.324937,
     "end_time": "2023-11-28T12:17:46.653641",
     "exception": false,
     "start_time": "2023-11-28T12:17:46.328704",
     "status": "completed"
    },
    "tags": []
   },
   "outputs": [
    {
     "data": {
      "text/plain": [
       "[92, 53, 97, 90, 52, 96, 99, 56, 69, 62]"
      ]
     },
     "execution_count": 12,
     "metadata": {},
     "output_type": "execute_result"
    }
   ],
   "source": [
    "rdd.filter(lambda i: i > 50).take(10) #running the same code but with a lambda function"
   ]
  },
  {
   "cell_type": "markdown",
   "id": "971b5aad",
   "metadata": {
    "papermill": {
     "duration": 0.028208,
     "end_time": "2023-11-28T12:17:46.710025",
     "exception": false,
     "start_time": "2023-11-28T12:17:46.681817",
     "status": "completed"
    },
    "tags": []
   },
   "source": [
    "Let’s consider the same list of integers. Now we want to compute the sum for elements in that list which are greater than 50 but less than 75. Please implement the missing parts. \n",
    "\n",
    "`rdd.filter(lambda x: $$).filter(lambda x: $$).$$()`"
   ]
  },
  {
   "cell_type": "code",
   "execution_count": 13,
   "id": "95871e35",
   "metadata": {
    "execution": {
     "iopub.execute_input": "2023-11-28T12:17:46.768192Z",
     "iopub.status.busy": "2023-11-28T12:17:46.767218Z",
     "iopub.status.idle": "2023-11-28T12:17:47.379525Z",
     "shell.execute_reply": "2023-11-28T12:17:47.378228Z"
    },
    "papermill": {
     "duration": 0.645297,
     "end_time": "2023-11-28T12:17:47.382222",
     "exception": false,
     "start_time": "2023-11-28T12:17:46.736925",
     "status": "completed"
    },
    "tags": []
   },
   "outputs": [
    {
     "data": {
      "text/plain": [
       "[53, 52, 56, 69, 62, 58, 65, 74, 51, 73]"
      ]
     },
     "execution_count": 13,
     "metadata": {},
     "output_type": "execute_result"
    }
   ],
   "source": [
    "rdd.filter(lambda x: x > 50 and x < 75).take(10) # shortened the code but doing that in one filter function"
   ]
  },
  {
   "cell_type": "markdown",
   "id": "cf132003",
   "metadata": {
    "papermill": {
     "duration": 0.027049,
     "end_time": "2023-11-28T12:17:47.435929",
     "exception": false,
     "start_time": "2023-11-28T12:17:47.408880",
     "status": "completed"
    },
    "tags": []
   },
   "source": [
    "## Working with the statistical parameters"
   ]
  },
  {
   "cell_type": "markdown",
   "id": "c8718182",
   "metadata": {
    "papermill": {
     "duration": 0.02829,
     "end_time": "2023-11-28T12:17:47.491684",
     "exception": false,
     "start_time": "2023-11-28T12:17:47.463394",
     "status": "completed"
    },
    "tags": []
   },
   "source": [
    "### 1. First statistical moment ------> Mean and Median"
   ]
  },
  {
   "cell_type": "code",
   "execution_count": 14,
   "id": "8f0625e5",
   "metadata": {
    "execution": {
     "iopub.execute_input": "2023-11-28T12:17:47.547552Z",
     "iopub.status.busy": "2023-11-28T12:17:47.546440Z",
     "iopub.status.idle": "2023-11-28T12:17:47.564107Z",
     "shell.execute_reply": "2023-11-28T12:17:47.563246Z"
    },
    "papermill": {
     "duration": 0.04903,
     "end_time": "2023-11-28T12:17:47.566824",
     "exception": false,
     "start_time": "2023-11-28T12:17:47.517794",
     "status": "completed"
    },
    "tags": []
   },
   "outputs": [],
   "source": [
    "try:\n",
    "    from pyspark import SparkContext, SparkConf\n",
    "    from pyspark.sql import SparkSession\n",
    "except ImportError as e:\n",
    "    print(e)\n",
    "    \n",
    "# Create a SparkContext if it doesn't exist, using a local master URL\n",
    "sc = SparkContext.getOrCreate(SparkConf().setMaster(\"local[*]\"))\n",
    "\n",
    "# Create a SparkSession if it doesn't exist\n",
    "spark = SparkSession.builder.getOrCreate()\n",
    "\n",
    "\n",
    "rdd = sc.parallelize(range(100))"
   ]
  },
  {
   "cell_type": "markdown",
   "id": "5c3bdb4a",
   "metadata": {
    "papermill": {
     "duration": 0.028568,
     "end_time": "2023-11-28T12:17:47.622008",
     "exception": false,
     "start_time": "2023-11-28T12:17:47.593440",
     "status": "completed"
    },
    "tags": []
   },
   "source": [
    "### Mean is calculated by using this formula\n",
    "$$\n",
    "\\bar{x} = \\frac{1}{n} \\sum_{i=1}^{n} x_i\n",
    "$$\n"
   ]
  },
  {
   "cell_type": "code",
   "execution_count": 15,
   "id": "3a454548",
   "metadata": {
    "execution": {
     "iopub.execute_input": "2023-11-28T12:17:47.676438Z",
     "iopub.status.busy": "2023-11-28T12:17:47.675982Z",
     "iopub.status.idle": "2023-11-28T12:17:48.780396Z",
     "shell.execute_reply": "2023-11-28T12:17:48.779154Z"
    },
    "papermill": {
     "duration": 1.135418,
     "end_time": "2023-11-28T12:17:48.783630",
     "exception": false,
     "start_time": "2023-11-28T12:17:47.648212",
     "status": "completed"
    },
    "tags": []
   },
   "outputs": [
    {
     "data": {
      "text/plain": [
       "49.5"
      ]
     },
     "execution_count": 15,
     "metadata": {},
     "output_type": "execute_result"
    }
   ],
   "source": [
    "sum = rdd.sum()  # does the summation of all the elements in the rdd\n",
    "n = rdd.count() #counts the number of elements in the RDD\n",
    "mean = sum/float(n) # calculating the x(bar)\n",
    "mean"
   ]
  },
  {
   "cell_type": "markdown",
   "id": "440eec67",
   "metadata": {
    "papermill": {
     "duration": 0.03421,
     "end_time": "2023-11-28T12:17:48.862196",
     "exception": false,
     "start_time": "2023-11-28T12:17:48.827986",
     "status": "completed"
    },
    "tags": []
   },
   "source": [
    "### Median can be calculated in the following manner\n",
    "For odd \\( n \\):\n",
    "$$\n",
    "\\tilde{x} = x_{\\frac{n+1}{2}}\n",
    "$$\n",
    "\n",
    "For even \\( n \\):\n",
    "$$\n",
    "\\tilde{x} = \\frac{x_{\\frac{n}{2}} + x_{\\frac{n}{2}+1}}{2}\n",
    "$$"
   ]
  },
  {
   "cell_type": "code",
   "execution_count": 16,
   "id": "2e290064",
   "metadata": {
    "execution": {
     "iopub.execute_input": "2023-11-28T12:17:48.923857Z",
     "iopub.status.busy": "2023-11-28T12:17:48.923457Z",
     "iopub.status.idle": "2023-11-28T12:17:53.432781Z",
     "shell.execute_reply": "2023-11-28T12:17:53.431432Z"
    },
    "papermill": {
     "duration": 4.566683,
     "end_time": "2023-11-28T12:17:53.460134",
     "exception": false,
     "start_time": "2023-11-28T12:17:48.893451",
     "status": "completed"
    },
    "tags": []
   },
   "outputs": [
    {
     "name": "stderr",
     "output_type": "stream",
     "text": [
      "                                                                                \r"
     ]
    },
    {
     "name": "stdout",
     "output_type": "stream",
     "text": [
      "49.5\n"
     ]
    },
    {
     "name": "stderr",
     "output_type": "stream",
     "text": [
      "                                                                                \r"
     ]
    }
   ],
   "source": [
    "sortedRDD = rdd.sortBy(lambda x : x).zipWithIndex().map(lambda item: (item[1], item[0]))\n",
    "n = sortedRDD.count()\n",
    "if (n%2 == 1):\n",
    "    index = (n-1)/2\n",
    "    print(sortedRDD.lookup(index))\n",
    "else:\n",
    "    index1 = n/2\n",
    "    index2 = (n/2)-1\n",
    "    value1 = sortedRDD.lookup(index1)[0]\n",
    "    value2 = sortedRDD.lookup(index2)[0]\n",
    "    print((value1+value2)/2.0)"
   ]
  },
  {
   "cell_type": "markdown",
   "id": "44097209",
   "metadata": {
    "papermill": {
     "duration": 0.037605,
     "end_time": "2023-11-28T12:17:53.544013",
     "exception": false,
     "start_time": "2023-11-28T12:17:53.506408",
     "status": "completed"
    },
    "tags": []
   },
   "source": [
    "## Now lets add outliers to the data and see the difference"
   ]
  },
  {
   "cell_type": "code",
   "execution_count": 17,
   "id": "2b01bda7",
   "metadata": {
    "execution": {
     "iopub.execute_input": "2023-11-28T12:17:53.601912Z",
     "iopub.status.busy": "2023-11-28T12:17:53.601365Z",
     "iopub.status.idle": "2023-11-28T12:17:53.617230Z",
     "shell.execute_reply": "2023-11-28T12:17:53.615746Z"
    },
    "papermill": {
     "duration": 0.048426,
     "end_time": "2023-11-28T12:17:53.620628",
     "exception": false,
     "start_time": "2023-11-28T12:17:53.572202",
     "status": "completed"
    },
    "tags": []
   },
   "outputs": [],
   "source": [
    "rdd = sc.parallelize([101,102,10000,1023] + list(range(100)))"
   ]
  },
  {
   "cell_type": "code",
   "execution_count": 18,
   "id": "bcb12177",
   "metadata": {
    "execution": {
     "iopub.execute_input": "2023-11-28T12:17:53.705660Z",
     "iopub.status.busy": "2023-11-28T12:17:53.705109Z",
     "iopub.status.idle": "2023-11-28T12:17:58.065257Z",
     "shell.execute_reply": "2023-11-28T12:17:58.063988Z"
    },
    "papermill": {
     "duration": 4.408947,
     "end_time": "2023-11-28T12:17:58.068770",
     "exception": false,
     "start_time": "2023-11-28T12:17:53.659823",
     "status": "completed"
    },
    "tags": []
   },
   "outputs": [
    {
     "name": "stderr",
     "output_type": "stream",
     "text": [
      "                                                                                \r"
     ]
    },
    {
     "name": "stdout",
     "output_type": "stream",
     "text": [
      "51.5\n"
     ]
    }
   ],
   "source": [
    "sortedRDD = rdd.sortBy(lambda x : x).zipWithIndex().map(lambda item: (item[1], item[0]))\n",
    "n = sortedRDD.count()\n",
    "if (n%2 == 1):\n",
    "    index = (n-1)/2\n",
    "    print(sortedRDD.lookup(index))\n",
    "else:\n",
    "    index1 = n/2\n",
    "    index2 = (n/2)-1\n",
    "    value1 = sortedRDD.lookup(index1)[0]\n",
    "    value2 = sortedRDD.lookup(index2)[0]\n",
    "    print((value1+value2)/2.0)\n",
    "    \n",
    "    "
   ]
  },
  {
   "cell_type": "code",
   "execution_count": 19,
   "id": "c957ea98",
   "metadata": {
    "execution": {
     "iopub.execute_input": "2023-11-28T12:17:58.130089Z",
     "iopub.status.busy": "2023-11-28T12:17:58.129682Z",
     "iopub.status.idle": "2023-11-28T12:17:59.112441Z",
     "shell.execute_reply": "2023-11-28T12:17:59.111347Z"
    },
    "papermill": {
     "duration": 1.014723,
     "end_time": "2023-11-28T12:17:59.115701",
     "exception": false,
     "start_time": "2023-11-28T12:17:58.100978",
     "status": "completed"
    },
    "tags": []
   },
   "outputs": [
    {
     "data": {
      "text/plain": [
       "155.53846153846155"
      ]
     },
     "execution_count": 19,
     "metadata": {},
     "output_type": "execute_result"
    }
   ],
   "source": [
    "sum = rdd.sum()  # does the summation of all the elements in the rdd\n",
    "n = rdd.count() #counts the number of elements in the RDD\n",
    "mean = sum/float(n) # calculating the x(bar)\n",
    "mean"
   ]
  },
  {
   "cell_type": "markdown",
   "id": "a7b6561b",
   "metadata": {
    "papermill": {
     "duration": 0.027389,
     "end_time": "2023-11-28T12:17:59.178742",
     "exception": false,
     "start_time": "2023-11-28T12:17:59.151353",
     "status": "completed"
    },
    "tags": []
   },
   "source": [
    "## NOTE:\n",
    "We can see that there are differences between the mean and the median when there are outliers\n",
    "\n",
    "**Thats why we prefer the median method which is resilient to the outliers**"
   ]
  },
  {
   "cell_type": "markdown",
   "id": "0cc13e50",
   "metadata": {
    "papermill": {
     "duration": 0.026926,
     "end_time": "2023-11-28T12:17:59.233123",
     "exception": false,
     "start_time": "2023-11-28T12:17:59.206197",
     "status": "completed"
    },
    "tags": []
   },
   "source": [
    "### Standard Deviation\n",
    "\n",
    "The formula for the standard deviation (σσ) of a dataset is given by:\n",
    "$$\n",
    "\\sigma = \\sqrt{\\frac{\\sum_{i=1}^{n}(x_i - \\bar{x})^2}{n}}\n",
    "$$\n",
    "Here:\n",
    "\n",
    "- σσ represents the standard deviation.\n",
    "- nn is the number of observations in the dataset.\n",
    "- xixi​ represents each individual observation in the dataset.\n",
    "- xˉxˉ is the mean of the dataset."
   ]
  },
  {
   "cell_type": "code",
   "execution_count": 20,
   "id": "b0cd9956",
   "metadata": {
    "execution": {
     "iopub.execute_input": "2023-11-28T12:17:59.308309Z",
     "iopub.status.busy": "2023-11-28T12:17:59.307493Z",
     "iopub.status.idle": "2023-11-28T12:17:59.322725Z",
     "shell.execute_reply": "2023-11-28T12:17:59.321746Z"
    },
    "papermill": {
     "duration": 0.058487,
     "end_time": "2023-11-28T12:17:59.325416",
     "exception": false,
     "start_time": "2023-11-28T12:17:59.266929",
     "status": "completed"
    },
    "tags": []
   },
   "outputs": [],
   "source": [
    "try:\n",
    "    from pyspark import SparkContext, SparkConf\n",
    "    from pyspark.sql import SparkSession\n",
    "except ImportError as e:\n",
    "    print(e)\n",
    "    \n",
    "# Create a SparkContext if it doesn't exist, using a local master URL\n",
    "sc = SparkContext.getOrCreate(SparkConf().setMaster(\"local[*]\"))\n",
    "\n",
    "# Create a SparkSession if it doesn't exist\n",
    "spark = SparkSession.builder.getOrCreate()\n",
    "\n",
    "\n",
    "rdd = sc.parallelize(range(100))"
   ]
  },
  {
   "cell_type": "markdown",
   "id": "be2ea795",
   "metadata": {
    "papermill": {
     "duration": 0.02819,
     "end_time": "2023-11-28T12:17:59.382506",
     "exception": false,
     "start_time": "2023-11-28T12:17:59.354316",
     "status": "completed"
    },
    "tags": []
   },
   "source": [
    "If we want to apply a function to the all the entries in the python then we should use `map`"
   ]
  },
  {
   "cell_type": "code",
   "execution_count": 21,
   "id": "28330d72",
   "metadata": {
    "execution": {
     "iopub.execute_input": "2023-11-28T12:17:59.445933Z",
     "iopub.status.busy": "2023-11-28T12:17:59.444683Z",
     "iopub.status.idle": "2023-11-28T12:18:00.990807Z",
     "shell.execute_reply": "2023-11-28T12:18:00.989621Z"
    },
    "papermill": {
     "duration": 1.583577,
     "end_time": "2023-11-28T12:18:00.994135",
     "exception": false,
     "start_time": "2023-11-28T12:17:59.410558",
     "status": "completed"
    },
    "tags": []
   },
   "outputs": [
    {
     "data": {
      "text/plain": [
       "28.86607004772212"
      ]
     },
     "execution_count": 21,
     "metadata": {},
     "output_type": "execute_result"
    }
   ],
   "source": [
    "mean = rdd.mean()\n",
    "n = rdd.count()\n",
    "standard_deviation = math.sqrt(rdd.map(lambda x: pow((x - mean), 2)).sum()/n)\n",
    "standard_deviation"
   ]
  },
  {
   "cell_type": "markdown",
   "id": "54f741b1",
   "metadata": {
    "papermill": {
     "duration": 0.027156,
     "end_time": "2023-11-28T12:18:01.064398",
     "exception": false,
     "start_time": "2023-11-28T12:18:01.037242",
     "status": "completed"
    },
    "tags": []
   },
   "source": [
    "## Skewness\n",
    "\n",
    "The formula for skewness (γ1γ1​) in LaTeX is typically expressed as follows:\n",
    "\n",
    "latex\n",
    "$$\n",
    "\\gamma_1 = \\frac{\\frac{1}{n} \\sum_{i=1}^{n}(x_i - \\bar{x})^3}{\\left(\\frac{1}{n} \\sum_{i=1}^{n}(x_i - \\bar{x})^2\\right)^{3/2}}\n",
    "$$\n",
    "Here:\n",
    "\n",
    "- γ1​ represents skewness.\n",
    "- n is the number of observations.\n",
    "- xi​ represents each individual observation.\n",
    "- xˉ is the mean of the dataset.\n",
    "\n"
   ]
  },
  {
   "cell_type": "code",
   "execution_count": 22,
   "id": "d1cce0ea",
   "metadata": {
    "execution": {
     "iopub.execute_input": "2023-11-28T12:18:01.121017Z",
     "iopub.status.busy": "2023-11-28T12:18:01.120580Z",
     "iopub.status.idle": "2023-11-28T12:18:01.130661Z",
     "shell.execute_reply": "2023-11-28T12:18:01.129524Z"
    },
    "papermill": {
     "duration": 0.042083,
     "end_time": "2023-11-28T12:18:01.133711",
     "exception": false,
     "start_time": "2023-11-28T12:18:01.091628",
     "status": "completed"
    },
    "tags": []
   },
   "outputs": [],
   "source": [
    "try:\n",
    "    from pyspark import SparkContext, SparkConf\n",
    "    from pyspark.sql import SparkSession\n",
    "except ImportError as e:\n",
    "    print(e)\n",
    "    \n",
    "# Create a SparkContext if it doesn't exist, using a local master URL\n",
    "sc = SparkContext.getOrCreate(SparkConf().setMaster(\"local[*]\"))\n",
    "\n",
    "# Create a SparkSession if it doesn't exist\n",
    "spark = SparkSession.builder.getOrCreate()"
   ]
  },
  {
   "cell_type": "code",
   "execution_count": 23,
   "id": "2c9824e6",
   "metadata": {
    "execution": {
     "iopub.execute_input": "2023-11-28T12:18:01.191461Z",
     "iopub.status.busy": "2023-11-28T12:18:01.191009Z",
     "iopub.status.idle": "2023-11-28T12:18:02.934076Z",
     "shell.execute_reply": "2023-11-28T12:18:02.932978Z"
    },
    "papermill": {
     "duration": 1.776118,
     "end_time": "2023-11-28T12:18:02.937439",
     "exception": false,
     "start_time": "2023-11-28T12:18:01.161321",
     "status": "completed"
    },
    "tags": []
   },
   "outputs": [
    {
     "data": {
      "text/plain": [
       "1.4210854715202004e-16"
      ]
     },
     "execution_count": 23,
     "metadata": {},
     "output_type": "execute_result"
    }
   ],
   "source": [
    "rdd = sc.parallelize(range(100))\n",
    "mean = rdd.mean()\n",
    "n = float(rdd.count())\n",
    "standard_deviation = math.sqrt(rdd.map(lambda x: pow((x - mean), 2)).sum()/n)\n",
    "\n",
    "skewness = (rdd.map(lambda x: pow((x-mean),3)/pow(standard_deviation,3)).sum())/n\n",
    "skewness"
   ]
  },
  {
   "cell_type": "code",
   "execution_count": 24,
   "id": "31b05202",
   "metadata": {
    "execution": {
     "iopub.execute_input": "2023-11-28T12:18:03.012008Z",
     "iopub.status.busy": "2023-11-28T12:18:03.011567Z",
     "iopub.status.idle": "2023-11-28T12:18:04.783156Z",
     "shell.execute_reply": "2023-11-28T12:18:04.782339Z"
    },
    "papermill": {
     "duration": 1.804394,
     "end_time": "2023-11-28T12:18:04.786386",
     "exception": false,
     "start_time": "2023-11-28T12:18:02.981992",
     "status": "completed"
    },
    "tags": []
   },
   "outputs": [
    {
     "data": {
      "text/plain": [
       "10.00200794849941"
      ]
     },
     "execution_count": 24,
     "metadata": {},
     "output_type": "execute_result"
    }
   ],
   "source": [
    "## trying to right skew the data\n",
    "rdd = sc.parallelize([101,102,10000,1023,121728] + list(range(100)))\n",
    "mean = rdd.mean()\n",
    "n = float(rdd.count())\n",
    "standard_deviation = math.sqrt(rdd.map(lambda x: pow((x - mean), 2)).sum()/n)\n",
    "\n",
    "skewness = (rdd.map(lambda x: pow((x-mean),3)/pow(standard_deviation,3)).sum())/n\n",
    "skewness"
   ]
  },
  {
   "cell_type": "code",
   "execution_count": 25,
   "id": "f858d4f9",
   "metadata": {
    "execution": {
     "iopub.execute_input": "2023-11-28T12:18:04.866121Z",
     "iopub.status.busy": "2023-11-28T12:18:04.865472Z",
     "iopub.status.idle": "2023-11-28T12:18:06.543234Z",
     "shell.execute_reply": "2023-11-28T12:18:06.542058Z"
    },
    "papermill": {
     "duration": 1.720264,
     "end_time": "2023-11-28T12:18:06.546508",
     "exception": false,
     "start_time": "2023-11-28T12:18:04.826244",
     "status": "completed"
    },
    "tags": []
   },
   "outputs": [
    {
     "data": {
      "text/plain": [
       "-10.00010218410623"
      ]
     },
     "execution_count": 25,
     "metadata": {},
     "output_type": "execute_result"
    }
   ],
   "source": [
    "## trying to left skew the data\n",
    "rdd = sc.parallelize([-101,-102,-10000,-1023,-121728] + list(range(100)))\n",
    "mean = rdd.mean()\n",
    "n = float(rdd.count())\n",
    "standard_deviation = math.sqrt(rdd.map(lambda x: pow((x - mean), 2)).sum()/n)\n",
    "\n",
    "skewness = (rdd.map(lambda x: pow((x-mean),3)/pow(standard_deviation,3)).sum())/n\n",
    "skewness"
   ]
  },
  {
   "cell_type": "code",
   "execution_count": null,
   "id": "dbd9c577",
   "metadata": {
    "papermill": {
     "duration": 0.028534,
     "end_time": "2023-11-28T12:18:06.607848",
     "exception": false,
     "start_time": "2023-11-28T12:18:06.579314",
     "status": "completed"
    },
    "tags": []
   },
   "outputs": [],
   "source": []
  }
 ],
 "metadata": {
  "kaggle": {
   "accelerator": "none",
   "dataSources": [],
   "dockerImageVersionId": 30587,
   "isGpuEnabled": false,
   "isInternetEnabled": true,
   "language": "python",
   "sourceType": "notebook"
  },
  "kernelspec": {
   "display_name": "Python 3",
   "language": "python",
   "name": "python3"
  },
  "language_info": {
   "codemirror_mode": {
    "name": "ipython",
    "version": 3
   },
   "file_extension": ".py",
   "mimetype": "text/x-python",
   "name": "python",
   "nbconvert_exporter": "python",
   "pygments_lexer": "ipython3",
   "version": "3.10.12"
  },
  "papermill": {
   "default_parameters": {},
   "duration": 94.55997,
   "end_time": "2023-11-28T12:18:09.258060",
   "environment_variables": {},
   "exception": null,
   "input_path": "__notebook__.ipynb",
   "output_path": "__notebook__.ipynb",
   "parameters": {},
   "start_time": "2023-11-28T12:16:34.698090",
   "version": "2.4.0"
  }
 },
 "nbformat": 4,
 "nbformat_minor": 5
}
