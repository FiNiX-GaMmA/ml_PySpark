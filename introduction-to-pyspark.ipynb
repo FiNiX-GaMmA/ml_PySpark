{
 "cells": [
  {
   "cell_type": "markdown",
   "id": "241681a1",
   "metadata": {
    "_cell_guid": "b1076dfc-b9ad-4769-8c92-a6c4dae69d19",
    "_uuid": "8f2839f25d086af736a60e9eeb907d3b93b6e0e5",
    "execution": {
     "iopub.execute_input": "2023-11-28T05:01:49.264367Z",
     "iopub.status.busy": "2023-11-28T05:01:49.263930Z",
     "iopub.status.idle": "2023-11-28T05:01:49.538402Z",
     "shell.execute_reply": "2023-11-28T05:01:49.537762Z",
     "shell.execute_reply.started": "2023-11-28T05:01:49.264339Z"
    },
    "papermill": {
     "duration": 0.01733,
     "end_time": "2023-11-29T08:51:24.796307",
     "exception": false,
     "start_time": "2023-11-29T08:51:24.778977",
     "status": "completed"
    },
    "tags": []
   },
   "source": [
    "# Basic understanding of PySpark"
   ]
  },
  {
   "cell_type": "markdown",
   "id": "2697938b",
   "metadata": {
    "papermill": {
     "duration": 0.016721,
     "end_time": "2023-11-29T08:51:24.829906",
     "exception": false,
     "start_time": "2023-11-29T08:51:24.813185",
     "status": "completed"
    },
    "tags": []
   },
   "source": [
    "### Installing the latest pyspark version"
   ]
  },
  {
   "cell_type": "code",
   "execution_count": 1,
   "id": "038aba76",
   "metadata": {
    "execution": {
     "iopub.execute_input": "2023-11-29T08:51:24.866265Z",
     "iopub.status.busy": "2023-11-29T08:51:24.865472Z",
     "iopub.status.idle": "2023-11-29T08:52:18.472559Z",
     "shell.execute_reply": "2023-11-29T08:52:18.471121Z"
    },
    "papermill": {
     "duration": 53.628658,
     "end_time": "2023-11-29T08:52:18.475456",
     "exception": false,
     "start_time": "2023-11-29T08:51:24.846798",
     "status": "completed"
    },
    "tags": []
   },
   "outputs": [
    {
     "name": "stdout",
     "output_type": "stream",
     "text": [
      "Collecting pyspark\r\n",
      "  Downloading pyspark-3.5.0.tar.gz (316.9 MB)\r\n",
      "\u001b[2K     \u001b[90m━━━━━━━━━━━━━━━━━━━━━━━━━━━━━━━━━━━━━━━\u001b[0m \u001b[32m316.9/316.9 MB\u001b[0m \u001b[31m3.7 MB/s\u001b[0m eta \u001b[36m0:00:00\u001b[0m\r\n",
      "\u001b[?25h  Preparing metadata (setup.py) ... \u001b[?25l-\b \b\\\b \bdone\r\n",
      "\u001b[?25hRequirement already satisfied: py4j==0.10.9.7 in /opt/conda/lib/python3.10/site-packages (from pyspark) (0.10.9.7)\r\n",
      "Building wheels for collected packages: pyspark\r\n",
      "  Building wheel for pyspark (setup.py) ... \u001b[?25l-\b \b\\\b \b|\b \bdone\r\n",
      "\u001b[?25h  Created wheel for pyspark: filename=pyspark-3.5.0-py2.py3-none-any.whl size=317425344 sha256=0c497d8f6f811e6ea51ecfd2f44ec739fdc325b7a897df5cbd51782f6db0ce86\r\n",
      "  Stored in directory: /root/.cache/pip/wheels/41/4e/10/c2cf2467f71c678cfc8a6b9ac9241e5e44a01940da8fbb17fc\r\n",
      "Successfully built pyspark\r\n",
      "Installing collected packages: pyspark\r\n",
      "Successfully installed pyspark-3.5.0\r\n"
     ]
    }
   ],
   "source": [
    "!pip install pyspark"
   ]
  },
  {
   "cell_type": "markdown",
   "id": "51eeebf5",
   "metadata": {
    "papermill": {
     "duration": 0.028134,
     "end_time": "2023-11-29T08:52:18.531440",
     "exception": false,
     "start_time": "2023-11-29T08:52:18.503306",
     "status": "completed"
    },
    "tags": []
   },
   "source": [
    "## Importing the PySpark to work with the modules\n",
    "\n",
    "- `SparkContext` is the _entry point_ to any <u>Spark functionality</u>. It represents the connection to a Spark cluster and can be used to create **RDDs** (Resilient Distributed Datasets) and broadcast variables on that cluster.\n",
    "\n",
    "- `SparkSession` is the _entry point_ to use DataFrame and SQL functionality in Spark. It provides a way to interact with various data sources (like Parquet, Avro, JSON, etc.) in a tabular form"
   ]
  },
  {
   "cell_type": "code",
   "execution_count": 2,
   "id": "eff8c6f2",
   "metadata": {
    "execution": {
     "iopub.execute_input": "2023-11-29T08:52:18.590553Z",
     "iopub.status.busy": "2023-11-29T08:52:18.589669Z",
     "iopub.status.idle": "2023-11-29T08:52:18.685721Z",
     "shell.execute_reply": "2023-11-29T08:52:18.684610Z"
    },
    "papermill": {
     "duration": 0.12851,
     "end_time": "2023-11-29T08:52:18.688525",
     "exception": false,
     "start_time": "2023-11-29T08:52:18.560015",
     "status": "completed"
    },
    "tags": []
   },
   "outputs": [],
   "source": [
    "try:\n",
    "    from pyspark import SparkContext, SparkConf\n",
    "    from pyspark.sql import SparkSession\n",
    "    import math\n",
    "except ImportError as e:\n",
    "    print(e)\n",
    "    printmd('<<<<<!!!!! Please restart your kernel after installing Apache Spark !!!!!>>>>>')"
   ]
  },
  {
   "cell_type": "markdown",
   "id": "df93b747",
   "metadata": {
    "papermill": {
     "duration": 0.026875,
     "end_time": "2023-11-29T08:52:18.743213",
     "exception": false,
     "start_time": "2023-11-29T08:52:18.716338",
     "status": "completed"
    },
    "tags": []
   },
   "source": [
    "1. `SparkContext.getOrCreate()` tries to get an existing SparkContext or creates a new one if it doesn't exist. The SparkConf().setMaster(\"local[*]\") part specifies that Spark should run in **local mode using all available CPU cores ([*]). In local mode, Spark runs on a single machine, which is useful for development and testing.**\n",
    "2. `SparkSession.builder.getOrCreate()` follows a similar pattern as `SparkContext.getOrCreate()`. It tries to get an existing SparkSession or creates a new one if it doesn't exist. The `SparkSession` _**is the unified entry point for reading data, executing SQL queries, and performing other Spark operations using the DataFrame API.**_"
   ]
  },
  {
   "cell_type": "code",
   "execution_count": 3,
   "id": "ef9e42b0",
   "metadata": {
    "execution": {
     "iopub.execute_input": "2023-11-29T08:52:18.799735Z",
     "iopub.status.busy": "2023-11-29T08:52:18.799344Z",
     "iopub.status.idle": "2023-11-29T08:52:24.500707Z",
     "shell.execute_reply": "2023-11-29T08:52:24.499254Z"
    },
    "papermill": {
     "duration": 5.733109,
     "end_time": "2023-11-29T08:52:24.503657",
     "exception": false,
     "start_time": "2023-11-29T08:52:18.770548",
     "status": "completed"
    },
    "tags": []
   },
   "outputs": [
    {
     "name": "stderr",
     "output_type": "stream",
     "text": [
      "Setting default log level to \"WARN\".\n",
      "To adjust logging level use sc.setLogLevel(newLevel). For SparkR, use setLogLevel(newLevel).\n",
      "23/11/29 08:52:22 WARN NativeCodeLoader: Unable to load native-hadoop library for your platform... using builtin-java classes where applicable\n"
     ]
    }
   ],
   "source": [
    "# Create a SparkContext if it doesn't exist, using a local master URL\n",
    "sc = SparkContext.getOrCreate(SparkConf().setMaster(\"local[*]\"))\n",
    "\n",
    "# Create a SparkSession if it doesn't exist\n",
    "spark = SparkSession.builder.getOrCreate()"
   ]
  },
  {
   "cell_type": "markdown",
   "id": "18359cf8",
   "metadata": {
    "papermill": {
     "duration": 0.027445,
     "end_time": "2023-11-29T08:52:24.558867",
     "exception": false,
     "start_time": "2023-11-29T08:52:24.531422",
     "status": "completed"
    },
    "tags": []
   },
   "source": [
    "Creating an RDD (Resilient Distributed Dataset) using the parallelize method of the SparkContext (sc). Let me break down what this line does:\n",
    "\n",
    "   - `range(100)`: This creates a Python list containing numbers from 0 to 99.\n",
    "\n",
    "   - `sc.parallelize(range(100))`: This takes that Python list and distributes it across the Spark cluster, creating an RDD. The RDD is a fault-tolerant collection of elements that can be processed in parallel.\n",
    "\n",
    "So, the rdd variable now represents a distributed collection of numbers from 0 to 99. Each element of the RDD is stored on a different partition of the cluster, and Spark can perform operations on these partitions in parallel."
   ]
  },
  {
   "cell_type": "code",
   "execution_count": 4,
   "id": "6c12c581",
   "metadata": {
    "execution": {
     "iopub.execute_input": "2023-11-29T08:52:24.616039Z",
     "iopub.status.busy": "2023-11-29T08:52:24.615161Z",
     "iopub.status.idle": "2023-11-29T08:52:25.003768Z",
     "shell.execute_reply": "2023-11-29T08:52:25.002558Z"
    },
    "papermill": {
     "duration": 0.421149,
     "end_time": "2023-11-29T08:52:25.007195",
     "exception": false,
     "start_time": "2023-11-29T08:52:24.586046",
     "status": "completed"
    },
    "tags": []
   },
   "outputs": [],
   "source": [
    "rdd = sc.parallelize(range(100))"
   ]
  },
  {
   "cell_type": "markdown",
   "id": "a3f2fa41",
   "metadata": {
    "papermill": {
     "duration": 0.027716,
     "end_time": "2023-11-29T08:52:25.067024",
     "exception": false,
     "start_time": "2023-11-29T08:52:25.039308",
     "status": "completed"
    },
    "tags": []
   },
   "source": [
    "The `take` action in Spark is used to retrieve the **first N elements** from an RDD or DataFrame. "
   ]
  },
  {
   "cell_type": "code",
   "execution_count": 5,
   "id": "5008ae60",
   "metadata": {
    "execution": {
     "iopub.execute_input": "2023-11-29T08:52:25.190389Z",
     "iopub.status.busy": "2023-11-29T08:52:25.189949Z",
     "iopub.status.idle": "2023-11-29T08:52:27.737475Z",
     "shell.execute_reply": "2023-11-29T08:52:27.736386Z"
    },
    "papermill": {
     "duration": 2.590978,
     "end_time": "2023-11-29T08:52:27.746256",
     "exception": false,
     "start_time": "2023-11-29T08:52:25.155278",
     "status": "completed"
    },
    "tags": []
   },
   "outputs": [
    {
     "name": "stderr",
     "output_type": "stream",
     "text": [
      "                                                                                \r"
     ]
    },
    {
     "data": {
      "text/plain": [
       "[0, 1, 2, 3, 4, 5, 6, 7, 8, 9]"
      ]
     },
     "execution_count": 5,
     "metadata": {},
     "output_type": "execute_result"
    }
   ],
   "source": [
    "rdd.take(10) #note the as an array the rdd contains number from 0 to (n-1)"
   ]
  },
  {
   "cell_type": "markdown",
   "id": "72354c5e",
   "metadata": {
    "papermill": {
     "duration": 0.027679,
     "end_time": "2023-11-29T08:52:27.814385",
     "exception": false,
     "start_time": "2023-11-29T08:52:27.786706",
     "status": "completed"
    },
    "tags": []
   },
   "source": [
    "## Functional Programming"
   ]
  },
  {
   "cell_type": "markdown",
   "id": "a2b11538",
   "metadata": {
    "papermill": {
     "duration": 0.027784,
     "end_time": "2023-11-29T08:52:27.870131",
     "exception": false,
     "start_time": "2023-11-29T08:52:27.842347",
     "status": "completed"
    },
    "tags": []
   },
   "source": [
    "A python function which decides whether a value is greater than 50 (**True**) or not (**False**)."
   ]
  },
  {
   "cell_type": "code",
   "execution_count": 6,
   "id": "28a2959a",
   "metadata": {
    "execution": {
     "iopub.execute_input": "2023-11-29T08:52:27.949928Z",
     "iopub.status.busy": "2023-11-29T08:52:27.949377Z",
     "iopub.status.idle": "2023-11-29T08:52:27.957053Z",
     "shell.execute_reply": "2023-11-29T08:52:27.956053Z"
    },
    "papermill": {
     "duration": 0.054868,
     "end_time": "2023-11-29T08:52:27.963724",
     "exception": false,
     "start_time": "2023-11-29T08:52:27.908856",
     "status": "completed"
    },
    "tags": []
   },
   "outputs": [
    {
     "name": "stdout",
     "output_type": "stream",
     "text": [
      "False\n",
      "True\n"
     ]
    }
   ],
   "source": [
    "def gt50(i):\n",
    "    return i > 50\n",
    "\n",
    "print(gt50(4))\n",
    "print(gt50(51))"
   ]
  },
  {
   "cell_type": "markdown",
   "id": "833aea00",
   "metadata": {
    "papermill": {
     "duration": 0.027942,
     "end_time": "2023-11-29T08:52:28.033513",
     "exception": false,
     "start_time": "2023-11-29T08:52:28.005571",
     "status": "completed"
    },
    "tags": []
   },
   "source": [
    "Writing the above function but by lambda function\n",
    "\n",
    "This line of code defines a lambda function (lambda) named gt25. The lambda function takes a single argument `i` and returns a _Boolean value (True or False)_. In this case, the lambda function checks whether the input i is greater than 25.\n",
    "\n",
    "So, you can interpret this as follows: **gt25 is a function that, when given a value i, returns True if i is greater than 25 and False otherwise.**"
   ]
  },
  {
   "cell_type": "code",
   "execution_count": 7,
   "id": "f8b23ee7",
   "metadata": {
    "execution": {
     "iopub.execute_input": "2023-11-29T08:52:28.091411Z",
     "iopub.status.busy": "2023-11-29T08:52:28.090968Z",
     "iopub.status.idle": "2023-11-29T08:52:28.096602Z",
     "shell.execute_reply": "2023-11-29T08:52:28.095602Z"
    },
    "papermill": {
     "duration": 0.037186,
     "end_time": "2023-11-29T08:52:28.098938",
     "exception": false,
     "start_time": "2023-11-29T08:52:28.061752",
     "status": "completed"
    },
    "tags": []
   },
   "outputs": [
    {
     "name": "stdout",
     "output_type": "stream",
     "text": [
      "False\n",
      "True\n"
     ]
    }
   ],
   "source": [
    "gt25 = lambda i: i > 25\n",
    "\n",
    "print(gt25(4))\n",
    "print(gt25(51))"
   ]
  },
  {
   "cell_type": "markdown",
   "id": "d5c51385",
   "metadata": {
    "papermill": {
     "duration": 0.031827,
     "end_time": "2023-11-29T08:52:28.158586",
     "exception": false,
     "start_time": "2023-11-29T08:52:28.126759",
     "status": "completed"
    },
    "tags": []
   },
   "source": [
    "### Shuffling the RDD\n",
    "\n",
    "`l = list(range(100))`: Creates a list containing numbers from 0 to 99. This is a simple way to generate a list with sequential integers.\n",
    "\n",
    "`shuffle(l)`: Uses the shuffle function from the random module to randomly shuffle the elements of the list l. This step is intended to randomize the order of the numbers in the list.\n",
    "\n",
    "`sc.parallelize(l)`: Creates an RDD named rdd from the shuffled list l. The parallelize method of the SparkContext (sc) is used to distribute the elements of the list across the nodes of the Spark cluster. This RDD can then be used for parallel processing using Spark.\n",
    "\n",
    "So, after running this code, the _rdd_ variable holds a distributed representation of the shuffled list, and the elements are distributed across the nodes of the Spark cluster. "
   ]
  },
  {
   "cell_type": "code",
   "execution_count": 8,
   "id": "688e3b5e",
   "metadata": {
    "execution": {
     "iopub.execute_input": "2023-11-29T08:52:28.223639Z",
     "iopub.status.busy": "2023-11-29T08:52:28.222417Z",
     "iopub.status.idle": "2023-11-29T08:52:28.233787Z",
     "shell.execute_reply": "2023-11-29T08:52:28.232712Z"
    },
    "papermill": {
     "duration": 0.045707,
     "end_time": "2023-11-29T08:52:28.236236",
     "exception": false,
     "start_time": "2023-11-29T08:52:28.190529",
     "status": "completed"
    },
    "tags": []
   },
   "outputs": [],
   "source": [
    "from random import shuffle\n",
    "\n",
    "# Create a list containing numbers from 0 to 99\n",
    "l = list(range(100))\n",
    "\n",
    "# Shuffle the list randomly\n",
    "shuffle(l)\n",
    "\n",
    "# Create an RDD (Resilient Distributed Dataset) from the shuffled list\n",
    "rdd = sc.parallelize(l)\n"
   ]
  },
  {
   "cell_type": "markdown",
   "id": "901e25c7",
   "metadata": {
    "papermill": {
     "duration": 0.028113,
     "end_time": "2023-11-29T08:52:28.294335",
     "exception": false,
     "start_time": "2023-11-29T08:52:28.266222",
     "status": "completed"
    },
    "tags": []
   },
   "source": [
    "Filtering values from our list which are equals or less than 50 by applying the “gt50” function to the list using the “filter” function. \n",
    "**Note that by calling the “collect” function, all elements are returned to the Apache Spark Driver. This is not a good idea for BigData, please use “.sample(10,0.1).collect()” or “take(n)” instead. beacuse collect can be resource-intensive, especially if the RDD is large, as it brings all the data back to the driver program.**"
   ]
  },
  {
   "cell_type": "code",
   "execution_count": 9,
   "id": "727c3d03",
   "metadata": {
    "execution": {
     "iopub.execute_input": "2023-11-29T08:52:28.352865Z",
     "iopub.status.busy": "2023-11-29T08:52:28.351652Z",
     "iopub.status.idle": "2023-11-29T08:52:28.645495Z",
     "shell.execute_reply": "2023-11-29T08:52:28.644712Z"
    },
    "papermill": {
     "duration": 0.326335,
     "end_time": "2023-11-29T08:52:28.648811",
     "exception": false,
     "start_time": "2023-11-29T08:52:28.322476",
     "status": "completed"
    },
    "tags": []
   },
   "outputs": [
    {
     "data": {
      "text/plain": [
       "[57, 53, 92, 93, 64, 59, 82, 97, 66, 67]"
      ]
     },
     "execution_count": 9,
     "metadata": {},
     "output_type": "execute_result"
    }
   ],
   "source": [
    "# rdd.filter(gt50).collect() #we can use collect but following the best practice\n",
    "rdd.filter(gt50).take(10)"
   ]
  },
  {
   "cell_type": "markdown",
   "id": "07f394ff",
   "metadata": {
    "papermill": {
     "duration": 0.029251,
     "end_time": "2023-11-29T08:52:28.710838",
     "exception": false,
     "start_time": "2023-11-29T08:52:28.681587",
     "status": "completed"
    },
    "tags": []
   },
   "source": [
    "sample(10, 0.1): This is another transformation, specifically the sample transformation. It is used to create a random sample of the elements in the RDD. The parameters are:\n",
    "\n",
    "`10`: The number of elements to include in the sample.\n",
    "`0.1`: The sampling fraction, representing the probability that each element is included in the sample. In this case, it's set to 0.1, meaning there's a 10% chance of including each element in the sample.\n",
    "\n",
    "Note that the result of this operation doesn't directly give you a collection of elements; instead, it returns a new RDD that represents the sampled subset of the filtered data."
   ]
  },
  {
   "cell_type": "code",
   "execution_count": 10,
   "id": "21a7b4ac",
   "metadata": {
    "execution": {
     "iopub.execute_input": "2023-11-29T08:52:28.770996Z",
     "iopub.status.busy": "2023-11-29T08:52:28.769804Z",
     "iopub.status.idle": "2023-11-29T08:52:29.544827Z",
     "shell.execute_reply": "2023-11-29T08:52:29.543702Z"
    },
    "papermill": {
     "duration": 0.808986,
     "end_time": "2023-11-29T08:52:29.548145",
     "exception": false,
     "start_time": "2023-11-29T08:52:28.739159",
     "status": "completed"
    },
    "tags": []
   },
   "outputs": [
    {
     "data": {
      "text/plain": [
       "[67, 73, 74, 52, 55, 60, 60, 58, 62, 83]"
      ]
     },
     "execution_count": 10,
     "metadata": {},
     "output_type": "execute_result"
    }
   ],
   "source": [
    "sample = rdd.filter(gt50).sample(10, 0.1).take(10)\n",
    "sample"
   ]
  },
  {
   "cell_type": "code",
   "execution_count": 11,
   "id": "f877ae58",
   "metadata": {
    "execution": {
     "iopub.execute_input": "2023-11-29T08:52:29.618881Z",
     "iopub.status.busy": "2023-11-29T08:52:29.618491Z",
     "iopub.status.idle": "2023-11-29T08:52:29.636343Z",
     "shell.execute_reply": "2023-11-29T08:52:29.635306Z"
    },
    "papermill": {
     "duration": 0.054379,
     "end_time": "2023-11-29T08:52:29.638592",
     "exception": false,
     "start_time": "2023-11-29T08:52:29.584213",
     "status": "completed"
    },
    "tags": []
   },
   "outputs": [
    {
     "data": {
      "text/plain": [
       "PythonRDD[6] at RDD at PythonRDD.scala:53"
      ]
     },
     "execution_count": 11,
     "metadata": {},
     "output_type": "execute_result"
    }
   ],
   "source": [
    "# trying with sample api\n",
    "rdd.filter(gt50).sample(10,0.1)"
   ]
  },
  {
   "cell_type": "code",
   "execution_count": 12,
   "id": "63a1e6c4",
   "metadata": {
    "execution": {
     "iopub.execute_input": "2023-11-29T08:52:29.698676Z",
     "iopub.status.busy": "2023-11-29T08:52:29.697750Z",
     "iopub.status.idle": "2023-11-29T08:52:29.998813Z",
     "shell.execute_reply": "2023-11-29T08:52:29.998012Z"
    },
    "papermill": {
     "duration": 0.333828,
     "end_time": "2023-11-29T08:52:30.000972",
     "exception": false,
     "start_time": "2023-11-29T08:52:29.667144",
     "status": "completed"
    },
    "tags": []
   },
   "outputs": [
    {
     "data": {
      "text/plain": [
       "[57, 53, 92, 93, 64, 59, 82, 97, 66, 67]"
      ]
     },
     "execution_count": 12,
     "metadata": {},
     "output_type": "execute_result"
    }
   ],
   "source": [
    "rdd.filter(lambda i: i > 50).take(10) #running the same code but with a lambda function"
   ]
  },
  {
   "cell_type": "markdown",
   "id": "a8aee7cd",
   "metadata": {
    "papermill": {
     "duration": 0.02842,
     "end_time": "2023-11-29T08:52:30.059549",
     "exception": false,
     "start_time": "2023-11-29T08:52:30.031129",
     "status": "completed"
    },
    "tags": []
   },
   "source": [
    "Let’s consider the same list of integers. Now we want to compute the sum for elements in that list which are greater than 50 but less than 75. Please implement the missing parts. \n",
    "\n",
    "`rdd.filter(lambda x: $$).filter(lambda x: $$).$$()`"
   ]
  },
  {
   "cell_type": "code",
   "execution_count": 13,
   "id": "677022af",
   "metadata": {
    "execution": {
     "iopub.execute_input": "2023-11-29T08:52:30.118884Z",
     "iopub.status.busy": "2023-11-29T08:52:30.118462Z",
     "iopub.status.idle": "2023-11-29T08:52:30.668019Z",
     "shell.execute_reply": "2023-11-29T08:52:30.667286Z"
    },
    "papermill": {
     "duration": 0.581851,
     "end_time": "2023-11-29T08:52:30.670297",
     "exception": false,
     "start_time": "2023-11-29T08:52:30.088446",
     "status": "completed"
    },
    "tags": []
   },
   "outputs": [
    {
     "data": {
      "text/plain": [
       "[57, 53, 64, 59, 66, 67, 73, 69, 72, 70]"
      ]
     },
     "execution_count": 13,
     "metadata": {},
     "output_type": "execute_result"
    }
   ],
   "source": [
    "rdd.filter(lambda x: x > 50 and x < 75).take(10) # shortened the code but doing that in one filter function"
   ]
  },
  {
   "cell_type": "markdown",
   "id": "431495e1",
   "metadata": {
    "papermill": {
     "duration": 0.028658,
     "end_time": "2023-11-29T08:52:30.728518",
     "exception": false,
     "start_time": "2023-11-29T08:52:30.699860",
     "status": "completed"
    },
    "tags": []
   },
   "source": [
    "## Working with the statistical parameters"
   ]
  },
  {
   "cell_type": "markdown",
   "id": "9f72b71c",
   "metadata": {
    "papermill": {
     "duration": 0.028843,
     "end_time": "2023-11-29T08:52:30.786201",
     "exception": false,
     "start_time": "2023-11-29T08:52:30.757358",
     "status": "completed"
    },
    "tags": []
   },
   "source": [
    "### 1. First statistical moment ------> Mean and Median"
   ]
  },
  {
   "cell_type": "code",
   "execution_count": 14,
   "id": "ca56cd09",
   "metadata": {
    "execution": {
     "iopub.execute_input": "2023-11-29T08:52:30.847996Z",
     "iopub.status.busy": "2023-11-29T08:52:30.846798Z",
     "iopub.status.idle": "2023-11-29T08:52:30.867966Z",
     "shell.execute_reply": "2023-11-29T08:52:30.866781Z"
    },
    "papermill": {
     "duration": 0.055159,
     "end_time": "2023-11-29T08:52:30.870662",
     "exception": false,
     "start_time": "2023-11-29T08:52:30.815503",
     "status": "completed"
    },
    "tags": []
   },
   "outputs": [],
   "source": [
    "try:\n",
    "    from pyspark import SparkContext, SparkConf\n",
    "    from pyspark.sql import SparkSession\n",
    "except ImportError as e:\n",
    "    print(e)\n",
    "    \n",
    "# Create a SparkContext if it doesn't exist, using a local master URL\n",
    "sc = SparkContext.getOrCreate(SparkConf().setMaster(\"local[*]\"))\n",
    "\n",
    "# Create a SparkSession if it doesn't exist\n",
    "spark = SparkSession.builder.getOrCreate()\n",
    "\n",
    "\n",
    "rdd = sc.parallelize(range(100))"
   ]
  },
  {
   "cell_type": "markdown",
   "id": "8609110a",
   "metadata": {
    "papermill": {
     "duration": 0.028631,
     "end_time": "2023-11-29T08:52:30.929070",
     "exception": false,
     "start_time": "2023-11-29T08:52:30.900439",
     "status": "completed"
    },
    "tags": []
   },
   "source": [
    "### Mean is calculated by using this formula\n",
    "$$\n",
    "\\bar{x} = \\frac{1}{n} \\sum_{i=1}^{n} x_i\n",
    "$$\n"
   ]
  },
  {
   "cell_type": "code",
   "execution_count": 15,
   "id": "2d19e82a",
   "metadata": {
    "execution": {
     "iopub.execute_input": "2023-11-29T08:52:30.990475Z",
     "iopub.status.busy": "2023-11-29T08:52:30.989719Z",
     "iopub.status.idle": "2023-11-29T08:52:32.204187Z",
     "shell.execute_reply": "2023-11-29T08:52:32.203079Z"
    },
    "papermill": {
     "duration": 1.248515,
     "end_time": "2023-11-29T08:52:32.207185",
     "exception": false,
     "start_time": "2023-11-29T08:52:30.958670",
     "status": "completed"
    },
    "tags": []
   },
   "outputs": [
    {
     "data": {
      "text/plain": [
       "49.5"
      ]
     },
     "execution_count": 15,
     "metadata": {},
     "output_type": "execute_result"
    }
   ],
   "source": [
    "sum = rdd.sum()  # does the summation of all the elements in the rdd\n",
    "n = rdd.count() #counts the number of elements in the RDD\n",
    "mean = sum/float(n) # calculating the x(bar)\n",
    "mean"
   ]
  },
  {
   "cell_type": "markdown",
   "id": "74b3919d",
   "metadata": {
    "papermill": {
     "duration": 0.02904,
     "end_time": "2023-11-29T08:52:32.270249",
     "exception": false,
     "start_time": "2023-11-29T08:52:32.241209",
     "status": "completed"
    },
    "tags": []
   },
   "source": [
    "### Median can be calculated in the following manner\n",
    "For odd \\( n \\):\n",
    "$$\n",
    "\\tilde{x} = x_{\\frac{n+1}{2}}\n",
    "$$\n",
    "\n",
    "For even \\( n \\):\n",
    "$$\n",
    "\\tilde{x} = \\frac{x_{\\frac{n}{2}} + x_{\\frac{n}{2}+1}}{2}\n",
    "$$"
   ]
  },
  {
   "cell_type": "code",
   "execution_count": 16,
   "id": "c4350213",
   "metadata": {
    "execution": {
     "iopub.execute_input": "2023-11-29T08:52:32.330835Z",
     "iopub.status.busy": "2023-11-29T08:52:32.330401Z",
     "iopub.status.idle": "2023-11-29T08:52:36.611922Z",
     "shell.execute_reply": "2023-11-29T08:52:36.610827Z"
    },
    "papermill": {
     "duration": 4.315326,
     "end_time": "2023-11-29T08:52:36.615215",
     "exception": false,
     "start_time": "2023-11-29T08:52:32.299889",
     "status": "completed"
    },
    "tags": []
   },
   "outputs": [
    {
     "name": "stderr",
     "output_type": "stream",
     "text": [
      "                                                                                \r"
     ]
    },
    {
     "name": "stdout",
     "output_type": "stream",
     "text": [
      "49.5\n"
     ]
    }
   ],
   "source": [
    "sortedRDD = rdd.sortBy(lambda x : x).zipWithIndex().map(lambda item: (item[1], item[0]))\n",
    "n = sortedRDD.count()\n",
    "if (n%2 == 1):\n",
    "    index = (n-1)/2\n",
    "    print(sortedRDD.lookup(index))\n",
    "else:\n",
    "    index1 = n/2\n",
    "    index2 = (n/2)-1\n",
    "    value1 = sortedRDD.lookup(index1)[0]\n",
    "    value2 = sortedRDD.lookup(index2)[0]\n",
    "    print((value1+value2)/2.0)"
   ]
  },
  {
   "cell_type": "markdown",
   "id": "c30d7bc0",
   "metadata": {
    "papermill": {
     "duration": 0.030433,
     "end_time": "2023-11-29T08:52:36.688882",
     "exception": false,
     "start_time": "2023-11-29T08:52:36.658449",
     "status": "completed"
    },
    "tags": []
   },
   "source": [
    "## Now lets add outliers to the data and see the difference"
   ]
  },
  {
   "cell_type": "code",
   "execution_count": 17,
   "id": "145cc425",
   "metadata": {
    "execution": {
     "iopub.execute_input": "2023-11-29T08:52:36.750044Z",
     "iopub.status.busy": "2023-11-29T08:52:36.749658Z",
     "iopub.status.idle": "2023-11-29T08:52:36.759825Z",
     "shell.execute_reply": "2023-11-29T08:52:36.758704Z"
    },
    "papermill": {
     "duration": 0.043412,
     "end_time": "2023-11-29T08:52:36.762361",
     "exception": false,
     "start_time": "2023-11-29T08:52:36.718949",
     "status": "completed"
    },
    "tags": []
   },
   "outputs": [],
   "source": [
    "rdd = sc.parallelize([101,102,10000,1023] + list(range(100)))"
   ]
  },
  {
   "cell_type": "code",
   "execution_count": 18,
   "id": "fa753ef4",
   "metadata": {
    "execution": {
     "iopub.execute_input": "2023-11-29T08:52:36.824797Z",
     "iopub.status.busy": "2023-11-29T08:52:36.824391Z",
     "iopub.status.idle": "2023-11-29T08:52:40.885519Z",
     "shell.execute_reply": "2023-11-29T08:52:40.884420Z"
    },
    "papermill": {
     "duration": 4.096305,
     "end_time": "2023-11-29T08:52:40.889277",
     "exception": false,
     "start_time": "2023-11-29T08:52:36.792972",
     "status": "completed"
    },
    "tags": []
   },
   "outputs": [
    {
     "name": "stdout",
     "output_type": "stream",
     "text": [
      "51.5\n"
     ]
    }
   ],
   "source": [
    "sortedRDD = rdd.sortBy(lambda x : x).zipWithIndex().map(lambda item: (item[1], item[0]))\n",
    "n = sortedRDD.count()\n",
    "if (n%2 == 1):\n",
    "    index = (n-1)/2\n",
    "    print(sortedRDD.lookup(index))\n",
    "else:\n",
    "    index1 = n/2\n",
    "    index2 = (n/2)-1\n",
    "    value1 = sortedRDD.lookup(index1)[0]\n",
    "    value2 = sortedRDD.lookup(index2)[0]\n",
    "    print((value1+value2)/2.0)\n",
    "    \n",
    "    "
   ]
  },
  {
   "cell_type": "code",
   "execution_count": 19,
   "id": "cd2ddbb1",
   "metadata": {
    "execution": {
     "iopub.execute_input": "2023-11-29T08:52:40.972757Z",
     "iopub.status.busy": "2023-11-29T08:52:40.972363Z",
     "iopub.status.idle": "2023-11-29T08:52:41.924652Z",
     "shell.execute_reply": "2023-11-29T08:52:41.923585Z"
    },
    "papermill": {
     "duration": 0.995436,
     "end_time": "2023-11-29T08:52:41.927681",
     "exception": false,
     "start_time": "2023-11-29T08:52:40.932245",
     "status": "completed"
    },
    "tags": []
   },
   "outputs": [
    {
     "data": {
      "text/plain": [
       "155.53846153846155"
      ]
     },
     "execution_count": 19,
     "metadata": {},
     "output_type": "execute_result"
    }
   ],
   "source": [
    "sum = rdd.sum()  # does the summation of all the elements in the rdd\n",
    "n = rdd.count() #counts the number of elements in the RDD\n",
    "mean = sum/float(n) # calculating the x(bar)\n",
    "mean"
   ]
  },
  {
   "cell_type": "markdown",
   "id": "0417bc44",
   "metadata": {
    "papermill": {
     "duration": 0.030545,
     "end_time": "2023-11-29T08:52:41.996379",
     "exception": false,
     "start_time": "2023-11-29T08:52:41.965834",
     "status": "completed"
    },
    "tags": []
   },
   "source": [
    "## NOTE:\n",
    "We can see that there are differences between the mean and the median when there are outliers\n",
    "\n",
    "**Thats why we prefer the median method which is resilient to the outliers**"
   ]
  },
  {
   "cell_type": "markdown",
   "id": "b23efa5a",
   "metadata": {
    "papermill": {
     "duration": 0.029295,
     "end_time": "2023-11-29T08:52:42.055709",
     "exception": false,
     "start_time": "2023-11-29T08:52:42.026414",
     "status": "completed"
    },
    "tags": []
   },
   "source": [
    "### Standard Deviation\n",
    "\n",
    "The formula for the standard deviation (σσ) of a dataset is given by:\n",
    "$$\n",
    "\\sigma = \\sqrt{\\frac{\\sum_{i=1}^{n}(x_i - \\bar{x})^2}{n}}\n",
    "$$\n",
    "Here:\n",
    "\n",
    "- σσ represents the standard deviation.\n",
    "- nn is the number of observations in the dataset.\n",
    "- xixi​ represents each individual observation in the dataset.\n",
    "- xˉxˉ is the mean of the dataset."
   ]
  },
  {
   "cell_type": "code",
   "execution_count": 20,
   "id": "bb3e5e22",
   "metadata": {
    "execution": {
     "iopub.execute_input": "2023-11-29T08:52:42.118616Z",
     "iopub.status.busy": "2023-11-29T08:52:42.117502Z",
     "iopub.status.idle": "2023-11-29T08:52:42.132508Z",
     "shell.execute_reply": "2023-11-29T08:52:42.131543Z"
    },
    "papermill": {
     "duration": 0.048136,
     "end_time": "2023-11-29T08:52:42.134992",
     "exception": false,
     "start_time": "2023-11-29T08:52:42.086856",
     "status": "completed"
    },
    "tags": []
   },
   "outputs": [],
   "source": [
    "try:\n",
    "    from pyspark import SparkContext, SparkConf\n",
    "    from pyspark.sql import SparkSession\n",
    "except ImportError as e:\n",
    "    print(e)\n",
    "    \n",
    "# Create a SparkContext if it doesn't exist, using a local master URL\n",
    "sc = SparkContext.getOrCreate(SparkConf().setMaster(\"local[*]\"))\n",
    "\n",
    "# Create a SparkSession if it doesn't exist\n",
    "spark = SparkSession.builder.getOrCreate()\n",
    "\n",
    "\n",
    "rdd = sc.parallelize(range(100))"
   ]
  },
  {
   "cell_type": "markdown",
   "id": "2ad53c75",
   "metadata": {
    "papermill": {
     "duration": 0.02931,
     "end_time": "2023-11-29T08:52:42.193921",
     "exception": false,
     "start_time": "2023-11-29T08:52:42.164611",
     "status": "completed"
    },
    "tags": []
   },
   "source": [
    "If we want to apply a function to the all the entries in the python then we should use `map`"
   ]
  },
  {
   "cell_type": "code",
   "execution_count": 21,
   "id": "e535b5ff",
   "metadata": {
    "execution": {
     "iopub.execute_input": "2023-11-29T08:52:42.254578Z",
     "iopub.status.busy": "2023-11-29T08:52:42.253416Z",
     "iopub.status.idle": "2023-11-29T08:52:43.661294Z",
     "shell.execute_reply": "2023-11-29T08:52:43.660192Z"
    },
    "papermill": {
     "duration": 1.441049,
     "end_time": "2023-11-29T08:52:43.664209",
     "exception": false,
     "start_time": "2023-11-29T08:52:42.223160",
     "status": "completed"
    },
    "tags": []
   },
   "outputs": [
    {
     "data": {
      "text/plain": [
       "28.86607004772212"
      ]
     },
     "execution_count": 21,
     "metadata": {},
     "output_type": "execute_result"
    }
   ],
   "source": [
    "mean = rdd.mean()\n",
    "n = rdd.count()\n",
    "standard_deviation = math.sqrt(rdd.map(lambda x: pow((x - mean), 2)).sum()/n)\n",
    "standard_deviation"
   ]
  },
  {
   "cell_type": "markdown",
   "id": "1ebe4313",
   "metadata": {
    "papermill": {
     "duration": 0.029723,
     "end_time": "2023-11-29T08:52:43.731146",
     "exception": false,
     "start_time": "2023-11-29T08:52:43.701423",
     "status": "completed"
    },
    "tags": []
   },
   "source": [
    "## Skewness\n",
    "\n",
    "The formula for skewness (γ1γ1​) in LaTeX is typically expressed as follows:\n",
    "\n",
    "latex\n",
    "$$\n",
    "\\gamma_1 = \\frac{\\frac{1}{n} \\sum_{i=1}^{n}(x_i - \\bar{x})^3}{\\left(\\frac{1}{n} \\sum_{i=1}^{n}(x_i - \\bar{x})^2\\right)^{3/2}}\n",
    "$$\n",
    "Here:\n",
    "\n",
    "- γ1​ represents skewness.\n",
    "- n is the number of observations.\n",
    "- xi​ represents each individual observation.\n",
    "- xˉ is the mean of the dataset.\n",
    "\n"
   ]
  },
  {
   "cell_type": "code",
   "execution_count": 22,
   "id": "db63339a",
   "metadata": {
    "execution": {
     "iopub.execute_input": "2023-11-29T08:52:43.792966Z",
     "iopub.status.busy": "2023-11-29T08:52:43.792211Z",
     "iopub.status.idle": "2023-11-29T08:52:43.802387Z",
     "shell.execute_reply": "2023-11-29T08:52:43.801199Z"
    },
    "papermill": {
     "duration": 0.044268,
     "end_time": "2023-11-29T08:52:43.805139",
     "exception": false,
     "start_time": "2023-11-29T08:52:43.760871",
     "status": "completed"
    },
    "tags": []
   },
   "outputs": [],
   "source": [
    "try:\n",
    "    from pyspark import SparkContext, SparkConf\n",
    "    from pyspark.sql import SparkSession\n",
    "except ImportError as e:\n",
    "    print(e)\n",
    "    \n",
    "# Create a SparkContext if it doesn't exist, using a local master URL\n",
    "sc = SparkContext.getOrCreate(SparkConf().setMaster(\"local[*]\"))\n",
    "\n",
    "# Create a SparkSession if it doesn't exist\n",
    "spark = SparkSession.builder.getOrCreate()"
   ]
  },
  {
   "cell_type": "code",
   "execution_count": 23,
   "id": "d74d118e",
   "metadata": {
    "execution": {
     "iopub.execute_input": "2023-11-29T08:52:43.866981Z",
     "iopub.status.busy": "2023-11-29T08:52:43.866541Z",
     "iopub.status.idle": "2023-11-29T08:52:45.501141Z",
     "shell.execute_reply": "2023-11-29T08:52:45.500095Z"
    },
    "papermill": {
     "duration": 1.668944,
     "end_time": "2023-11-29T08:52:45.504103",
     "exception": false,
     "start_time": "2023-11-29T08:52:43.835159",
     "status": "completed"
    },
    "tags": []
   },
   "outputs": [
    {
     "data": {
      "text/plain": [
       "1.4210854715202004e-16"
      ]
     },
     "execution_count": 23,
     "metadata": {},
     "output_type": "execute_result"
    }
   ],
   "source": [
    "rdd = sc.parallelize(range(100))\n",
    "mean = rdd.mean()\n",
    "n = float(rdd.count())\n",
    "standard_deviation = math.sqrt(rdd.map(lambda x: pow((x - mean), 2)).sum()/n)\n",
    "\n",
    "skewness = (rdd.map(lambda x: pow((x-mean),3)/pow(standard_deviation,3)).sum())/n\n",
    "skewness"
   ]
  },
  {
   "cell_type": "code",
   "execution_count": 24,
   "id": "932d1902",
   "metadata": {
    "execution": {
     "iopub.execute_input": "2023-11-29T08:52:45.570710Z",
     "iopub.status.busy": "2023-11-29T08:52:45.570250Z",
     "iopub.status.idle": "2023-11-29T08:52:47.116846Z",
     "shell.execute_reply": "2023-11-29T08:52:47.115797Z"
    },
    "papermill": {
     "duration": 1.580808,
     "end_time": "2023-11-29T08:52:47.120092",
     "exception": false,
     "start_time": "2023-11-29T08:52:45.539284",
     "status": "completed"
    },
    "tags": []
   },
   "outputs": [
    {
     "data": {
      "text/plain": [
       "10.00200794849941"
      ]
     },
     "execution_count": 24,
     "metadata": {},
     "output_type": "execute_result"
    }
   ],
   "source": [
    "## trying to right skew the data\n",
    "rdd = sc.parallelize([101,102,10000,1023,121728] + list(range(100)))\n",
    "mean = rdd.mean()\n",
    "n = float(rdd.count())\n",
    "standard_deviation = math.sqrt(rdd.map(lambda x: pow((x - mean), 2)).sum()/n)\n",
    "\n",
    "skewness = (rdd.map(lambda x: pow((x-mean),3)/pow(standard_deviation,3)).sum())/n\n",
    "skewness"
   ]
  },
  {
   "cell_type": "code",
   "execution_count": 25,
   "id": "94332922",
   "metadata": {
    "execution": {
     "iopub.execute_input": "2023-11-29T08:52:47.204701Z",
     "iopub.status.busy": "2023-11-29T08:52:47.204305Z",
     "iopub.status.idle": "2023-11-29T08:52:48.959858Z",
     "shell.execute_reply": "2023-11-29T08:52:48.957980Z"
    },
    "papermill": {
     "duration": 1.793978,
     "end_time": "2023-11-29T08:52:48.965957",
     "exception": false,
     "start_time": "2023-11-29T08:52:47.171979",
     "status": "completed"
    },
    "tags": []
   },
   "outputs": [
    {
     "name": "stderr",
     "output_type": "stream",
     "text": [
      "                                                                                \r"
     ]
    },
    {
     "data": {
      "text/plain": [
       "-10.00010218410623"
      ]
     },
     "execution_count": 25,
     "metadata": {},
     "output_type": "execute_result"
    }
   ],
   "source": [
    "## trying to left skew the data\n",
    "rdd = sc.parallelize([-101,-102,-10000,-1023,-121728] + list(range(100)))\n",
    "mean = rdd.mean()\n",
    "n = float(rdd.count())\n",
    "standard_deviation = math.sqrt(rdd.map(lambda x: pow((x - mean), 2)).sum()/n)\n",
    "\n",
    "skewness = (rdd.map(lambda x: pow((x-mean),3)/pow(standard_deviation,3)).sum())/n\n",
    "skewness"
   ]
  },
  {
   "cell_type": "markdown",
   "id": "520ee91a",
   "metadata": {
    "papermill": {
     "duration": 0.034168,
     "end_time": "2023-11-29T08:52:49.042816",
     "exception": false,
     "start_time": "2023-11-29T08:52:49.008648",
     "status": "completed"
    },
    "tags": []
   },
   "source": [
    "## Kurtosis can be measured by:\n",
    "\n",
    "$$\n",
    "\\gamma_2 = \\frac{\\frac{1}{n} \\sum_{i=1}^{n}(x_i - \\bar{x})^4}{\\left(\\frac{1}{n} \\sum_{i=1}^{n}(x_i - \\bar{x})^2\\right)^{2}}\n",
    "$$"
   ]
  },
  {
   "cell_type": "code",
   "execution_count": 26,
   "id": "828d3e69",
   "metadata": {
    "execution": {
     "iopub.execute_input": "2023-11-29T08:52:49.128971Z",
     "iopub.status.busy": "2023-11-29T08:52:49.128335Z",
     "iopub.status.idle": "2023-11-29T08:52:49.142846Z",
     "shell.execute_reply": "2023-11-29T08:52:49.141943Z"
    },
    "papermill": {
     "duration": 0.062317,
     "end_time": "2023-11-29T08:52:49.147952",
     "exception": false,
     "start_time": "2023-11-29T08:52:49.085635",
     "status": "completed"
    },
    "tags": []
   },
   "outputs": [],
   "source": [
    "try:\n",
    "    from pyspark import SparkContext, SparkConf\n",
    "    from pyspark.sql import SparkSession\n",
    "except ImportError as e:\n",
    "    print(e)\n",
    "    \n",
    "# Create a SparkContext if it doesn't exist, using a local master URL\n",
    "sc = SparkContext.getOrCreate(SparkConf().setMaster(\"local[*]\"))\n",
    "\n",
    "# Create a SparkSession if it doesn't exist\n",
    "spark = SparkSession.builder.getOrCreate()"
   ]
  },
  {
   "cell_type": "code",
   "execution_count": 27,
   "id": "66b78fde",
   "metadata": {
    "execution": {
     "iopub.execute_input": "2023-11-29T08:52:49.232343Z",
     "iopub.status.busy": "2023-11-29T08:52:49.231806Z",
     "iopub.status.idle": "2023-11-29T08:52:50.767897Z",
     "shell.execute_reply": "2023-11-29T08:52:50.766532Z"
    },
    "papermill": {
     "duration": 1.582548,
     "end_time": "2023-11-29T08:52:50.771195",
     "exception": false,
     "start_time": "2023-11-29T08:52:49.188647",
     "status": "completed"
    },
    "tags": []
   },
   "outputs": [
    {
     "data": {
      "text/plain": [
       "-1.2002400240024003"
      ]
     },
     "execution_count": 27,
     "metadata": {},
     "output_type": "execute_result"
    }
   ],
   "source": [
    "import math\n",
    "\n",
    "# Assuming rdd is your RDD\n",
    "rdd = sc.parallelize(range(100))\n",
    "mean = rdd.mean()\n",
    "n = float(rdd.count())\n",
    "standard_deviation = math.sqrt(rdd.map(lambda x: pow((x - mean), 2)).sum() / n)\n",
    "\n",
    "kurtosis = rdd.map(lambda x: pow((x - mean), 4) / pow(standard_deviation, 4)).sum() / n - 3\n",
    "kurtosis\n"
   ]
  },
  {
   "cell_type": "markdown",
   "id": "c3286f73",
   "metadata": {
    "papermill": {
     "duration": 0.031088,
     "end_time": "2023-11-29T08:52:50.841409",
     "exception": false,
     "start_time": "2023-11-29T08:52:50.810321",
     "status": "completed"
    },
    "tags": []
   },
   "source": [
    "## Co-variance, Covariance Matrix and Correlation"
   ]
  },
  {
   "cell_type": "code",
   "execution_count": 28,
   "id": "70a97bb7",
   "metadata": {
    "execution": {
     "iopub.execute_input": "2023-11-29T08:52:50.905480Z",
     "iopub.status.busy": "2023-11-29T08:52:50.905031Z",
     "iopub.status.idle": "2023-11-29T08:52:50.914953Z",
     "shell.execute_reply": "2023-11-29T08:52:50.913860Z"
    },
    "papermill": {
     "duration": 0.045014,
     "end_time": "2023-11-29T08:52:50.917696",
     "exception": false,
     "start_time": "2023-11-29T08:52:50.872682",
     "status": "completed"
    },
    "tags": []
   },
   "outputs": [],
   "source": [
    "try:\n",
    "    from pyspark import SparkContext, SparkConf\n",
    "    from pyspark.sql import SparkSession\n",
    "except ImportError as e:\n",
    "    print(e)\n",
    "    \n",
    "# Create a SparkContext if it doesn't exist, using a local master URL\n",
    "sc = SparkContext.getOrCreate(SparkConf().setMaster(\"local[*]\"))\n",
    "\n",
    "# Create a SparkSession if it doesn't exist\n",
    "spark = SparkSession.builder.getOrCreate()"
   ]
  },
  {
   "cell_type": "code",
   "execution_count": 29,
   "id": "ed3146b3",
   "metadata": {
    "execution": {
     "iopub.execute_input": "2023-11-29T08:52:50.981736Z",
     "iopub.status.busy": "2023-11-29T08:52:50.980960Z",
     "iopub.status.idle": "2023-11-29T08:52:51.481900Z",
     "shell.execute_reply": "2023-11-29T08:52:51.480027Z"
    },
    "papermill": {
     "duration": 0.536412,
     "end_time": "2023-11-29T08:52:51.485136",
     "exception": false,
     "start_time": "2023-11-29T08:52:50.948724",
     "status": "completed"
    },
    "tags": []
   },
   "outputs": [
    {
     "name": "stdout",
     "output_type": "stream",
     "text": [
      "[0, 1, 2, 3, 4]\n",
      "[0, 1, 2, 3, 4]\n"
     ]
    }
   ],
   "source": [
    "rddx = sc.parallelize(range(100))\n",
    "rddy = sc.parallelize(range(100))\n",
    "print(rddx.take(5))\n",
    "print(rddy.take(5))"
   ]
  },
  {
   "cell_type": "code",
   "execution_count": 30,
   "id": "defb8d7a",
   "metadata": {
    "execution": {
     "iopub.execute_input": "2023-11-29T08:52:51.557955Z",
     "iopub.status.busy": "2023-11-29T08:52:51.557445Z",
     "iopub.status.idle": "2023-11-29T08:52:53.069176Z",
     "shell.execute_reply": "2023-11-29T08:52:53.067789Z"
    },
    "papermill": {
     "duration": 1.547898,
     "end_time": "2023-11-29T08:52:53.072298",
     "exception": false,
     "start_time": "2023-11-29T08:52:51.524400",
     "status": "completed"
    },
    "tags": []
   },
   "outputs": [
    {
     "name": "stdout",
     "output_type": "stream",
     "text": [
      "49.5\n",
      "49.5\n"
     ]
    }
   ],
   "source": [
    "meanx = rddx.sum()/rddx.count()\n",
    "meany = rddy.sum()/rddy.count()\n",
    "print(meanx)\n",
    "print(meany)"
   ]
  },
  {
   "cell_type": "code",
   "execution_count": 31,
   "id": "e060693d",
   "metadata": {
    "execution": {
     "iopub.execute_input": "2023-11-29T08:52:53.157656Z",
     "iopub.status.busy": "2023-11-29T08:52:53.157146Z",
     "iopub.status.idle": "2023-11-29T08:52:55.842998Z",
     "shell.execute_reply": "2023-11-29T08:52:55.841975Z"
    },
    "papermill": {
     "duration": 2.722825,
     "end_time": "2023-11-29T08:52:55.847041",
     "exception": false,
     "start_time": "2023-11-29T08:52:53.124216",
     "status": "completed"
    },
    "tags": []
   },
   "outputs": [
    {
     "name": "stdout",
     "output_type": "stream",
     "text": [
      "[(0, 0), (1, 1), (2, 2), (3, 3), (4, 4)]\n"
     ]
    },
    {
     "name": "stderr",
     "output_type": "stream",
     "text": [
      "                                                                                \r"
     ]
    },
    {
     "data": {
      "text/plain": [
       "833.25"
      ]
     },
     "execution_count": 31,
     "metadata": {},
     "output_type": "execute_result"
    }
   ],
   "source": [
    "rddxy =  rddx.zip(rddy)\n",
    "print(rddxy.take(5))\n",
    "# covariance = rddxy.map(lambda (x,y) : (x-meanx)*(y-meany)).sum()/rddxy.count()\n",
    "covarianceXY = rddxy.map(lambda xy: (xy[0] - meanx) * (xy[1] - meany)).sum() / rddxy.count()\n",
    "covarianceXY"
   ]
  },
  {
   "cell_type": "code",
   "execution_count": 32,
   "id": "b228154f",
   "metadata": {
    "execution": {
     "iopub.execute_input": "2023-11-29T08:52:55.917767Z",
     "iopub.status.busy": "2023-11-29T08:52:55.917361Z",
     "iopub.status.idle": "2023-11-29T08:52:57.797196Z",
     "shell.execute_reply": "2023-11-29T08:52:57.792871Z"
    },
    "papermill": {
     "duration": 1.916189,
     "end_time": "2023-11-29T08:52:57.800504",
     "exception": false,
     "start_time": "2023-11-29T08:52:55.884315",
     "status": "completed"
    },
    "tags": []
   },
   "outputs": [
    {
     "data": {
      "text/plain": [
       "1.0"
      ]
     },
     "execution_count": 32,
     "metadata": {},
     "output_type": "execute_result"
    }
   ],
   "source": [
    "standard_deviationX = math.sqrt(rddx.map(lambda x: pow((x - mean), 2)).sum() / rddx.count())\n",
    "standard_deviationY = math.sqrt(rddy.map(lambda y: pow((y - mean), 2)).sum() / rddx.count())\n",
    "\n",
    "correaltionXY = covarianceXY/(standard_deviationX * standard_deviationY)\n",
    "correaltionXY"
   ]
  },
  {
   "cell_type": "markdown",
   "id": "e71273c1",
   "metadata": {
    "papermill": {
     "duration": 0.042439,
     "end_time": "2023-11-29T08:52:57.891274",
     "exception": false,
     "start_time": "2023-11-29T08:52:57.848835",
     "status": "completed"
    },
    "tags": []
   },
   "source": [
    "## Mixing and playing with the rdd to see the changes in the RDD"
   ]
  },
  {
   "cell_type": "code",
   "execution_count": 33,
   "id": "92281394",
   "metadata": {
    "execution": {
     "iopub.execute_input": "2023-11-29T08:52:57.983823Z",
     "iopub.status.busy": "2023-11-29T08:52:57.983311Z",
     "iopub.status.idle": "2023-11-29T08:53:02.741567Z",
     "shell.execute_reply": "2023-11-29T08:53:02.740424Z"
    },
    "papermill": {
     "duration": 4.805027,
     "end_time": "2023-11-29T08:53:02.744289",
     "exception": false,
     "start_time": "2023-11-29T08:52:57.939262",
     "status": "completed"
    },
    "tags": []
   },
   "outputs": [
    {
     "name": "stdout",
     "output_type": "stream",
     "text": [
      "[101, 103, 10004, 1025, 121728]\n",
      "[101, 102, 10000, 1023, 121728]\n",
      "1313.4380952380952\n",
      "1313.3714285714286\n",
      "[(101, 101), (103, 102), (10004, 10000), (1025, 1023), (121728, 121728)]\n",
      "140362049.98965988\n",
      "0.9887471054388047\n"
     ]
    }
   ],
   "source": [
    "rddx = sc.parallelize([101,103,10004,1025,121728] + list(range(100)))\n",
    "rddy = sc.parallelize([101,102,10000,1023,121728] + list(range(100)))\n",
    "print(rddx.take(5))\n",
    "print(rddy.take(5))\n",
    "meanx = rddx.sum()/rddx.count()\n",
    "meany = rddy.sum()/rddy.count()\n",
    "print(meanx)\n",
    "print(meany)\n",
    "\n",
    "rddxy =  rddx.zip(rddy)\n",
    "print(rddxy.take(5))\n",
    "\n",
    "# covariance = rddxy.map(lambda (x,y) : (x-meanx)*(y-meany)).sum()/rddxy.count()\n",
    "covarianceXY = rddxy.map(lambda xy: (xy[0] - meanx) * (xy[1] - meany)).sum() / rddxy.count()\n",
    "print(covarianceXY)\n",
    "\n",
    "standard_deviationX = math.sqrt(rddx.map(lambda x: pow((x - mean), 2)).sum() / rddx.count())\n",
    "standard_deviationY = math.sqrt(rddy.map(lambda y: pow((y - mean), 2)).sum() / rddx.count())\n",
    "\n",
    "correaltionXY = covarianceXY/(standard_deviationX * standard_deviationY)\n",
    "print(correaltionXY)"
   ]
  },
  {
   "cell_type": "markdown",
   "id": "94e78632",
   "metadata": {
    "papermill": {
     "duration": 0.033306,
     "end_time": "2023-11-29T08:53:02.810409",
     "exception": false,
     "start_time": "2023-11-29T08:53:02.777103",
     "status": "completed"
    },
    "tags": []
   },
   "source": [
    "Solving basic question"
   ]
  },
  {
   "cell_type": "code",
   "execution_count": 34,
   "id": "c3476cbe",
   "metadata": {
    "execution": {
     "iopub.execute_input": "2023-11-29T08:53:02.877657Z",
     "iopub.status.busy": "2023-11-29T08:53:02.877272Z",
     "iopub.status.idle": "2023-11-29T08:53:11.796203Z",
     "shell.execute_reply": "2023-11-29T08:53:11.794757Z"
    },
    "papermill": {
     "duration": 8.956581,
     "end_time": "2023-11-29T08:53:11.799484",
     "exception": false,
     "start_time": "2023-11-29T08:53:02.842903",
     "status": "completed"
    },
    "tags": []
   },
   "outputs": [
    {
     "name": "stdout",
     "output_type": "stream",
     "text": [
      "mean = 10.25\n",
      "even median = 3.5\n",
      "standard deviation = 11918.92038937312\n",
      "kurtosis = -2.9999999999984697\n",
      "covarianceXY = 3.65\n",
      "correaltionXY = 0.16535949103224462\n"
     ]
    }
   ],
   "source": [
    "rdd = sc.parallelize([1,2,4,5,34,1,32,4,34,2,1,3])\n",
    "mean = rdd.sum()/rdd.count()\n",
    "print(f\"mean = {mean}\")\n",
    "\n",
    "rdd = sc.parallelize([1,2,4,5,34,1,32,4,34,2,1,3])\n",
    "sortedRDD = rdd.sortBy(lambda x : x).zipWithIndex().map(lambda item: (item[1], item[0]))\n",
    "n = sortedRDD.count()\n",
    "if (n%2 == 1):\n",
    "    index = (n-1)/2\n",
    "    print(f\"odd median = {sortedRDD.lookup(index)}\")\n",
    "else:\n",
    "    index1 = n/2\n",
    "    index2 = (n/2)-1\n",
    "    value1 = sortedRDD.lookup(index1)[0]\n",
    "    value2 = sortedRDD.lookup(index2)[0]\n",
    "    print(f\"even median = {(value1+value2)/2.0}\")\n",
    "  \n",
    "rdd = sc.parallelize([34,1,23,4,3,3,12,4,3,1])\n",
    "standard_deviation = math.sqrt(rddx.map(lambda x: pow((x - mean), 2)).sum() / rddx.count())\n",
    "print(f\"standard deviation = {standard_deviation}\")\n",
    "kurtosis = rdd.map(lambda x: pow((x - mean), 4) / pow(standard_deviation, 4)).sum() / n - 3\n",
    "print(f\"kurtosis = {kurtosis}\")\n",
    "\n",
    "\n",
    "rddx = sc.parallelize([1,2,3,4,5,6,7,8,9,10])\n",
    "rddy = sc.parallelize([7,6,5,4,5,6,7,8,9,10])\n",
    "\n",
    "meanx = rddx.sum()/rddx.count()\n",
    "meany = rddy.sum()/rddy.count()\n",
    "\n",
    "\n",
    "rddxy =  rddx.zip(rddy)\n",
    "\n",
    "# covariance = rddxy.map(lambda (x,y) : (x-meanx)*(y-meany)).sum()/rddxy.count()\n",
    "covarianceXY = rddxy.map(lambda xy: (xy[0] - meanx) * (xy[1] - meany)).sum() / rddxy.count()\n",
    "print(f\"covarianceXY = {covarianceXY}\")\n",
    "\n",
    "standard_deviationX = math.sqrt(rddx.map(lambda x: pow((x - mean), 2)).sum() / rddx.count())\n",
    "standard_deviationY = math.sqrt(rddy.map(lambda y: pow((y - mean), 2)).sum() / rddx.count())\n",
    "\n",
    "correaltionXY = covarianceXY/(standard_deviationX * standard_deviationY)\n",
    "print(f\"correaltionXY = {correaltionXY}\")\n"
   ]
  },
  {
   "cell_type": "markdown",
   "id": "dcf84ef8",
   "metadata": {
    "papermill": {
     "duration": 0.032652,
     "end_time": "2023-11-29T08:53:11.878059",
     "exception": false,
     "start_time": "2023-11-29T08:53:11.845407",
     "status": "completed"
    },
    "tags": []
   },
   "source": [
    "# Answering the same questions using Python"
   ]
  },
  {
   "cell_type": "code",
   "execution_count": 35,
   "id": "3b544807",
   "metadata": {
    "execution": {
     "iopub.execute_input": "2023-11-29T08:53:11.945276Z",
     "iopub.status.busy": "2023-11-29T08:53:11.944779Z",
     "iopub.status.idle": "2023-11-29T08:53:27.709423Z",
     "shell.execute_reply": "2023-11-29T08:53:27.708236Z"
    },
    "papermill": {
     "duration": 15.801011,
     "end_time": "2023-11-29T08:53:27.711866",
     "exception": false,
     "start_time": "2023-11-29T08:53:11.910855",
     "status": "completed"
    },
    "tags": []
   },
   "outputs": [
    {
     "name": "stdout",
     "output_type": "stream",
     "text": [
      "Requirement already satisfied: scipy in /opt/conda/lib/python3.10/site-packages (1.11.3)\r\n",
      "Requirement already satisfied: numpy<1.28.0,>=1.21.6 in /opt/conda/lib/python3.10/site-packages (from scipy) (1.24.3)\r\n",
      "Mean: 8.8\n",
      "Median: 3.5\n",
      "Standard Deviation: 11.133532932342526\n",
      "Skewness: 1.4549069329913997\n",
      "Kurtosis: 0.663124005193275\n",
      "Correlation Coefficient: 0.709272912083725\n",
      "Covariance: 4.055555555555555\n"
     ]
    },
    {
     "data": {
      "text/plain": [
       "(0.709272912083725, 4.055555555555555)"
      ]
     },
     "execution_count": 35,
     "metadata": {},
     "output_type": "execute_result"
    }
   ],
   "source": [
    "!pip install scipy\n",
    "\n",
    "import pandas as pd\n",
    "from scipy.stats import skew, kurtosis\n",
    "\n",
    "def calculate_stats(arr):\n",
    "    # Convert the array to a DataFrame\n",
    "    df = pd.DataFrame({'Values': arr})\n",
    "\n",
    "    # Calculate mean, median, standard deviation\n",
    "    mean_value = df['Values'].mean()\n",
    "    median_value = df['Values'].median()\n",
    "    std_deviation = df['Values'].std()\n",
    "\n",
    "    # Calculate skewness and kurtosis\n",
    "    skewness_value = skew(df['Values'])\n",
    "    kurtosis_value = kurtosis(df['Values'], fisher=True)  # Fisher's definition of kurtosis\n",
    "\n",
    "    # Print or return the results\n",
    "    print(\"Mean:\", mean_value)\n",
    "    print(\"Median:\", median_value)\n",
    "    print(\"Standard Deviation:\", std_deviation)\n",
    "    print(\"Skewness:\", skewness_value)\n",
    "    print(\"Kurtosis:\", kurtosis_value)\n",
    "\n",
    "# Example usage:\n",
    "arr = [34,1,23,4,3,3,12,4,3,1]\n",
    "calculate_stats(arr)\n",
    "\n",
    "import numpy as np\n",
    "from scipy.stats import pearsonr\n",
    "\n",
    "def calculate_correlation(array1, array2):\n",
    "    # Convert arrays to numpy arrays for compatibility\n",
    "    np_array1 = np.array(array1)\n",
    "    np_array2 = np.array(array2)\n",
    "\n",
    "    # Calculate the correlation coefficient\n",
    "    correlation_coefficient, _ = pearsonr(np_array1, np_array2)\n",
    "    covariance = np.cov(np_array1, np_array2)[0, 1]\n",
    "    # Print or return the results\n",
    "    \n",
    "    print(\"Correlation Coefficient:\", correlation_coefficient)\n",
    "    print(\"Covariance:\", covariance)\n",
    "    \n",
    "    return correlation_coefficient, covariance\n",
    "\n",
    "# Example usage:\n",
    "array1 = [1,2,3,4,5,6,7,8,9,10]\n",
    "array2 = [7,6,5,4,5,6,7,8,9,10]\n",
    "calculate_correlation(array1, array2)\n",
    "\n"
   ]
  },
  {
   "cell_type": "code",
   "execution_count": null,
   "id": "7dd5f682",
   "metadata": {
    "papermill": {
     "duration": 0.033819,
     "end_time": "2023-11-29T08:53:27.783023",
     "exception": false,
     "start_time": "2023-11-29T08:53:27.749204",
     "status": "completed"
    },
    "tags": []
   },
   "outputs": [],
   "source": []
  }
 ],
 "metadata": {
  "kaggle": {
   "accelerator": "none",
   "dataSources": [],
   "dockerImageVersionId": 30587,
   "isGpuEnabled": false,
   "isInternetEnabled": true,
   "language": "python",
   "sourceType": "notebook"
  },
  "kernelspec": {
   "display_name": "Python 3",
   "language": "python",
   "name": "python3"
  },
  "language_info": {
   "codemirror_mode": {
    "name": "ipython",
    "version": 3
   },
   "file_extension": ".py",
   "mimetype": "text/x-python",
   "name": "python",
   "nbconvert_exporter": "python",
   "pygments_lexer": "ipython3",
   "version": "3.10.12"
  },
  "papermill": {
   "default_parameters": {},
   "duration": 129.893741,
   "end_time": "2023-11-29T08:53:30.437467",
   "environment_variables": {},
   "exception": null,
   "input_path": "__notebook__.ipynb",
   "output_path": "__notebook__.ipynb",
   "parameters": {},
   "start_time": "2023-11-29T08:51:20.543726",
   "version": "2.4.0"
  }
 },
 "nbformat": 4,
 "nbformat_minor": 5
}
