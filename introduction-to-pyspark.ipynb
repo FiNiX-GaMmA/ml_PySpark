{
 "cells": [
  {
   "cell_type": "markdown",
   "id": "55a87838",
   "metadata": {
    "_cell_guid": "b1076dfc-b9ad-4769-8c92-a6c4dae69d19",
    "_uuid": "8f2839f25d086af736a60e9eeb907d3b93b6e0e5",
    "execution": {
     "iopub.execute_input": "2023-11-28T05:01:49.264367Z",
     "iopub.status.busy": "2023-11-28T05:01:49.263930Z",
     "iopub.status.idle": "2023-11-28T05:01:49.538402Z",
     "shell.execute_reply": "2023-11-28T05:01:49.537762Z",
     "shell.execute_reply.started": "2023-11-28T05:01:49.264339Z"
    },
    "papermill": {
     "duration": 0.009712,
     "end_time": "2023-11-28T12:10:28.090625",
     "exception": false,
     "start_time": "2023-11-28T12:10:28.080913",
     "status": "completed"
    },
    "tags": []
   },
   "source": [
    "# Basic understanding of PySpark"
   ]
  },
  {
   "cell_type": "markdown",
   "id": "45cb278e",
   "metadata": {
    "papermill": {
     "duration": 0.008906,
     "end_time": "2023-11-28T12:10:28.108880",
     "exception": false,
     "start_time": "2023-11-28T12:10:28.099974",
     "status": "completed"
    },
    "tags": []
   },
   "source": [
    "### Installing the latest pyspark version"
   ]
  },
  {
   "cell_type": "code",
   "execution_count": 1,
   "id": "8b89f256",
   "metadata": {
    "execution": {
     "iopub.execute_input": "2023-11-28T12:10:28.128807Z",
     "iopub.status.busy": "2023-11-28T12:10:28.128378Z",
     "iopub.status.idle": "2023-11-28T12:11:16.681947Z",
     "shell.execute_reply": "2023-11-28T12:11:16.680822Z"
    },
    "papermill": {
     "duration": 48.566897,
     "end_time": "2023-11-28T12:11:16.684856",
     "exception": false,
     "start_time": "2023-11-28T12:10:28.117959",
     "status": "completed"
    },
    "tags": []
   },
   "outputs": [
    {
     "name": "stdout",
     "output_type": "stream",
     "text": [
      "Collecting pyspark\r\n",
      "  Downloading pyspark-3.5.0.tar.gz (316.9 MB)\r\n",
      "\u001b[2K     \u001b[90m━━━━━━━━━━━━━━━━━━━━━━━━━━━━━━━━━━━━━━━\u001b[0m \u001b[32m316.9/316.9 MB\u001b[0m \u001b[31m3.9 MB/s\u001b[0m eta \u001b[36m0:00:00\u001b[0m\r\n",
      "\u001b[?25h  Preparing metadata (setup.py) ... \u001b[?25l-\b \b\\\b \bdone\r\n",
      "\u001b[?25hRequirement already satisfied: py4j==0.10.9.7 in /opt/conda/lib/python3.10/site-packages (from pyspark) (0.10.9.7)\r\n",
      "Building wheels for collected packages: pyspark\r\n",
      "  Building wheel for pyspark (setup.py) ... \u001b[?25l-\b \b\\\b \b|\b \bdone\r\n",
      "\u001b[?25h  Created wheel for pyspark: filename=pyspark-3.5.0-py2.py3-none-any.whl size=317425344 sha256=20606f993c0d343171a5d9cb90c1c2357cd51c17f2b05bbf7da933291b9f777d\r\n",
      "  Stored in directory: /root/.cache/pip/wheels/41/4e/10/c2cf2467f71c678cfc8a6b9ac9241e5e44a01940da8fbb17fc\r\n",
      "Successfully built pyspark\r\n",
      "Installing collected packages: pyspark\r\n",
      "Successfully installed pyspark-3.5.0\r\n"
     ]
    }
   ],
   "source": [
    "!pip install pyspark"
   ]
  },
  {
   "cell_type": "markdown",
   "id": "c976401c",
   "metadata": {
    "papermill": {
     "duration": 0.015462,
     "end_time": "2023-11-28T12:11:16.716582",
     "exception": false,
     "start_time": "2023-11-28T12:11:16.701120",
     "status": "completed"
    },
    "tags": []
   },
   "source": [
    "## Importing the PySpark to work with the modules\n",
    "\n",
    "- `SparkContext` is the _entry point_ to any <u>Spark functionality</u>. It represents the connection to a Spark cluster and can be used to create **RDDs** (Resilient Distributed Datasets) and broadcast variables on that cluster.\n",
    "\n",
    "- `SparkSession` is the _entry point_ to use DataFrame and SQL functionality in Spark. It provides a way to interact with various data sources (like Parquet, Avro, JSON, etc.) in a tabular form"
   ]
  },
  {
   "cell_type": "code",
   "execution_count": 2,
   "id": "73efa2de",
   "metadata": {
    "execution": {
     "iopub.execute_input": "2023-11-28T12:11:16.750537Z",
     "iopub.status.busy": "2023-11-28T12:11:16.750131Z",
     "iopub.status.idle": "2023-11-28T12:11:16.855407Z",
     "shell.execute_reply": "2023-11-28T12:11:16.854268Z"
    },
    "papermill": {
     "duration": 0.126363,
     "end_time": "2023-11-28T12:11:16.858808",
     "exception": false,
     "start_time": "2023-11-28T12:11:16.732445",
     "status": "completed"
    },
    "tags": []
   },
   "outputs": [],
   "source": [
    "try:\n",
    "    from pyspark import SparkContext, SparkConf\n",
    "    from pyspark.sql import SparkSession\n",
    "    import math\n",
    "except ImportError as e:\n",
    "    print(e)\n",
    "    printmd('<<<<<!!!!! Please restart your kernel after installing Apache Spark !!!!!>>>>>')"
   ]
  },
  {
   "cell_type": "markdown",
   "id": "db202e77",
   "metadata": {
    "papermill": {
     "duration": 0.015689,
     "end_time": "2023-11-28T12:11:16.896704",
     "exception": false,
     "start_time": "2023-11-28T12:11:16.881015",
     "status": "completed"
    },
    "tags": []
   },
   "source": [
    "1. `SparkContext.getOrCreate()` tries to get an existing SparkContext or creates a new one if it doesn't exist. The SparkConf().setMaster(\"local[*]\") part specifies that Spark should run in **local mode** using all <u>available CPU cores ([*])</u>. In local mode, Spark runs on a single machine, which is useful for development and testing.\n",
    "2. `SparkSession.builder.getOrCreate()` follows a similar pattern as `SparkContext.getOrCreate()`. It tries to get an existing SparkSession or creates a new one if it doesn't exist. The `SparkSession` _**is the unified entry point for reading data, executing SQL queries, and performing other Spark operations using the DataFrame API.**_"
   ]
  },
  {
   "cell_type": "code",
   "execution_count": 3,
   "id": "54725bc0",
   "metadata": {
    "execution": {
     "iopub.execute_input": "2023-11-28T12:11:16.931333Z",
     "iopub.status.busy": "2023-11-28T12:11:16.930873Z",
     "iopub.status.idle": "2023-11-28T12:11:22.563576Z",
     "shell.execute_reply": "2023-11-28T12:11:22.562255Z"
    },
    "papermill": {
     "duration": 5.654058,
     "end_time": "2023-11-28T12:11:22.567068",
     "exception": false,
     "start_time": "2023-11-28T12:11:16.913010",
     "status": "completed"
    },
    "tags": []
   },
   "outputs": [
    {
     "name": "stderr",
     "output_type": "stream",
     "text": [
      "Setting default log level to \"WARN\".\n",
      "To adjust logging level use sc.setLogLevel(newLevel). For SparkR, use setLogLevel(newLevel).\n",
      "23/11/28 12:11:20 WARN NativeCodeLoader: Unable to load native-hadoop library for your platform... using builtin-java classes where applicable\n"
     ]
    }
   ],
   "source": [
    "# Create a SparkContext if it doesn't exist, using a local master URL\n",
    "sc = SparkContext.getOrCreate(SparkConf().setMaster(\"local[*]\"))\n",
    "\n",
    "# Create a SparkSession if it doesn't exist\n",
    "spark = SparkSession.builder.getOrCreate()"
   ]
  },
  {
   "cell_type": "markdown",
   "id": "93a3602e",
   "metadata": {
    "papermill": {
     "duration": 0.016541,
     "end_time": "2023-11-28T12:11:22.603791",
     "exception": false,
     "start_time": "2023-11-28T12:11:22.587250",
     "status": "completed"
    },
    "tags": []
   },
   "source": [
    "Creating an RDD (Resilient Distributed Dataset) using the parallelize method of the SparkContext (sc). Let me break down what this line does:\n",
    "\n",
    "   - `range(100)`: This creates a Python list containing numbers from 0 to 99.\n",
    "\n",
    "   - `sc.parallelize(range(100))`: This takes that Python list and distributes it across the Spark cluster, creating an RDD. The RDD is a fault-tolerant collection of elements that can be processed in parallel.\n",
    "\n",
    "So, the rdd variable now represents a distributed collection of numbers from 0 to 99. Each element of the RDD is stored on a different partition of the cluster, and Spark can perform operations on these partitions in parallel."
   ]
  },
  {
   "cell_type": "code",
   "execution_count": 4,
   "id": "8ec505ec",
   "metadata": {
    "execution": {
     "iopub.execute_input": "2023-11-28T12:11:22.638363Z",
     "iopub.status.busy": "2023-11-28T12:11:22.637975Z",
     "iopub.status.idle": "2023-11-28T12:11:23.063326Z",
     "shell.execute_reply": "2023-11-28T12:11:23.062509Z"
    },
    "papermill": {
     "duration": 0.446705,
     "end_time": "2023-11-28T12:11:23.066645",
     "exception": false,
     "start_time": "2023-11-28T12:11:22.619940",
     "status": "completed"
    },
    "tags": []
   },
   "outputs": [],
   "source": [
    "rdd = sc.parallelize(range(100))"
   ]
  },
  {
   "cell_type": "markdown",
   "id": "9992e5e2",
   "metadata": {
    "papermill": {
     "duration": 0.016904,
     "end_time": "2023-11-28T12:11:23.109096",
     "exception": false,
     "start_time": "2023-11-28T12:11:23.092192",
     "status": "completed"
    },
    "tags": []
   },
   "source": [
    "The `take` action in Spark is used to retrieve the **first N elements** from an RDD or DataFrame. "
   ]
  },
  {
   "cell_type": "code",
   "execution_count": 5,
   "id": "4dec4b5e",
   "metadata": {
    "execution": {
     "iopub.execute_input": "2023-11-28T12:11:23.142564Z",
     "iopub.status.busy": "2023-11-28T12:11:23.142200Z",
     "iopub.status.idle": "2023-11-28T12:11:25.223014Z",
     "shell.execute_reply": "2023-11-28T12:11:25.221920Z"
    },
    "papermill": {
     "duration": 2.100244,
     "end_time": "2023-11-28T12:11:25.225373",
     "exception": false,
     "start_time": "2023-11-28T12:11:23.125129",
     "status": "completed"
    },
    "tags": []
   },
   "outputs": [
    {
     "name": "stderr",
     "output_type": "stream",
     "text": [
      "                                                                                \r"
     ]
    },
    {
     "data": {
      "text/plain": [
       "[0, 1, 2, 3, 4, 5, 6, 7, 8, 9]"
      ]
     },
     "execution_count": 5,
     "metadata": {},
     "output_type": "execute_result"
    }
   ],
   "source": [
    "rdd.take(10) #note the as an array the rdd contains number from 0 to (n-1)"
   ]
  },
  {
   "cell_type": "markdown",
   "id": "d840d8a8",
   "metadata": {
    "papermill": {
     "duration": 0.078483,
     "end_time": "2023-11-28T12:11:25.319987",
     "exception": false,
     "start_time": "2023-11-28T12:11:25.241504",
     "status": "completed"
    },
    "tags": []
   },
   "source": [
    "## Functional Programming"
   ]
  },
  {
   "cell_type": "markdown",
   "id": "48657953",
   "metadata": {
    "papermill": {
     "duration": 0.016032,
     "end_time": "2023-11-28T12:11:25.352307",
     "exception": false,
     "start_time": "2023-11-28T12:11:25.336275",
     "status": "completed"
    },
    "tags": []
   },
   "source": [
    "A python function which decides whether a value is greater than 50 (**True**) or not (**False**)."
   ]
  },
  {
   "cell_type": "code",
   "execution_count": 6,
   "id": "bb10476a",
   "metadata": {
    "execution": {
     "iopub.execute_input": "2023-11-28T12:11:25.387118Z",
     "iopub.status.busy": "2023-11-28T12:11:25.386385Z",
     "iopub.status.idle": "2023-11-28T12:11:25.393072Z",
     "shell.execute_reply": "2023-11-28T12:11:25.391802Z"
    },
    "papermill": {
     "duration": 0.026722,
     "end_time": "2023-11-28T12:11:25.395275",
     "exception": false,
     "start_time": "2023-11-28T12:11:25.368553",
     "status": "completed"
    },
    "tags": []
   },
   "outputs": [
    {
     "name": "stdout",
     "output_type": "stream",
     "text": [
      "False\n",
      "True\n"
     ]
    }
   ],
   "source": [
    "def gt50(i):\n",
    "    return i > 50\n",
    "\n",
    "print(gt50(4))\n",
    "print(gt50(51))"
   ]
  },
  {
   "cell_type": "markdown",
   "id": "291a9e10",
   "metadata": {
    "papermill": {
     "duration": 0.016554,
     "end_time": "2023-11-28T12:11:25.428387",
     "exception": false,
     "start_time": "2023-11-28T12:11:25.411833",
     "status": "completed"
    },
    "tags": []
   },
   "source": [
    "Writing the above function but by lambda function\n",
    "\n",
    "This line of code defines a lambda function (lambda) named gt25. The lambda function takes a single argument `i` and returns a _Boolean value (True or False)_. In this case, the lambda function checks whether the input i is greater than 25.\n",
    "\n",
    "So, you can interpret this as follows: **gt25 is a function that, when given a value i, returns True if i is greater than 25 and False otherwise.**"
   ]
  },
  {
   "cell_type": "code",
   "execution_count": 7,
   "id": "58940ad8",
   "metadata": {
    "execution": {
     "iopub.execute_input": "2023-11-28T12:11:25.463590Z",
     "iopub.status.busy": "2023-11-28T12:11:25.462822Z",
     "iopub.status.idle": "2023-11-28T12:11:25.469147Z",
     "shell.execute_reply": "2023-11-28T12:11:25.467888Z"
    },
    "papermill": {
     "duration": 0.026409,
     "end_time": "2023-11-28T12:11:25.471368",
     "exception": false,
     "start_time": "2023-11-28T12:11:25.444959",
     "status": "completed"
    },
    "tags": []
   },
   "outputs": [
    {
     "name": "stdout",
     "output_type": "stream",
     "text": [
      "False\n",
      "True\n"
     ]
    }
   ],
   "source": [
    "gt25 = lambda i: i > 25\n",
    "\n",
    "print(gt25(4))\n",
    "print(gt25(51))"
   ]
  },
  {
   "cell_type": "markdown",
   "id": "51ab3abb",
   "metadata": {
    "papermill": {
     "duration": 0.01649,
     "end_time": "2023-11-28T12:11:25.504283",
     "exception": false,
     "start_time": "2023-11-28T12:11:25.487793",
     "status": "completed"
    },
    "tags": []
   },
   "source": [
    "### Shuffling the RDD\n",
    "\n",
    "`l = list(range(100))`: Creates a list containing numbers from 0 to 99. This is a simple way to generate a list with sequential integers.\n",
    "\n",
    "`shuffle(l)`: Uses the shuffle function from the random module to randomly shuffle the elements of the list l. This step is intended to randomize the order of the numbers in the list.\n",
    "\n",
    "`sc.parallelize(l)`: Creates an RDD named rdd from the shuffled list l. The parallelize method of the SparkContext (sc) is used to distribute the elements of the list across the nodes of the Spark cluster. This RDD can then be used for parallel processing using Spark.\n",
    "\n",
    "So, after running this code, the _rdd_ variable holds a distributed representation of the shuffled list, and the elements are distributed across the nodes of the Spark cluster. "
   ]
  },
  {
   "cell_type": "code",
   "execution_count": 8,
   "id": "98876ed6",
   "metadata": {
    "execution": {
     "iopub.execute_input": "2023-11-28T12:11:25.539278Z",
     "iopub.status.busy": "2023-11-28T12:11:25.538271Z",
     "iopub.status.idle": "2023-11-28T12:11:25.548490Z",
     "shell.execute_reply": "2023-11-28T12:11:25.547513Z"
    },
    "papermill": {
     "duration": 0.030332,
     "end_time": "2023-11-28T12:11:25.551022",
     "exception": false,
     "start_time": "2023-11-28T12:11:25.520690",
     "status": "completed"
    },
    "tags": []
   },
   "outputs": [],
   "source": [
    "from random import shuffle\n",
    "\n",
    "# Create a list containing numbers from 0 to 99\n",
    "l = list(range(100))\n",
    "\n",
    "# Shuffle the list randomly\n",
    "shuffle(l)\n",
    "\n",
    "# Create an RDD (Resilient Distributed Dataset) from the shuffled list\n",
    "rdd = sc.parallelize(l)\n"
   ]
  },
  {
   "cell_type": "markdown",
   "id": "862b93f6",
   "metadata": {
    "papermill": {
     "duration": 0.016042,
     "end_time": "2023-11-28T12:11:25.583869",
     "exception": false,
     "start_time": "2023-11-28T12:11:25.567827",
     "status": "completed"
    },
    "tags": []
   },
   "source": [
    "Filtering values from our list which are equals or less than 50 by applying the “gt50” function to the list using the “filter” function. \n",
    "**Note that by calling the “collect” function, all elements are returned to the Apache Spark Driver. This is not a good idea for BigData, please use “.sample(10,0.1).collect()” or “take(n)” instead. beacuse collect can be resource-intensive, especially if the RDD is large, as it brings all the data back to the driver program.**"
   ]
  },
  {
   "cell_type": "code",
   "execution_count": 9,
   "id": "647daf6c",
   "metadata": {
    "execution": {
     "iopub.execute_input": "2023-11-28T12:11:25.618380Z",
     "iopub.status.busy": "2023-11-28T12:11:25.618025Z",
     "iopub.status.idle": "2023-11-28T12:11:25.818860Z",
     "shell.execute_reply": "2023-11-28T12:11:25.817771Z"
    },
    "papermill": {
     "duration": 0.220994,
     "end_time": "2023-11-28T12:11:25.821142",
     "exception": false,
     "start_time": "2023-11-28T12:11:25.600148",
     "status": "completed"
    },
    "tags": []
   },
   "outputs": [
    {
     "data": {
      "text/plain": [
       "[89, 73, 69, 91, 81, 94, 79, 71, 85, 52]"
      ]
     },
     "execution_count": 9,
     "metadata": {},
     "output_type": "execute_result"
    }
   ],
   "source": [
    "# rdd.filter(gt50).collect() #we can use collect but following the best practice\n",
    "rdd.filter(gt50).take(10)"
   ]
  },
  {
   "cell_type": "markdown",
   "id": "b65ea122",
   "metadata": {
    "papermill": {
     "duration": 0.021459,
     "end_time": "2023-11-28T12:11:25.859359",
     "exception": false,
     "start_time": "2023-11-28T12:11:25.837900",
     "status": "completed"
    },
    "tags": []
   },
   "source": [
    "sample(10, 0.1): This is another transformation, specifically the sample transformation. It is used to create a random sample of the elements in the RDD. The parameters are:\n",
    "\n",
    "`10`: The number of elements to include in the sample.\n",
    "`0.1`: The sampling fraction, representing the probability that each element is included in the sample. In this case, it's set to 0.1, meaning there's a 10% chance of including each element in the sample.\n",
    "\n",
    "Note that the result of this operation doesn't directly give you a collection of elements; instead, it returns a new RDD that represents the sampled subset of the filtered data."
   ]
  },
  {
   "cell_type": "code",
   "execution_count": 10,
   "id": "e0e89212",
   "metadata": {
    "execution": {
     "iopub.execute_input": "2023-11-28T12:11:25.907249Z",
     "iopub.status.busy": "2023-11-28T12:11:25.906066Z",
     "iopub.status.idle": "2023-11-28T12:11:26.528759Z",
     "shell.execute_reply": "2023-11-28T12:11:26.527628Z"
    },
    "papermill": {
     "duration": 0.657934,
     "end_time": "2023-11-28T12:11:26.543459",
     "exception": false,
     "start_time": "2023-11-28T12:11:25.885525",
     "status": "completed"
    },
    "tags": []
   },
   "outputs": [
    {
     "data": {
      "text/plain": [
       "[53]"
      ]
     },
     "execution_count": 10,
     "metadata": {},
     "output_type": "execute_result"
    }
   ],
   "source": [
    "sample = rdd.filter(gt50).sample(10, 0.1).take(10)\n",
    "sample"
   ]
  },
  {
   "cell_type": "code",
   "execution_count": 11,
   "id": "3761339a",
   "metadata": {
    "execution": {
     "iopub.execute_input": "2023-11-28T12:11:26.593748Z",
     "iopub.status.busy": "2023-11-28T12:11:26.593333Z",
     "iopub.status.idle": "2023-11-28T12:11:26.612236Z",
     "shell.execute_reply": "2023-11-28T12:11:26.611046Z"
    },
    "papermill": {
     "duration": 0.039796,
     "end_time": "2023-11-28T12:11:26.614401",
     "exception": false,
     "start_time": "2023-11-28T12:11:26.574605",
     "status": "completed"
    },
    "tags": []
   },
   "outputs": [
    {
     "data": {
      "text/plain": [
       "PythonRDD[6] at RDD at PythonRDD.scala:53"
      ]
     },
     "execution_count": 11,
     "metadata": {},
     "output_type": "execute_result"
    }
   ],
   "source": [
    "# trying with sample api\n",
    "rdd.filter(gt50).sample(10,0.1)"
   ]
  },
  {
   "cell_type": "code",
   "execution_count": 12,
   "id": "3b28f437",
   "metadata": {
    "execution": {
     "iopub.execute_input": "2023-11-28T12:11:26.651130Z",
     "iopub.status.busy": "2023-11-28T12:11:26.650191Z",
     "iopub.status.idle": "2023-11-28T12:11:26.852310Z",
     "shell.execute_reply": "2023-11-28T12:11:26.851273Z"
    },
    "papermill": {
     "duration": 0.223293,
     "end_time": "2023-11-28T12:11:26.854564",
     "exception": false,
     "start_time": "2023-11-28T12:11:26.631271",
     "status": "completed"
    },
    "tags": []
   },
   "outputs": [
    {
     "data": {
      "text/plain": [
       "[89, 73, 69, 91, 81, 94, 79, 71, 85, 52]"
      ]
     },
     "execution_count": 12,
     "metadata": {},
     "output_type": "execute_result"
    }
   ],
   "source": [
    "rdd.filter(lambda i: i > 50).take(10) #running the same code but with a lambda function"
   ]
  },
  {
   "cell_type": "markdown",
   "id": "1336c086",
   "metadata": {
    "papermill": {
     "duration": 0.016832,
     "end_time": "2023-11-28T12:11:26.888679",
     "exception": false,
     "start_time": "2023-11-28T12:11:26.871847",
     "status": "completed"
    },
    "tags": []
   },
   "source": [
    "Let’s consider the same list of integers. Now we want to compute the sum for elements in that list which are greater than 50 but less than 75. Please implement the missing parts. \n",
    "\n",
    "`rdd.filter(lambda x: $$).filter(lambda x: $$).$$()`"
   ]
  },
  {
   "cell_type": "code",
   "execution_count": 13,
   "id": "1299b65e",
   "metadata": {
    "execution": {
     "iopub.execute_input": "2023-11-28T12:11:26.925596Z",
     "iopub.status.busy": "2023-11-28T12:11:26.925018Z",
     "iopub.status.idle": "2023-11-28T12:11:27.333732Z",
     "shell.execute_reply": "2023-11-28T12:11:27.332967Z"
    },
    "papermill": {
     "duration": 0.42937,
     "end_time": "2023-11-28T12:11:27.335746",
     "exception": false,
     "start_time": "2023-11-28T12:11:26.906376",
     "status": "completed"
    },
    "tags": []
   },
   "outputs": [
    {
     "data": {
      "text/plain": [
       "[73, 69, 71, 52, 70, 63, 60, 53, 58, 62]"
      ]
     },
     "execution_count": 13,
     "metadata": {},
     "output_type": "execute_result"
    }
   ],
   "source": [
    "rdd.filter(lambda x: x > 50 and x < 75).take(10) # shortened the code but doing that in one filter function"
   ]
  },
  {
   "cell_type": "markdown",
   "id": "67c15956",
   "metadata": {
    "papermill": {
     "duration": 0.016589,
     "end_time": "2023-11-28T12:11:27.369444",
     "exception": false,
     "start_time": "2023-11-28T12:11:27.352855",
     "status": "completed"
    },
    "tags": []
   },
   "source": [
    "## Working with the statistical parameters"
   ]
  },
  {
   "cell_type": "markdown",
   "id": "4e6ea002",
   "metadata": {
    "papermill": {
     "duration": 0.017569,
     "end_time": "2023-11-28T12:11:27.404148",
     "exception": false,
     "start_time": "2023-11-28T12:11:27.386579",
     "status": "completed"
    },
    "tags": []
   },
   "source": [
    "### 1. First statistical moment ------> Mean and Median"
   ]
  },
  {
   "cell_type": "code",
   "execution_count": 14,
   "id": "9355b975",
   "metadata": {
    "execution": {
     "iopub.execute_input": "2023-11-28T12:11:27.443107Z",
     "iopub.status.busy": "2023-11-28T12:11:27.442003Z",
     "iopub.status.idle": "2023-11-28T12:11:27.457211Z",
     "shell.execute_reply": "2023-11-28T12:11:27.456451Z"
    },
    "papermill": {
     "duration": 0.036345,
     "end_time": "2023-11-28T12:11:27.459377",
     "exception": false,
     "start_time": "2023-11-28T12:11:27.423032",
     "status": "completed"
    },
    "tags": []
   },
   "outputs": [],
   "source": [
    "try:\n",
    "    from pyspark import SparkContext, SparkConf\n",
    "    from pyspark.sql import SparkSession\n",
    "except ImportError as e:\n",
    "    print(e)\n",
    "    \n",
    "# Create a SparkContext if it doesn't exist, using a local master URL\n",
    "sc = SparkContext.getOrCreate(SparkConf().setMaster(\"local[*]\"))\n",
    "\n",
    "# Create a SparkSession if it doesn't exist\n",
    "spark = SparkSession.builder.getOrCreate()\n",
    "\n",
    "\n",
    "rdd = sc.parallelize(range(100))"
   ]
  },
  {
   "cell_type": "markdown",
   "id": "65430752",
   "metadata": {
    "papermill": {
     "duration": 0.016747,
     "end_time": "2023-11-28T12:11:27.493427",
     "exception": false,
     "start_time": "2023-11-28T12:11:27.476680",
     "status": "completed"
    },
    "tags": []
   },
   "source": [
    "### Mean is calculated by using this formula\n",
    "$$\n",
    "\\bar{x} = \\frac{1}{n} \\sum_{i=1}^{n} x_i\n",
    "$$\n"
   ]
  },
  {
   "cell_type": "code",
   "execution_count": 15,
   "id": "73a4fee0",
   "metadata": {
    "execution": {
     "iopub.execute_input": "2023-11-28T12:11:27.528986Z",
     "iopub.status.busy": "2023-11-28T12:11:27.528583Z",
     "iopub.status.idle": "2023-11-28T12:11:28.601868Z",
     "shell.execute_reply": "2023-11-28T12:11:28.600785Z"
    },
    "papermill": {
     "duration": 1.093978,
     "end_time": "2023-11-28T12:11:28.604332",
     "exception": false,
     "start_time": "2023-11-28T12:11:27.510354",
     "status": "completed"
    },
    "tags": []
   },
   "outputs": [
    {
     "data": {
      "text/plain": [
       "49.5"
      ]
     },
     "execution_count": 15,
     "metadata": {},
     "output_type": "execute_result"
    }
   ],
   "source": [
    "sum = rdd.sum()  # does the summation of all the elements in the rdd\n",
    "n = rdd.count() #counts the number of elements in the RDD\n",
    "mean = sum/float(n) # calculating the x(bar)\n",
    "mean"
   ]
  },
  {
   "cell_type": "markdown",
   "id": "ca2b5c3f",
   "metadata": {
    "papermill": {
     "duration": 0.017164,
     "end_time": "2023-11-28T12:11:28.646619",
     "exception": false,
     "start_time": "2023-11-28T12:11:28.629455",
     "status": "completed"
    },
    "tags": []
   },
   "source": [
    "### Median can be calculated in the following manner\n",
    "For odd \\( n \\):\n",
    "$$\n",
    "\\tilde{x} = x_{\\frac{n+1}{2}}\n",
    "$$\n",
    "\n",
    "For even \\( n \\):\n",
    "$$\n",
    "\\tilde{x} = \\frac{x_{\\frac{n}{2}} + x_{\\frac{n}{2}+1}}{2}\n",
    "$$"
   ]
  },
  {
   "cell_type": "code",
   "execution_count": 16,
   "id": "c6671247",
   "metadata": {
    "execution": {
     "iopub.execute_input": "2023-11-28T12:11:28.682509Z",
     "iopub.status.busy": "2023-11-28T12:11:28.682153Z",
     "iopub.status.idle": "2023-11-28T12:11:32.140283Z",
     "shell.execute_reply": "2023-11-28T12:11:32.138554Z"
    },
    "papermill": {
     "duration": 3.48172,
     "end_time": "2023-11-28T12:11:32.145346",
     "exception": false,
     "start_time": "2023-11-28T12:11:28.663626",
     "status": "completed"
    },
    "tags": []
   },
   "outputs": [
    {
     "name": "stderr",
     "output_type": "stream",
     "text": [
      "                                                                                \r"
     ]
    },
    {
     "name": "stdout",
     "output_type": "stream",
     "text": [
      "49.5\n"
     ]
    }
   ],
   "source": [
    "sortedRDD = rdd.sortBy(lambda x : x).zipWithIndex().map(lambda item: (item[1], item[0]))\n",
    "n = sortedRDD.count()\n",
    "if (n%2 == 1):\n",
    "    index = (n-1)/2\n",
    "    print(sortedRDD.lookup(index))\n",
    "else:\n",
    "    index1 = n/2\n",
    "    index2 = (n/2)-1\n",
    "    value1 = sortedRDD.lookup(index1)[0]\n",
    "    value2 = sortedRDD.lookup(index2)[0]\n",
    "    print((value1+value2)/2.0)"
   ]
  },
  {
   "cell_type": "markdown",
   "id": "65d706ad",
   "metadata": {
    "papermill": {
     "duration": 0.025932,
     "end_time": "2023-11-28T12:11:32.197885",
     "exception": false,
     "start_time": "2023-11-28T12:11:32.171953",
     "status": "completed"
    },
    "tags": []
   },
   "source": [
    "## Now lets add outliers to the data and see the difference"
   ]
  },
  {
   "cell_type": "code",
   "execution_count": 17,
   "id": "63ae6151",
   "metadata": {
    "execution": {
     "iopub.execute_input": "2023-11-28T12:11:32.252778Z",
     "iopub.status.busy": "2023-11-28T12:11:32.252279Z",
     "iopub.status.idle": "2023-11-28T12:11:32.262152Z",
     "shell.execute_reply": "2023-11-28T12:11:32.261142Z"
    },
    "papermill": {
     "duration": 0.04009,
     "end_time": "2023-11-28T12:11:32.264710",
     "exception": false,
     "start_time": "2023-11-28T12:11:32.224620",
     "status": "completed"
    },
    "tags": []
   },
   "outputs": [],
   "source": [
    "rdd = sc.parallelize([101,102,10000,1023] + list(range(100)))"
   ]
  },
  {
   "cell_type": "code",
   "execution_count": 18,
   "id": "caf8de83",
   "metadata": {
    "execution": {
     "iopub.execute_input": "2023-11-28T12:11:32.320177Z",
     "iopub.status.busy": "2023-11-28T12:11:32.319713Z",
     "iopub.status.idle": "2023-11-28T12:11:35.409577Z",
     "shell.execute_reply": "2023-11-28T12:11:35.408469Z"
    },
    "papermill": {
     "duration": 3.120875,
     "end_time": "2023-11-28T12:11:35.413001",
     "exception": false,
     "start_time": "2023-11-28T12:11:32.292126",
     "status": "completed"
    },
    "tags": []
   },
   "outputs": [
    {
     "name": "stdout",
     "output_type": "stream",
     "text": [
      "51.5\n"
     ]
    }
   ],
   "source": [
    "sortedRDD = rdd.sortBy(lambda x : x).zipWithIndex().map(lambda item: (item[1], item[0]))\n",
    "n = sortedRDD.count()\n",
    "if (n%2 == 1):\n",
    "    index = (n-1)/2\n",
    "    print(sortedRDD.lookup(index))\n",
    "else:\n",
    "    index1 = n/2\n",
    "    index2 = (n/2)-1\n",
    "    value1 = sortedRDD.lookup(index1)[0]\n",
    "    value2 = sortedRDD.lookup(index2)[0]\n",
    "    print((value1+value2)/2.0)\n",
    "    \n",
    "    "
   ]
  },
  {
   "cell_type": "code",
   "execution_count": 19,
   "id": "5696f4da",
   "metadata": {
    "execution": {
     "iopub.execute_input": "2023-11-28T12:11:35.459374Z",
     "iopub.status.busy": "2023-11-28T12:11:35.458874Z",
     "iopub.status.idle": "2023-11-28T12:11:36.132805Z",
     "shell.execute_reply": "2023-11-28T12:11:36.131791Z"
    },
    "papermill": {
     "duration": 0.699487,
     "end_time": "2023-11-28T12:11:36.135851",
     "exception": false,
     "start_time": "2023-11-28T12:11:35.436364",
     "status": "completed"
    },
    "tags": []
   },
   "outputs": [
    {
     "data": {
      "text/plain": [
       "155.53846153846155"
      ]
     },
     "execution_count": 19,
     "metadata": {},
     "output_type": "execute_result"
    }
   ],
   "source": [
    "sum = rdd.sum()  # does the summation of all the elements in the rdd\n",
    "n = rdd.count() #counts the number of elements in the RDD\n",
    "mean = sum/float(n) # calculating the x(bar)\n",
    "mean"
   ]
  },
  {
   "cell_type": "markdown",
   "id": "29fbfa0b",
   "metadata": {
    "papermill": {
     "duration": 0.0172,
     "end_time": "2023-11-28T12:11:36.171990",
     "exception": false,
     "start_time": "2023-11-28T12:11:36.154790",
     "status": "completed"
    },
    "tags": []
   },
   "source": [
    "## NOTE:\n",
    "We can see that there are differences between the mean and the median when there are outliers\n",
    "\n",
    "**Thats why we prefer the median method which is resilient to the outliers**"
   ]
  },
  {
   "cell_type": "markdown",
   "id": "2fdfd74f",
   "metadata": {
    "papermill": {
     "duration": 0.017703,
     "end_time": "2023-11-28T12:11:36.207685",
     "exception": false,
     "start_time": "2023-11-28T12:11:36.189982",
     "status": "completed"
    },
    "tags": []
   },
   "source": [
    "### Standard Deviation\n",
    "\n",
    "The formula for the standard deviation (σσ) of a dataset is given by:\n",
    "$$\n",
    "\\sigma = \\sqrt{\\frac{\\sum_{i=1}^{n}(x_i - \\bar{x})^2}{n}}\n",
    "$$\n",
    "Here:\n",
    "\n",
    "- σσ represents the standard deviation.\n",
    "- nn is the number of observations in the dataset.\n",
    "- xixi​ represents each individual observation in the dataset.\n",
    "- xˉxˉ is the mean of the dataset."
   ]
  },
  {
   "cell_type": "code",
   "execution_count": 20,
   "id": "13ca817f",
   "metadata": {
    "execution": {
     "iopub.execute_input": "2023-11-28T12:11:36.245149Z",
     "iopub.status.busy": "2023-11-28T12:11:36.244671Z",
     "iopub.status.idle": "2023-11-28T12:11:36.263248Z",
     "shell.execute_reply": "2023-11-28T12:11:36.261922Z"
    },
    "papermill": {
     "duration": 0.041224,
     "end_time": "2023-11-28T12:11:36.266455",
     "exception": false,
     "start_time": "2023-11-28T12:11:36.225231",
     "status": "completed"
    },
    "tags": []
   },
   "outputs": [],
   "source": [
    "try:\n",
    "    from pyspark import SparkContext, SparkConf\n",
    "    from pyspark.sql import SparkSession\n",
    "except ImportError as e:\n",
    "    print(e)\n",
    "    \n",
    "# Create a SparkContext if it doesn't exist, using a local master URL\n",
    "sc = SparkContext.getOrCreate(SparkConf().setMaster(\"local[*]\"))\n",
    "\n",
    "# Create a SparkSession if it doesn't exist\n",
    "spark = SparkSession.builder.getOrCreate()\n",
    "\n",
    "\n",
    "rdd = sc.parallelize(range(100))"
   ]
  },
  {
   "cell_type": "markdown",
   "id": "943edc0f",
   "metadata": {
    "papermill": {
     "duration": 0.027441,
     "end_time": "2023-11-28T12:11:36.322706",
     "exception": false,
     "start_time": "2023-11-28T12:11:36.295265",
     "status": "completed"
    },
    "tags": []
   },
   "source": [
    "If we want to apply a function to the all the entries in the python then we should use `map`"
   ]
  },
  {
   "cell_type": "code",
   "execution_count": 21,
   "id": "7b346dc4",
   "metadata": {
    "execution": {
     "iopub.execute_input": "2023-11-28T12:11:36.381526Z",
     "iopub.status.busy": "2023-11-28T12:11:36.380634Z",
     "iopub.status.idle": "2023-11-28T12:11:37.459470Z",
     "shell.execute_reply": "2023-11-28T12:11:37.458460Z"
    },
    "papermill": {
     "duration": 1.11215,
     "end_time": "2023-11-28T12:11:37.462653",
     "exception": false,
     "start_time": "2023-11-28T12:11:36.350503",
     "status": "completed"
    },
    "tags": []
   },
   "outputs": [
    {
     "data": {
      "text/plain": [
       "28.86607004772212"
      ]
     },
     "execution_count": 21,
     "metadata": {},
     "output_type": "execute_result"
    }
   ],
   "source": [
    "mean = rdd.mean()\n",
    "n = rdd.count()\n",
    "standard_deviation = math.sqrt(rdd.map(lambda x: pow((x - mean), 2)).sum()/n)\n",
    "standard_deviation"
   ]
  },
  {
   "cell_type": "markdown",
   "id": "90e99d95",
   "metadata": {
    "papermill": {
     "duration": 0.017602,
     "end_time": "2023-11-28T12:11:37.506640",
     "exception": false,
     "start_time": "2023-11-28T12:11:37.489038",
     "status": "completed"
    },
    "tags": []
   },
   "source": [
    "## Skewness\n",
    "\n",
    "The formula for skewness (γ1γ1​) in LaTeX is typically expressed as follows:\n",
    "\n",
    "latex\n",
    "$$\n",
    "\\gamma_1 = \\frac{\\frac{1}{n} \\sum_{i=1}^{n}(x_i - \\bar{x})^3}{\\left(\\frac{1}{n} \\sum_{i=1}^{n}(x_i - \\bar{x})^2\\right)^{3/2}}\n",
    "$$\n",
    "Here:\n",
    "\n",
    "- γ1​ represents skewness.\n",
    "- n is the number of observations.\n",
    "- xi​ represents each individual observation.\n",
    "- xˉ is the mean of the dataset.\n",
    "\n"
   ]
  },
  {
   "cell_type": "code",
   "execution_count": 22,
   "id": "209d6c79",
   "metadata": {
    "execution": {
     "iopub.execute_input": "2023-11-28T12:11:37.545369Z",
     "iopub.status.busy": "2023-11-28T12:11:37.544628Z",
     "iopub.status.idle": "2023-11-28T12:11:37.553709Z",
     "shell.execute_reply": "2023-11-28T12:11:37.552991Z"
    },
    "papermill": {
     "duration": 0.031149,
     "end_time": "2023-11-28T12:11:37.555839",
     "exception": false,
     "start_time": "2023-11-28T12:11:37.524690",
     "status": "completed"
    },
    "tags": []
   },
   "outputs": [],
   "source": [
    "try:\n",
    "    from pyspark import SparkContext, SparkConf\n",
    "    from pyspark.sql import SparkSession\n",
    "except ImportError as e:\n",
    "    print(e)\n",
    "    \n",
    "# Create a SparkContext if it doesn't exist, using a local master URL\n",
    "sc = SparkContext.getOrCreate(SparkConf().setMaster(\"local[*]\"))\n",
    "\n",
    "# Create a SparkSession if it doesn't exist\n",
    "spark = SparkSession.builder.getOrCreate()"
   ]
  },
  {
   "cell_type": "code",
   "execution_count": 23,
   "id": "53bd4f72",
   "metadata": {
    "execution": {
     "iopub.execute_input": "2023-11-28T12:11:37.593660Z",
     "iopub.status.busy": "2023-11-28T12:11:37.592946Z",
     "iopub.status.idle": "2023-11-28T12:11:38.989194Z",
     "shell.execute_reply": "2023-11-28T12:11:38.988077Z"
    },
    "papermill": {
     "duration": 1.418155,
     "end_time": "2023-11-28T12:11:38.991978",
     "exception": false,
     "start_time": "2023-11-28T12:11:37.573823",
     "status": "completed"
    },
    "tags": []
   },
   "outputs": [
    {
     "data": {
      "text/plain": [
       "1.4210854715202004e-16"
      ]
     },
     "execution_count": 23,
     "metadata": {},
     "output_type": "execute_result"
    }
   ],
   "source": [
    "rdd = sc.parallelize(range(100))\n",
    "mean = rdd.mean()\n",
    "n = float(rdd.count())\n",
    "standard_deviation = math.sqrt(rdd.map(lambda x: pow((x - mean), 2)).sum()/n)\n",
    "\n",
    "skewness = (rdd.map(lambda x: pow((x-mean),3)/pow(standard_deviation,3)).sum())/n\n",
    "skewness"
   ]
  },
  {
   "cell_type": "code",
   "execution_count": 24,
   "id": "a198b4b9",
   "metadata": {
    "execution": {
     "iopub.execute_input": "2023-11-28T12:11:39.030880Z",
     "iopub.status.busy": "2023-11-28T12:11:39.029706Z",
     "iopub.status.idle": "2023-11-28T12:11:40.360500Z",
     "shell.execute_reply": "2023-11-28T12:11:40.359186Z"
    },
    "papermill": {
     "duration": 1.353038,
     "end_time": "2023-11-28T12:11:40.363451",
     "exception": false,
     "start_time": "2023-11-28T12:11:39.010413",
     "status": "completed"
    },
    "tags": []
   },
   "outputs": [
    {
     "data": {
      "text/plain": [
       "10.00200794849941"
      ]
     },
     "execution_count": 24,
     "metadata": {},
     "output_type": "execute_result"
    }
   ],
   "source": [
    "## trying to right skew the data\n",
    "rdd = sc.parallelize([101,102,10000,1023,121728] + list(range(100)))\n",
    "mean = rdd.mean()\n",
    "n = float(rdd.count())\n",
    "standard_deviation = math.sqrt(rdd.map(lambda x: pow((x - mean), 2)).sum()/n)\n",
    "\n",
    "skewness = (rdd.map(lambda x: pow((x-mean),3)/pow(standard_deviation,3)).sum())/n\n",
    "skewness"
   ]
  },
  {
   "cell_type": "code",
   "execution_count": 25,
   "id": "07bd0b7d",
   "metadata": {
    "execution": {
     "iopub.execute_input": "2023-11-28T12:11:40.410920Z",
     "iopub.status.busy": "2023-11-28T12:11:40.410507Z",
     "iopub.status.idle": "2023-11-28T12:11:41.679503Z",
     "shell.execute_reply": "2023-11-28T12:11:41.678771Z"
    },
    "papermill": {
     "duration": 1.291891,
     "end_time": "2023-11-28T12:11:41.682581",
     "exception": false,
     "start_time": "2023-11-28T12:11:40.390690",
     "status": "completed"
    },
    "tags": []
   },
   "outputs": [
    {
     "data": {
      "text/plain": [
       "-10.00010218410623"
      ]
     },
     "execution_count": 25,
     "metadata": {},
     "output_type": "execute_result"
    }
   ],
   "source": [
    "## trying to left skew the data\n",
    "rdd = sc.parallelize([-101,-102,-10000,-1023,-121728] + list(range(100)))\n",
    "mean = rdd.mean()\n",
    "n = float(rdd.count())\n",
    "standard_deviation = math.sqrt(rdd.map(lambda x: pow((x - mean), 2)).sum()/n)\n",
    "\n",
    "skewness = (rdd.map(lambda x: pow((x-mean),3)/pow(standard_deviation,3)).sum())/n\n",
    "skewness"
   ]
  },
  {
   "cell_type": "code",
   "execution_count": null,
   "id": "aa2a3755",
   "metadata": {
    "papermill": {
     "duration": 0.017775,
     "end_time": "2023-11-28T12:11:41.723420",
     "exception": false,
     "start_time": "2023-11-28T12:11:41.705645",
     "status": "completed"
    },
    "tags": []
   },
   "outputs": [],
   "source": []
  }
 ],
 "metadata": {
  "kaggle": {
   "accelerator": "none",
   "dataSources": [],
   "dockerImageVersionId": 30587,
   "isGpuEnabled": false,
   "isInternetEnabled": true,
   "language": "python",
   "sourceType": "notebook"
  },
  "kernelspec": {
   "display_name": "Python 3",
   "language": "python",
   "name": "python3"
  },
  "language_info": {
   "codemirror_mode": {
    "name": "ipython",
    "version": 3
   },
   "file_extension": ".py",
   "mimetype": "text/x-python",
   "name": "python",
   "nbconvert_exporter": "python",
   "pygments_lexer": "ipython3",
   "version": "3.10.12"
  },
  "papermill": {
   "default_parameters": {},
   "duration": 79.283686,
   "end_time": "2023-11-28T12:11:44.362770",
   "environment_variables": {},
   "exception": null,
   "input_path": "__notebook__.ipynb",
   "output_path": "__notebook__.ipynb",
   "parameters": {},
   "start_time": "2023-11-28T12:10:25.079084",
   "version": "2.4.0"
  }
 },
 "nbformat": 4,
 "nbformat_minor": 5
}
