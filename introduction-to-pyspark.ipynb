{
 "cells": [
  {
   "cell_type": "markdown",
   "id": "5295050e",
   "metadata": {
    "_cell_guid": "b1076dfc-b9ad-4769-8c92-a6c4dae69d19",
    "_uuid": "8f2839f25d086af736a60e9eeb907d3b93b6e0e5",
    "execution": {
     "iopub.execute_input": "2023-11-28T05:01:49.264367Z",
     "iopub.status.busy": "2023-11-28T05:01:49.263930Z",
     "iopub.status.idle": "2023-11-28T05:01:49.538402Z",
     "shell.execute_reply": "2023-11-28T05:01:49.537762Z",
     "shell.execute_reply.started": "2023-11-28T05:01:49.264339Z"
    },
    "papermill": {
     "duration": 0.013931,
     "end_time": "2023-11-28T12:05:32.198590",
     "exception": false,
     "start_time": "2023-11-28T12:05:32.184659",
     "status": "completed"
    },
    "tags": []
   },
   "source": [
    "# Basic understanding of PySpark"
   ]
  },
  {
   "cell_type": "markdown",
   "id": "b3176d61",
   "metadata": {
    "papermill": {
     "duration": 0.014273,
     "end_time": "2023-11-28T12:05:32.226589",
     "exception": false,
     "start_time": "2023-11-28T12:05:32.212316",
     "status": "completed"
    },
    "tags": []
   },
   "source": [
    "### Installing the latest pyspark version"
   ]
  },
  {
   "cell_type": "code",
   "execution_count": 1,
   "id": "eeb84d38",
   "metadata": {
    "execution": {
     "iopub.execute_input": "2023-11-28T12:05:32.254976Z",
     "iopub.status.busy": "2023-11-28T12:05:32.254600Z",
     "iopub.status.idle": "2023-11-28T12:06:25.669725Z",
     "shell.execute_reply": "2023-11-28T12:06:25.668430Z"
    },
    "papermill": {
     "duration": 53.432785,
     "end_time": "2023-11-28T12:06:25.672729",
     "exception": false,
     "start_time": "2023-11-28T12:05:32.239944",
     "status": "completed"
    },
    "tags": []
   },
   "outputs": [
    {
     "name": "stdout",
     "output_type": "stream",
     "text": [
      "Collecting pyspark\r\n",
      "  Downloading pyspark-3.5.0.tar.gz (316.9 MB)\r\n",
      "\u001b[2K     \u001b[90m━━━━━━━━━━━━━━━━━━━━━━━━━━━━━━━━━━━━━━━\u001b[0m \u001b[32m316.9/316.9 MB\u001b[0m \u001b[31m3.5 MB/s\u001b[0m eta \u001b[36m0:00:00\u001b[0m\r\n",
      "\u001b[?25h  Preparing metadata (setup.py) ... \u001b[?25l-\b \b\\\b \bdone\r\n",
      "\u001b[?25hRequirement already satisfied: py4j==0.10.9.7 in /opt/conda/lib/python3.10/site-packages (from pyspark) (0.10.9.7)\r\n",
      "Building wheels for collected packages: pyspark\r\n",
      "  Building wheel for pyspark (setup.py) ... \u001b[?25l-\b \b\\\b \b|\b \bdone\r\n",
      "\u001b[?25h  Created wheel for pyspark: filename=pyspark-3.5.0-py2.py3-none-any.whl size=317425344 sha256=db9517bcdc233ca142d502760d4554d7e55e4e027e487651ca86b016cc0a9c6c\r\n",
      "  Stored in directory: /root/.cache/pip/wheels/41/4e/10/c2cf2467f71c678cfc8a6b9ac9241e5e44a01940da8fbb17fc\r\n",
      "Successfully built pyspark\r\n",
      "Installing collected packages: pyspark\r\n",
      "Successfully installed pyspark-3.5.0\r\n"
     ]
    }
   ],
   "source": [
    "!pip install pyspark"
   ]
  },
  {
   "cell_type": "markdown",
   "id": "d05bc295",
   "metadata": {
    "papermill": {
     "duration": 0.023777,
     "end_time": "2023-11-28T12:06:25.721069",
     "exception": false,
     "start_time": "2023-11-28T12:06:25.697292",
     "status": "completed"
    },
    "tags": []
   },
   "source": [
    "## Importing the PySpark to work with the modules\n",
    "\n",
    "- `SparkContext` is the _entry point_ to any <u>Spark functionality</u>. It represents the connection to a Spark cluster and can be used to create **RDDs** (Resilient Distributed Datasets) and broadcast variables on that cluster.\n",
    "\n",
    "- `SparkSession` is the _entry point_ to use DataFrame and SQL functionality in Spark. It provides a way to interact with various data sources (like Parquet, Avro, JSON, etc.) in a tabular form"
   ]
  },
  {
   "cell_type": "code",
   "execution_count": 2,
   "id": "f753de2a",
   "metadata": {
    "execution": {
     "iopub.execute_input": "2023-11-28T12:06:25.771514Z",
     "iopub.status.busy": "2023-11-28T12:06:25.771066Z",
     "iopub.status.idle": "2023-11-28T12:06:25.864864Z",
     "shell.execute_reply": "2023-11-28T12:06:25.863968Z"
    },
    "papermill": {
     "duration": 0.122743,
     "end_time": "2023-11-28T12:06:25.867704",
     "exception": false,
     "start_time": "2023-11-28T12:06:25.744961",
     "status": "completed"
    },
    "tags": []
   },
   "outputs": [],
   "source": [
    "try:\n",
    "    from pyspark import SparkContext, SparkConf\n",
    "    from pyspark.sql import SparkSession\n",
    "    import math\n",
    "except ImportError as e:\n",
    "    print(e)\n",
    "    printmd('<<<<<!!!!! Please restart your kernel after installing Apache Spark !!!!!>>>>>')"
   ]
  },
  {
   "cell_type": "markdown",
   "id": "d5b64d21",
   "metadata": {
    "papermill": {
     "duration": 0.023273,
     "end_time": "2023-11-28T12:06:25.914844",
     "exception": false,
     "start_time": "2023-11-28T12:06:25.891571",
     "status": "completed"
    },
    "tags": []
   },
   "source": [
    "1. `SparkContext.getOrCreate()` tries to get an existing SparkContext or creates a new one if it doesn't exist. The SparkConf().setMaster(\"local[*]\") part specifies that Spark should run in **local mode** using all <u>available CPU cores ([*])</u>. In local mode, Spark runs on a single machine, which is useful for development and testing.\n",
    "2. `SparkSession.builder.getOrCreate()` follows a similar pattern as `SparkContext.getOrCreate()`. It tries to get an existing SparkSession or creates a new one if it doesn't exist. The `SparkSession` is the <u>unified entry point for reading data, executing SQL queries, and performing other Spark operations using the DataFrame API.</u>"
   ]
  },
  {
   "cell_type": "code",
   "execution_count": 3,
   "id": "be129688",
   "metadata": {
    "execution": {
     "iopub.execute_input": "2023-11-28T12:06:25.964676Z",
     "iopub.status.busy": "2023-11-28T12:06:25.964059Z",
     "iopub.status.idle": "2023-11-28T12:06:31.866309Z",
     "shell.execute_reply": "2023-11-28T12:06:31.865263Z"
    },
    "papermill": {
     "duration": 5.930083,
     "end_time": "2023-11-28T12:06:31.868935",
     "exception": false,
     "start_time": "2023-11-28T12:06:25.938852",
     "status": "completed"
    },
    "tags": []
   },
   "outputs": [
    {
     "name": "stderr",
     "output_type": "stream",
     "text": [
      "Setting default log level to \"WARN\".\n",
      "To adjust logging level use sc.setLogLevel(newLevel). For SparkR, use setLogLevel(newLevel).\n",
      "23/11/28 12:06:29 WARN NativeCodeLoader: Unable to load native-hadoop library for your platform... using builtin-java classes where applicable\n"
     ]
    }
   ],
   "source": [
    "# Create a SparkContext if it doesn't exist, using a local master URL\n",
    "sc = SparkContext.getOrCreate(SparkConf().setMaster(\"local[*]\"))\n",
    "\n",
    "# Create a SparkSession if it doesn't exist\n",
    "spark = SparkSession.builder.getOrCreate()"
   ]
  },
  {
   "cell_type": "markdown",
   "id": "c4670a3e",
   "metadata": {
    "papermill": {
     "duration": 0.023816,
     "end_time": "2023-11-28T12:06:31.917517",
     "exception": false,
     "start_time": "2023-11-28T12:06:31.893701",
     "status": "completed"
    },
    "tags": []
   },
   "source": [
    "Creating an RDD (Resilient Distributed Dataset) using the parallelize method of the SparkContext (sc). Let me break down what this line does:\n",
    "\n",
    "   - `range(100)`: This creates a Python list containing numbers from 0 to 99.\n",
    "\n",
    "   - `sc.parallelize(range(100))`: This takes that Python list and distributes it across the Spark cluster, creating an RDD. The RDD is a fault-tolerant collection of elements that can be processed in parallel.\n",
    "\n",
    "So, the rdd variable now represents a distributed collection of numbers from 0 to 99. Each element of the RDD is stored on a different partition of the cluster, and Spark can perform operations on these partitions in parallel."
   ]
  },
  {
   "cell_type": "code",
   "execution_count": 4,
   "id": "e2a60de2",
   "metadata": {
    "execution": {
     "iopub.execute_input": "2023-11-28T12:06:31.968014Z",
     "iopub.status.busy": "2023-11-28T12:06:31.967162Z",
     "iopub.status.idle": "2023-11-28T12:06:32.380440Z",
     "shell.execute_reply": "2023-11-28T12:06:32.379222Z"
    },
    "papermill": {
     "duration": 0.44265,
     "end_time": "2023-11-28T12:06:32.384478",
     "exception": false,
     "start_time": "2023-11-28T12:06:31.941828",
     "status": "completed"
    },
    "tags": []
   },
   "outputs": [],
   "source": [
    "rdd = sc.parallelize(range(100))"
   ]
  },
  {
   "cell_type": "markdown",
   "id": "c93f870f",
   "metadata": {
    "papermill": {
     "duration": 0.02357,
     "end_time": "2023-11-28T12:06:32.434308",
     "exception": false,
     "start_time": "2023-11-28T12:06:32.410738",
     "status": "completed"
    },
    "tags": []
   },
   "source": [
    "The `take` action in Spark is used to retrieve the **first N elements** from an RDD or DataFrame. "
   ]
  },
  {
   "cell_type": "code",
   "execution_count": 5,
   "id": "6b93f45f",
   "metadata": {
    "execution": {
     "iopub.execute_input": "2023-11-28T12:06:32.484819Z",
     "iopub.status.busy": "2023-11-28T12:06:32.484449Z",
     "iopub.status.idle": "2023-11-28T12:06:34.679740Z",
     "shell.execute_reply": "2023-11-28T12:06:34.678874Z"
    },
    "papermill": {
     "duration": 2.225519,
     "end_time": "2023-11-28T12:06:34.684591",
     "exception": false,
     "start_time": "2023-11-28T12:06:32.459072",
     "status": "completed"
    },
    "tags": []
   },
   "outputs": [
    {
     "name": "stderr",
     "output_type": "stream",
     "text": [
      "                                                                                \r"
     ]
    },
    {
     "data": {
      "text/plain": [
       "[0, 1, 2, 3, 4, 5, 6, 7, 8, 9]"
      ]
     },
     "execution_count": 5,
     "metadata": {},
     "output_type": "execute_result"
    }
   ],
   "source": [
    "rdd.take(10) #note the as an array the rdd contains number from 0 to (n-1)"
   ]
  },
  {
   "cell_type": "markdown",
   "id": "4968fc28",
   "metadata": {
    "papermill": {
     "duration": 0.089125,
     "end_time": "2023-11-28T12:06:34.802924",
     "exception": false,
     "start_time": "2023-11-28T12:06:34.713799",
     "status": "completed"
    },
    "tags": []
   },
   "source": [
    "## Functional Programming"
   ]
  },
  {
   "cell_type": "markdown",
   "id": "74ce6be3",
   "metadata": {
    "papermill": {
     "duration": 0.024479,
     "end_time": "2023-11-28T12:06:34.852927",
     "exception": false,
     "start_time": "2023-11-28T12:06:34.828448",
     "status": "completed"
    },
    "tags": []
   },
   "source": [
    "A python function which decides whether a value is greater than 50 (**True**) or not (**False**)."
   ]
  },
  {
   "cell_type": "code",
   "execution_count": 6,
   "id": "cc6176c8",
   "metadata": {
    "execution": {
     "iopub.execute_input": "2023-11-28T12:06:34.905138Z",
     "iopub.status.busy": "2023-11-28T12:06:34.904387Z",
     "iopub.status.idle": "2023-11-28T12:06:34.910240Z",
     "shell.execute_reply": "2023-11-28T12:06:34.909447Z"
    },
    "papermill": {
     "duration": 0.034705,
     "end_time": "2023-11-28T12:06:34.912625",
     "exception": false,
     "start_time": "2023-11-28T12:06:34.877920",
     "status": "completed"
    },
    "tags": []
   },
   "outputs": [
    {
     "name": "stdout",
     "output_type": "stream",
     "text": [
      "False\n",
      "True\n"
     ]
    }
   ],
   "source": [
    "def gt50(i):\n",
    "    return i > 50\n",
    "\n",
    "print(gt50(4))\n",
    "print(gt50(51))"
   ]
  },
  {
   "cell_type": "markdown",
   "id": "7c59a911",
   "metadata": {
    "papermill": {
     "duration": 0.025559,
     "end_time": "2023-11-28T12:06:34.963003",
     "exception": false,
     "start_time": "2023-11-28T12:06:34.937444",
     "status": "completed"
    },
    "tags": []
   },
   "source": [
    "Writing the above function but by lambda function\n",
    "\n",
    "This line of code defines a lambda function (lambda) named gt25. The lambda function takes a single argument `i` and returns a _Boolean value (True or False)_. In this case, the lambda function checks whether the input i is greater than 25.\n",
    "\n",
    "So, you can interpret this as follows: **gt25 is a function that, when given a value i, returns True if i is greater than 25 and False otherwise.**"
   ]
  },
  {
   "cell_type": "code",
   "execution_count": 7,
   "id": "5122744c",
   "metadata": {
    "execution": {
     "iopub.execute_input": "2023-11-28T12:06:35.015205Z",
     "iopub.status.busy": "2023-11-28T12:06:35.014483Z",
     "iopub.status.idle": "2023-11-28T12:06:35.020069Z",
     "shell.execute_reply": "2023-11-28T12:06:35.019106Z"
    },
    "papermill": {
     "duration": 0.034307,
     "end_time": "2023-11-28T12:06:35.022238",
     "exception": false,
     "start_time": "2023-11-28T12:06:34.987931",
     "status": "completed"
    },
    "tags": []
   },
   "outputs": [
    {
     "name": "stdout",
     "output_type": "stream",
     "text": [
      "False\n",
      "True\n"
     ]
    }
   ],
   "source": [
    "gt25 = lambda i: i > 25\n",
    "\n",
    "print(gt25(4))\n",
    "print(gt25(51))"
   ]
  },
  {
   "cell_type": "markdown",
   "id": "98c608ab",
   "metadata": {
    "papermill": {
     "duration": 0.025637,
     "end_time": "2023-11-28T12:06:35.073201",
     "exception": false,
     "start_time": "2023-11-28T12:06:35.047564",
     "status": "completed"
    },
    "tags": []
   },
   "source": [
    "### Shuffling the RDD\n",
    "\n",
    "`l = list(range(100))`: Creates a list containing numbers from 0 to 99. This is a simple way to generate a list with sequential integers.\n",
    "\n",
    "`shuffle(l)`: Uses the shuffle function from the random module to randomly shuffle the elements of the list l. This step is intended to randomize the order of the numbers in the list.\n",
    "\n",
    "`sc.parallelize(l)`: Creates an RDD named rdd from the shuffled list l. The parallelize method of the SparkContext (sc) is used to distribute the elements of the list across the nodes of the Spark cluster. This RDD can then be used for parallel processing using Spark.\n",
    "\n",
    "So, after running this code, the _rdd_ variable holds a distributed representation of the shuffled list, and the elements are distributed across the nodes of the Spark cluster. "
   ]
  },
  {
   "cell_type": "code",
   "execution_count": 8,
   "id": "4a7c9b67",
   "metadata": {
    "execution": {
     "iopub.execute_input": "2023-11-28T12:06:35.125912Z",
     "iopub.status.busy": "2023-11-28T12:06:35.125208Z",
     "iopub.status.idle": "2023-11-28T12:06:35.135077Z",
     "shell.execute_reply": "2023-11-28T12:06:35.134201Z"
    },
    "papermill": {
     "duration": 0.039206,
     "end_time": "2023-11-28T12:06:35.137629",
     "exception": false,
     "start_time": "2023-11-28T12:06:35.098423",
     "status": "completed"
    },
    "tags": []
   },
   "outputs": [],
   "source": [
    "from random import shuffle\n",
    "\n",
    "# Create a list containing numbers from 0 to 99\n",
    "l = list(range(100))\n",
    "\n",
    "# Shuffle the list randomly\n",
    "shuffle(l)\n",
    "\n",
    "# Create an RDD (Resilient Distributed Dataset) from the shuffled list\n",
    "rdd = sc.parallelize(l)\n"
   ]
  },
  {
   "cell_type": "markdown",
   "id": "c1938cae",
   "metadata": {
    "papermill": {
     "duration": 0.026024,
     "end_time": "2023-11-28T12:06:35.189869",
     "exception": false,
     "start_time": "2023-11-28T12:06:35.163845",
     "status": "completed"
    },
    "tags": []
   },
   "source": [
    "Filtering values from our list which are equals or less than 50 by applying the “gt50” function to the list using the “filter” function. \n",
    "**Note that by calling the “collect” function, all elements are returned to the Apache Spark Driver. This is not a good idea for BigData, please use “.sample(10,0.1).collect()” or “take(n)” instead. beacuse collect can be resource-intensive, especially if the RDD is large, as it brings all the data back to the driver program.**"
   ]
  },
  {
   "cell_type": "code",
   "execution_count": 9,
   "id": "0090ae31",
   "metadata": {
    "execution": {
     "iopub.execute_input": "2023-11-28T12:06:35.243390Z",
     "iopub.status.busy": "2023-11-28T12:06:35.242996Z",
     "iopub.status.idle": "2023-11-28T12:06:35.553248Z",
     "shell.execute_reply": "2023-11-28T12:06:35.552226Z"
    },
    "papermill": {
     "duration": 0.340893,
     "end_time": "2023-11-28T12:06:35.555763",
     "exception": false,
     "start_time": "2023-11-28T12:06:35.214870",
     "status": "completed"
    },
    "tags": []
   },
   "outputs": [
    {
     "data": {
      "text/plain": [
       "[98, 96, 94, 82, 99, 73, 90, 87, 72, 66]"
      ]
     },
     "execution_count": 9,
     "metadata": {},
     "output_type": "execute_result"
    }
   ],
   "source": [
    "# rdd.filter(gt50).collect() #we can use collect but following the best practice\n",
    "rdd.filter(gt50).take(10)"
   ]
  },
  {
   "cell_type": "markdown",
   "id": "ebe2bc74",
   "metadata": {
    "papermill": {
     "duration": 0.024282,
     "end_time": "2023-11-28T12:06:35.604828",
     "exception": false,
     "start_time": "2023-11-28T12:06:35.580546",
     "status": "completed"
    },
    "tags": []
   },
   "source": [
    "sample(10, 0.1): This is another transformation, specifically the sample transformation. It is used to create a random sample of the elements in the RDD. The parameters are:\n",
    "\n",
    "`10`: The number of elements to include in the sample.\n",
    "`0.1`: The sampling fraction, representing the probability that each element is included in the sample. In this case, it's set to 0.1, meaning there's a 10% chance of including each element in the sample.\n",
    "\n",
    "Note that the result of this operation doesn't directly give you a collection of elements; instead, it returns a new RDD that represents the sampled subset of the filtered data."
   ]
  },
  {
   "cell_type": "code",
   "execution_count": 10,
   "id": "fadac80b",
   "metadata": {
    "execution": {
     "iopub.execute_input": "2023-11-28T12:06:35.657185Z",
     "iopub.status.busy": "2023-11-28T12:06:35.656095Z",
     "iopub.status.idle": "2023-11-28T12:06:36.398409Z",
     "shell.execute_reply": "2023-11-28T12:06:36.397206Z"
    },
    "papermill": {
     "duration": 0.772233,
     "end_time": "2023-11-28T12:06:36.402024",
     "exception": false,
     "start_time": "2023-11-28T12:06:35.629791",
     "status": "completed"
    },
    "tags": []
   },
   "outputs": [
    {
     "data": {
      "text/plain": [
       "[96, 75, 97]"
      ]
     },
     "execution_count": 10,
     "metadata": {},
     "output_type": "execute_result"
    }
   ],
   "source": [
    "sample = rdd.filter(gt50).sample(10, 0.1).take(10)\n",
    "sample"
   ]
  },
  {
   "cell_type": "code",
   "execution_count": 11,
   "id": "666ab2d1",
   "metadata": {
    "execution": {
     "iopub.execute_input": "2023-11-28T12:06:36.456653Z",
     "iopub.status.busy": "2023-11-28T12:06:36.456004Z",
     "iopub.status.idle": "2023-11-28T12:06:36.470170Z",
     "shell.execute_reply": "2023-11-28T12:06:36.469369Z"
    },
    "papermill": {
     "duration": 0.04348,
     "end_time": "2023-11-28T12:06:36.473449",
     "exception": false,
     "start_time": "2023-11-28T12:06:36.429969",
     "status": "completed"
    },
    "tags": []
   },
   "outputs": [
    {
     "data": {
      "text/plain": [
       "PythonRDD[6] at RDD at PythonRDD.scala:53"
      ]
     },
     "execution_count": 11,
     "metadata": {},
     "output_type": "execute_result"
    }
   ],
   "source": [
    "# trying with sample api\n",
    "rdd.filter(gt50).sample(10,0.1)"
   ]
  },
  {
   "cell_type": "code",
   "execution_count": 12,
   "id": "14bf6edc",
   "metadata": {
    "execution": {
     "iopub.execute_input": "2023-11-28T12:06:36.525736Z",
     "iopub.status.busy": "2023-11-28T12:06:36.524852Z",
     "iopub.status.idle": "2023-11-28T12:06:36.806741Z",
     "shell.execute_reply": "2023-11-28T12:06:36.805615Z"
    },
    "papermill": {
     "duration": 0.310543,
     "end_time": "2023-11-28T12:06:36.809250",
     "exception": false,
     "start_time": "2023-11-28T12:06:36.498707",
     "status": "completed"
    },
    "tags": []
   },
   "outputs": [
    {
     "data": {
      "text/plain": [
       "[98, 96, 94, 82, 99, 73, 90, 87, 72, 66]"
      ]
     },
     "execution_count": 12,
     "metadata": {},
     "output_type": "execute_result"
    }
   ],
   "source": [
    "rdd.filter(lambda i: i > 50).take(10) #running the same code but with a lambda function"
   ]
  },
  {
   "cell_type": "markdown",
   "id": "584d52df",
   "metadata": {
    "papermill": {
     "duration": 0.024841,
     "end_time": "2023-11-28T12:06:36.859230",
     "exception": false,
     "start_time": "2023-11-28T12:06:36.834389",
     "status": "completed"
    },
    "tags": []
   },
   "source": [
    "Let’s consider the same list of integers. Now we want to compute the sum for elements in that list which are greater than 50 but less than 75. Please implement the missing parts. \n",
    "\n",
    "`rdd.filter(lambda x: $$).filter(lambda x: $$).$$()`"
   ]
  },
  {
   "cell_type": "code",
   "execution_count": 13,
   "id": "9a3ff97b",
   "metadata": {
    "execution": {
     "iopub.execute_input": "2023-11-28T12:06:36.912738Z",
     "iopub.status.busy": "2023-11-28T12:06:36.911771Z",
     "iopub.status.idle": "2023-11-28T12:06:37.491788Z",
     "shell.execute_reply": "2023-11-28T12:06:37.490587Z"
    },
    "papermill": {
     "duration": 0.609771,
     "end_time": "2023-11-28T12:06:37.494379",
     "exception": false,
     "start_time": "2023-11-28T12:06:36.884608",
     "status": "completed"
    },
    "tags": []
   },
   "outputs": [
    {
     "data": {
      "text/plain": [
       "[73, 72, 66, 68, 56, 74, 62, 69, 59, 70]"
      ]
     },
     "execution_count": 13,
     "metadata": {},
     "output_type": "execute_result"
    }
   ],
   "source": [
    "rdd.filter(lambda x: x > 50 and x < 75).take(10) # shortened the code but doing that in one filter function"
   ]
  },
  {
   "cell_type": "markdown",
   "id": "27da26ef",
   "metadata": {
    "papermill": {
     "duration": 0.031298,
     "end_time": "2023-11-28T12:06:37.551630",
     "exception": false,
     "start_time": "2023-11-28T12:06:37.520332",
     "status": "completed"
    },
    "tags": []
   },
   "source": [
    "## Working with the statistical parameters"
   ]
  },
  {
   "cell_type": "markdown",
   "id": "d09c1f22",
   "metadata": {
    "papermill": {
     "duration": 0.025179,
     "end_time": "2023-11-28T12:06:37.611813",
     "exception": false,
     "start_time": "2023-11-28T12:06:37.586634",
     "status": "completed"
    },
    "tags": []
   },
   "source": [
    "### 1. First statistical moment ------> Mean and Median"
   ]
  },
  {
   "cell_type": "code",
   "execution_count": 14,
   "id": "994a986f",
   "metadata": {
    "execution": {
     "iopub.execute_input": "2023-11-28T12:06:37.664461Z",
     "iopub.status.busy": "2023-11-28T12:06:37.664032Z",
     "iopub.status.idle": "2023-11-28T12:06:37.681397Z",
     "shell.execute_reply": "2023-11-28T12:06:37.680242Z"
    },
    "papermill": {
     "duration": 0.047022,
     "end_time": "2023-11-28T12:06:37.684171",
     "exception": false,
     "start_time": "2023-11-28T12:06:37.637149",
     "status": "completed"
    },
    "tags": []
   },
   "outputs": [],
   "source": [
    "try:\n",
    "    from pyspark import SparkContext, SparkConf\n",
    "    from pyspark.sql import SparkSession\n",
    "except ImportError as e:\n",
    "    print(e)\n",
    "    \n",
    "# Create a SparkContext if it doesn't exist, using a local master URL\n",
    "sc = SparkContext.getOrCreate(SparkConf().setMaster(\"local[*]\"))\n",
    "\n",
    "# Create a SparkSession if it doesn't exist\n",
    "spark = SparkSession.builder.getOrCreate()\n",
    "\n",
    "\n",
    "rdd = sc.parallelize(range(100))"
   ]
  },
  {
   "cell_type": "markdown",
   "id": "95ffbf86",
   "metadata": {
    "papermill": {
     "duration": 0.025303,
     "end_time": "2023-11-28T12:06:37.735388",
     "exception": false,
     "start_time": "2023-11-28T12:06:37.710085",
     "status": "completed"
    },
    "tags": []
   },
   "source": [
    "### Mean is calculated by using this formula\n",
    "$$\n",
    "\\bar{x} = \\frac{1}{n} \\sum_{i=1}^{n} x_i\n",
    "$$\n"
   ]
  },
  {
   "cell_type": "code",
   "execution_count": 15,
   "id": "c169bd43",
   "metadata": {
    "execution": {
     "iopub.execute_input": "2023-11-28T12:06:37.788207Z",
     "iopub.status.busy": "2023-11-28T12:06:37.787765Z",
     "iopub.status.idle": "2023-11-28T12:06:38.880019Z",
     "shell.execute_reply": "2023-11-28T12:06:38.878943Z"
    },
    "papermill": {
     "duration": 1.121905,
     "end_time": "2023-11-28T12:06:38.882777",
     "exception": false,
     "start_time": "2023-11-28T12:06:37.760872",
     "status": "completed"
    },
    "tags": []
   },
   "outputs": [
    {
     "data": {
      "text/plain": [
       "49.5"
      ]
     },
     "execution_count": 15,
     "metadata": {},
     "output_type": "execute_result"
    }
   ],
   "source": [
    "sum = rdd.sum()  # does the summation of all the elements in the rdd\n",
    "n = rdd.count() #counts the number of elements in the RDD\n",
    "mean = sum/float(n) # calculating the x(bar)\n",
    "mean"
   ]
  },
  {
   "cell_type": "markdown",
   "id": "e0bbb75a",
   "metadata": {
    "papermill": {
     "duration": 0.025824,
     "end_time": "2023-11-28T12:06:38.938718",
     "exception": false,
     "start_time": "2023-11-28T12:06:38.912894",
     "status": "completed"
    },
    "tags": []
   },
   "source": [
    "### Median can be calculated in the following manner\n",
    "For odd \\( n \\):\n",
    "$$\n",
    "\\tilde{x} = x_{\\frac{n+1}{2}}\n",
    "$$\n",
    "\n",
    "For even \\( n \\):\n",
    "$$\n",
    "\\tilde{x} = \\frac{x_{\\frac{n}{2}} + x_{\\frac{n}{2}+1}}{2}\n",
    "$$"
   ]
  },
  {
   "cell_type": "code",
   "execution_count": 16,
   "id": "26c0629e",
   "metadata": {
    "execution": {
     "iopub.execute_input": "2023-11-28T12:06:38.996962Z",
     "iopub.status.busy": "2023-11-28T12:06:38.996562Z",
     "iopub.status.idle": "2023-11-28T12:06:43.940448Z",
     "shell.execute_reply": "2023-11-28T12:06:43.939407Z"
    },
    "papermill": {
     "duration": 4.980649,
     "end_time": "2023-11-28T12:06:43.944606",
     "exception": false,
     "start_time": "2023-11-28T12:06:38.963957",
     "status": "completed"
    },
    "tags": []
   },
   "outputs": [
    {
     "name": "stderr",
     "output_type": "stream",
     "text": [
      "                                                                                \r"
     ]
    },
    {
     "name": "stdout",
     "output_type": "stream",
     "text": [
      "49.5\n"
     ]
    },
    {
     "name": "stderr",
     "output_type": "stream",
     "text": [
      "                                                                                \r"
     ]
    }
   ],
   "source": [
    "sortedRDD = rdd.sortBy(lambda x : x).zipWithIndex().map(lambda item: (item[1], item[0]))\n",
    "n = sortedRDD.count()\n",
    "if (n%2 == 1):\n",
    "    index = (n-1)/2\n",
    "    print(sortedRDD.lookup(index))\n",
    "else:\n",
    "    index1 = n/2\n",
    "    index2 = (n/2)-1\n",
    "    value1 = sortedRDD.lookup(index1)[0]\n",
    "    value2 = sortedRDD.lookup(index2)[0]\n",
    "    print((value1+value2)/2.0)"
   ]
  },
  {
   "cell_type": "markdown",
   "id": "3a4323c3",
   "metadata": {
    "papermill": {
     "duration": 0.037346,
     "end_time": "2023-11-28T12:06:44.019409",
     "exception": false,
     "start_time": "2023-11-28T12:06:43.982063",
     "status": "completed"
    },
    "tags": []
   },
   "source": [
    "## Now lets add outliers to the data and see the difference"
   ]
  },
  {
   "cell_type": "code",
   "execution_count": 17,
   "id": "a93b6107",
   "metadata": {
    "execution": {
     "iopub.execute_input": "2023-11-28T12:06:44.078779Z",
     "iopub.status.busy": "2023-11-28T12:06:44.078335Z",
     "iopub.status.idle": "2023-11-28T12:06:44.087822Z",
     "shell.execute_reply": "2023-11-28T12:06:44.086953Z"
    },
    "papermill": {
     "duration": 0.04018,
     "end_time": "2023-11-28T12:06:44.090238",
     "exception": false,
     "start_time": "2023-11-28T12:06:44.050058",
     "status": "completed"
    },
    "tags": []
   },
   "outputs": [],
   "source": [
    "rdd = sc.parallelize([101,102,10000,1023] + list(range(100)))"
   ]
  },
  {
   "cell_type": "code",
   "execution_count": 18,
   "id": "9538ec19",
   "metadata": {
    "execution": {
     "iopub.execute_input": "2023-11-28T12:06:44.146047Z",
     "iopub.status.busy": "2023-11-28T12:06:44.145611Z",
     "iopub.status.idle": "2023-11-28T12:06:48.112153Z",
     "shell.execute_reply": "2023-11-28T12:06:48.111020Z"
    },
    "papermill": {
     "duration": 3.999021,
     "end_time": "2023-11-28T12:06:48.116451",
     "exception": false,
     "start_time": "2023-11-28T12:06:44.117430",
     "status": "completed"
    },
    "tags": []
   },
   "outputs": [
    {
     "name": "stdout",
     "output_type": "stream",
     "text": [
      "51.5\n"
     ]
    },
    {
     "name": "stderr",
     "output_type": "stream",
     "text": [
      "                                                                                \r"
     ]
    }
   ],
   "source": [
    "sortedRDD = rdd.sortBy(lambda x : x).zipWithIndex().map(lambda item: (item[1], item[0]))\n",
    "n = sortedRDD.count()\n",
    "if (n%2 == 1):\n",
    "    index = (n-1)/2\n",
    "    print(sortedRDD.lookup(index))\n",
    "else:\n",
    "    index1 = n/2\n",
    "    index2 = (n/2)-1\n",
    "    value1 = sortedRDD.lookup(index1)[0]\n",
    "    value2 = sortedRDD.lookup(index2)[0]\n",
    "    print((value1+value2)/2.0)\n",
    "    \n",
    "    "
   ]
  },
  {
   "cell_type": "code",
   "execution_count": 19,
   "id": "5afba302",
   "metadata": {
    "execution": {
     "iopub.execute_input": "2023-11-28T12:06:48.195336Z",
     "iopub.status.busy": "2023-11-28T12:06:48.194665Z",
     "iopub.status.idle": "2023-11-28T12:06:49.156805Z",
     "shell.execute_reply": "2023-11-28T12:06:49.155601Z"
    },
    "papermill": {
     "duration": 1.00449,
     "end_time": "2023-11-28T12:06:49.160057",
     "exception": false,
     "start_time": "2023-11-28T12:06:48.155567",
     "status": "completed"
    },
    "tags": []
   },
   "outputs": [
    {
     "data": {
      "text/plain": [
       "155.53846153846155"
      ]
     },
     "execution_count": 19,
     "metadata": {},
     "output_type": "execute_result"
    }
   ],
   "source": [
    "sum = rdd.sum()  # does the summation of all the elements in the rdd\n",
    "n = rdd.count() #counts the number of elements in the RDD\n",
    "mean = sum/float(n) # calculating the x(bar)\n",
    "mean"
   ]
  },
  {
   "cell_type": "markdown",
   "id": "fbc5e5d8",
   "metadata": {
    "papermill": {
     "duration": 0.027037,
     "end_time": "2023-11-28T12:06:49.221568",
     "exception": false,
     "start_time": "2023-11-28T12:06:49.194531",
     "status": "completed"
    },
    "tags": []
   },
   "source": [
    "## NOTE:\n",
    "We can see that there are differences between the mean and the median when there are outliers\n",
    "\n",
    "**Thats why we prefer the median method which is resilient to the outliers**"
   ]
  },
  {
   "cell_type": "markdown",
   "id": "5151df26",
   "metadata": {
    "papermill": {
     "duration": 0.025786,
     "end_time": "2023-11-28T12:06:49.274485",
     "exception": false,
     "start_time": "2023-11-28T12:06:49.248699",
     "status": "completed"
    },
    "tags": []
   },
   "source": [
    "### Standard Deviation\n",
    "\n",
    "The formula for the standard deviation (σσ) of a dataset is given by:\n",
    "$$\n",
    "\\sigma = \\sqrt{\\frac{\\sum_{i=1}^{n}(x_i - \\bar{x})^2}{n}}\n",
    "$$\n",
    "Here:\n",
    "\n",
    "- σσ represents the standard deviation.\n",
    "- nn is the number of observations in the dataset.\n",
    "- xixi​ represents each individual observation in the dataset.\n",
    "- xˉxˉ is the mean of the dataset."
   ]
  },
  {
   "cell_type": "code",
   "execution_count": 20,
   "id": "e7c5de89",
   "metadata": {
    "execution": {
     "iopub.execute_input": "2023-11-28T12:06:49.329265Z",
     "iopub.status.busy": "2023-11-28T12:06:49.328824Z",
     "iopub.status.idle": "2023-11-28T12:06:49.344265Z",
     "shell.execute_reply": "2023-11-28T12:06:49.343114Z"
    },
    "papermill": {
     "duration": 0.045658,
     "end_time": "2023-11-28T12:06:49.346839",
     "exception": false,
     "start_time": "2023-11-28T12:06:49.301181",
     "status": "completed"
    },
    "tags": []
   },
   "outputs": [],
   "source": [
    "try:\n",
    "    from pyspark import SparkContext, SparkConf\n",
    "    from pyspark.sql import SparkSession\n",
    "except ImportError as e:\n",
    "    print(e)\n",
    "    \n",
    "# Create a SparkContext if it doesn't exist, using a local master URL\n",
    "sc = SparkContext.getOrCreate(SparkConf().setMaster(\"local[*]\"))\n",
    "\n",
    "# Create a SparkSession if it doesn't exist\n",
    "spark = SparkSession.builder.getOrCreate()\n",
    "\n",
    "\n",
    "rdd = sc.parallelize(range(100))"
   ]
  },
  {
   "cell_type": "markdown",
   "id": "8d439873",
   "metadata": {
    "papermill": {
     "duration": 0.025905,
     "end_time": "2023-11-28T12:06:49.399615",
     "exception": false,
     "start_time": "2023-11-28T12:06:49.373710",
     "status": "completed"
    },
    "tags": []
   },
   "source": [
    "If we want to apply a function to the all the entries in the python then we should use `map`"
   ]
  },
  {
   "cell_type": "code",
   "execution_count": 21,
   "id": "4a186301",
   "metadata": {
    "execution": {
     "iopub.execute_input": "2023-11-28T12:06:49.454209Z",
     "iopub.status.busy": "2023-11-28T12:06:49.453569Z",
     "iopub.status.idle": "2023-11-28T12:06:50.750266Z",
     "shell.execute_reply": "2023-11-28T12:06:50.749427Z"
    },
    "papermill": {
     "duration": 1.328833,
     "end_time": "2023-11-28T12:06:50.754691",
     "exception": false,
     "start_time": "2023-11-28T12:06:49.425858",
     "status": "completed"
    },
    "tags": []
   },
   "outputs": [
    {
     "data": {
      "text/plain": [
       "28.86607004772212"
      ]
     },
     "execution_count": 21,
     "metadata": {},
     "output_type": "execute_result"
    }
   ],
   "source": [
    "mean = rdd.mean()\n",
    "n = rdd.count()\n",
    "standard_deviation = math.sqrt(rdd.map(lambda x: pow((x - mean), 2)).sum()/n)\n",
    "standard_deviation"
   ]
  },
  {
   "cell_type": "markdown",
   "id": "c38863a0",
   "metadata": {
    "papermill": {
     "duration": 0.026701,
     "end_time": "2023-11-28T12:06:50.814036",
     "exception": false,
     "start_time": "2023-11-28T12:06:50.787335",
     "status": "completed"
    },
    "tags": []
   },
   "source": [
    "## Skewness\n",
    "\n",
    "The formula for skewness (γ1γ1​) in LaTeX is typically expressed as follows:\n",
    "\n",
    "latex\n",
    "$$\n",
    "\\gamma_1 = \\frac{\\frac{1}{n} \\sum_{i=1}^{n}(x_i - \\bar{x})^3}{\\left(\\frac{1}{n} \\sum_{i=1}^{n}(x_i - \\bar{x})^2\\right)^{3/2}}\n",
    "$$\n",
    "Here:\n",
    "\n",
    "- γ1​ represents skewness.\n",
    "- n is the number of observations.\n",
    "- xi​ represents each individual observation.\n",
    "- xˉ is the mean of the dataset.\n",
    "\n"
   ]
  },
  {
   "cell_type": "code",
   "execution_count": 22,
   "id": "d7dd8663",
   "metadata": {
    "execution": {
     "iopub.execute_input": "2023-11-28T12:06:50.868190Z",
     "iopub.status.busy": "2023-11-28T12:06:50.867740Z",
     "iopub.status.idle": "2023-11-28T12:06:50.877848Z",
     "shell.execute_reply": "2023-11-28T12:06:50.877102Z"
    },
    "papermill": {
     "duration": 0.039789,
     "end_time": "2023-11-28T12:06:50.880147",
     "exception": false,
     "start_time": "2023-11-28T12:06:50.840358",
     "status": "completed"
    },
    "tags": []
   },
   "outputs": [],
   "source": [
    "try:\n",
    "    from pyspark import SparkContext, SparkConf\n",
    "    from pyspark.sql import SparkSession\n",
    "except ImportError as e:\n",
    "    print(e)\n",
    "    \n",
    "# Create a SparkContext if it doesn't exist, using a local master URL\n",
    "sc = SparkContext.getOrCreate(SparkConf().setMaster(\"local[*]\"))\n",
    "\n",
    "# Create a SparkSession if it doesn't exist\n",
    "spark = SparkSession.builder.getOrCreate()"
   ]
  },
  {
   "cell_type": "code",
   "execution_count": 23,
   "id": "b00d522a",
   "metadata": {
    "execution": {
     "iopub.execute_input": "2023-11-28T12:06:50.934661Z",
     "iopub.status.busy": "2023-11-28T12:06:50.934217Z",
     "iopub.status.idle": "2023-11-28T12:06:52.647741Z",
     "shell.execute_reply": "2023-11-28T12:06:52.646690Z"
    },
    "papermill": {
     "duration": 1.743951,
     "end_time": "2023-11-28T12:06:52.650583",
     "exception": false,
     "start_time": "2023-11-28T12:06:50.906632",
     "status": "completed"
    },
    "tags": []
   },
   "outputs": [
    {
     "data": {
      "text/plain": [
       "1.4210854715202004e-16"
      ]
     },
     "execution_count": 23,
     "metadata": {},
     "output_type": "execute_result"
    }
   ],
   "source": [
    "rdd = sc.parallelize(range(100))\n",
    "mean = rdd.mean()\n",
    "n = float(rdd.count())\n",
    "standard_deviation = math.sqrt(rdd.map(lambda x: pow((x - mean), 2)).sum()/n)\n",
    "\n",
    "skewness = (rdd.map(lambda x: pow((x-mean),3)/pow(standard_deviation,3)).sum())/n\n",
    "skewness"
   ]
  },
  {
   "cell_type": "code",
   "execution_count": 24,
   "id": "9c62212f",
   "metadata": {
    "execution": {
     "iopub.execute_input": "2023-11-28T12:06:52.709556Z",
     "iopub.status.busy": "2023-11-28T12:06:52.708448Z",
     "iopub.status.idle": "2023-11-28T12:06:54.350363Z",
     "shell.execute_reply": "2023-11-28T12:06:54.349240Z"
    },
    "papermill": {
     "duration": 1.672309,
     "end_time": "2023-11-28T12:06:54.353146",
     "exception": false,
     "start_time": "2023-11-28T12:06:52.680837",
     "status": "completed"
    },
    "tags": []
   },
   "outputs": [
    {
     "data": {
      "text/plain": [
       "10.00200794849941"
      ]
     },
     "execution_count": 24,
     "metadata": {},
     "output_type": "execute_result"
    }
   ],
   "source": [
    "## trying to right skew the data\n",
    "rdd = sc.parallelize([101,102,10000,1023,121728] + list(range(100)))\n",
    "mean = rdd.mean()\n",
    "n = float(rdd.count())\n",
    "standard_deviation = math.sqrt(rdd.map(lambda x: pow((x - mean), 2)).sum()/n)\n",
    "\n",
    "skewness = (rdd.map(lambda x: pow((x-mean),3)/pow(standard_deviation,3)).sum())/n\n",
    "skewness"
   ]
  },
  {
   "cell_type": "code",
   "execution_count": 25,
   "id": "2d3f4f2b",
   "metadata": {
    "execution": {
     "iopub.execute_input": "2023-11-28T12:06:54.413166Z",
     "iopub.status.busy": "2023-11-28T12:06:54.411995Z",
     "iopub.status.idle": "2023-11-28T12:06:56.079290Z",
     "shell.execute_reply": "2023-11-28T12:06:56.078163Z"
    },
    "papermill": {
     "duration": 1.698668,
     "end_time": "2023-11-28T12:06:56.082974",
     "exception": false,
     "start_time": "2023-11-28T12:06:54.384306",
     "status": "completed"
    },
    "tags": []
   },
   "outputs": [
    {
     "data": {
      "text/plain": [
       "-10.00010218410623"
      ]
     },
     "execution_count": 25,
     "metadata": {},
     "output_type": "execute_result"
    }
   ],
   "source": [
    "## trying to left skew the data\n",
    "rdd = sc.parallelize([-101,-102,-10000,-1023,-121728] + list(range(100)))\n",
    "mean = rdd.mean()\n",
    "n = float(rdd.count())\n",
    "standard_deviation = math.sqrt(rdd.map(lambda x: pow((x - mean), 2)).sum()/n)\n",
    "\n",
    "skewness = (rdd.map(lambda x: pow((x-mean),3)/pow(standard_deviation,3)).sum())/n\n",
    "skewness"
   ]
  },
  {
   "cell_type": "code",
   "execution_count": null,
   "id": "d48a2e66",
   "metadata": {
    "papermill": {
     "duration": 0.026635,
     "end_time": "2023-11-28T12:06:56.149528",
     "exception": false,
     "start_time": "2023-11-28T12:06:56.122893",
     "status": "completed"
    },
    "tags": []
   },
   "outputs": [],
   "source": []
  }
 ],
 "metadata": {
  "kaggle": {
   "accelerator": "none",
   "dataSources": [],
   "dockerImageVersionId": 30587,
   "isGpuEnabled": false,
   "isInternetEnabled": true,
   "language": "python",
   "sourceType": "notebook"
  },
  "kernelspec": {
   "display_name": "Python 3",
   "language": "python",
   "name": "python3"
  },
  "language_info": {
   "codemirror_mode": {
    "name": "ipython",
    "version": 3
   },
   "file_extension": ".py",
   "mimetype": "text/x-python",
   "name": "python",
   "nbconvert_exporter": "python",
   "pygments_lexer": "ipython3",
   "version": "3.10.12"
  },
  "papermill": {
   "default_parameters": {},
   "duration": 90.037869,
   "end_time": "2023-11-28T12:06:58.796631",
   "environment_variables": {},
   "exception": null,
   "input_path": "__notebook__.ipynb",
   "output_path": "__notebook__.ipynb",
   "parameters": {},
   "start_time": "2023-11-28T12:05:28.758762",
   "version": "2.4.0"
  }
 },
 "nbformat": 4,
 "nbformat_minor": 5
}
